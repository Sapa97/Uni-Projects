{
 "cells": [
  {
   "cell_type": "markdown",
   "metadata": {},
   "source": [
    "1. Import Packages"
   ]
  },
  {
   "cell_type": "code",
   "execution_count": 59,
   "metadata": {},
   "outputs": [],
   "source": [
    "import pandas as pd\n",
    "import numpy as np\n",
    "import os\n",
    "import matplotlib.pyplot as plt\n",
    "%matplotlib inline\n",
    "import warnings\n",
    "warnings.filterwarnings('ignore')\n",
    "from nltk.tokenize import RegexpTokenizer  \n",
    "from nltk.corpus import stopwords\n",
    "from nltk.stem.snowball import SnowballStemmer\n",
    "from sklearn.feature_extraction.text import CountVectorizer\n",
    "from sklearn.model_selection import train_test_split\n",
    "from sklearn.naive_bayes import MultinomialNB\n",
    "from sklearn.metrics import accuracy_score, confusion_matrix, classification_report\n",
    "from sklearn.feature_extraction.text import TfidfVectorizer\n",
    "import chart_studio.plotly as py\n",
    "from plotly.graph_objs import *\n",
    "from sklearn.linear_model import LogisticRegression\n",
    "from sklearn.metrics import precision_recall_fscore_support"
   ]
  },
  {
   "cell_type": "markdown",
   "metadata": {},
   "source": [
    "2. Import data"
   ]
  },
  {
   "cell_type": "code",
   "execution_count": 2,
   "metadata": {},
   "outputs": [],
   "source": [
    "os.chdir(\"/Users/andreasabia/Documents/ESCP/NLP\")"
   ]
  },
  {
   "cell_type": "code",
   "execution_count": 3,
   "metadata": {},
   "outputs": [],
   "source": [
    "data = pd.read_csv(\"./spam.csv\",encoding='latin-1', usecols=[\"v1\",\"v2\"])"
   ]
  },
  {
   "cell_type": "markdown",
   "metadata": {},
   "source": [
    "3. Explore data and clean"
   ]
  },
  {
   "cell_type": "code",
   "execution_count": 5,
   "metadata": {},
   "outputs": [],
   "source": [
    "data = data.rename(columns={\"v1\":\"label\", \"v2\":\"text\"})"
   ]
  },
  {
   "cell_type": "markdown",
   "metadata": {},
   "source": [
    "Convert labels to numerical variables"
   ]
  },
  {
   "cell_type": "code",
   "execution_count": 9,
   "metadata": {},
   "outputs": [],
   "source": [
    "data['label_num'] = data.label.map({'ham':0, 'spam':1})\n",
    "#from sklearn.preprocessing import LabelEncoder\n",
    "#le = LabelEncoder()\n",
    "#le.fit(data['label'])\n",
    "#label = le.transform(data['label'])\n",
    "#print(np.unique(label))\n",
    "#print(np.unique(data['label_num']))"
   ]
  },
  {
   "cell_type": "code",
   "execution_count": 10,
   "metadata": {},
   "outputs": [
    {
     "name": "stdout",
     "output_type": "stream",
     "text": [
      "  label                                               text  label_num\n",
      "0   ham  Go until jurong point, crazy.. Available only ...          0\n",
      "1   ham                      Ok lar... Joking wif u oni...          0\n",
      "2  spam  Free entry in 2 a wkly comp to win FA Cup fina...          1\n",
      "3   ham  U dun say so early hor... U c already then say...          0\n",
      "4   ham  Nah I don't think he goes to usf, he lives aro...          0\n",
      "(5572, 3)\n",
      "ham     4825\n",
      "spam     747\n",
      "Name: label, dtype: int64\n"
     ]
    }
   ],
   "source": [
    "print(data.head())\n",
    "print(data.shape)\n",
    "print(data.label.value_counts())"
   ]
  },
  {
   "cell_type": "markdown",
   "metadata": {},
   "source": [
    "### Modeling"
   ]
  },
  {
   "cell_type": "code",
   "execution_count": 11,
   "metadata": {},
   "outputs": [],
   "source": [
    "X_train,X_test,y_train,y_test = train_test_split(data[\"text\"],data[\"label_num\"], test_size = 0.2, random_state = 42)"
   ]
  },
  {
   "cell_type": "code",
   "execution_count": 12,
   "metadata": {},
   "outputs": [
    {
     "name": "stdout",
     "output_type": "stream",
     "text": [
      "(4457,)\n",
      "(1115,)\n",
      "(4457,)\n",
      "(1115,)\n"
     ]
    }
   ],
   "source": [
    "print(X_train.shape)\n",
    "print(X_test.shape)\n",
    "print(y_train.shape)\n",
    "print(y_test.shape)"
   ]
  },
  {
   "cell_type": "markdown",
   "metadata": {},
   "source": [
    "4.1 Using Raw count features"
   ]
  },
  {
   "cell_type": "code",
   "execution_count": 13,
   "metadata": {},
   "outputs": [],
   "source": [
    "vect = CountVectorizer()"
   ]
  },
  {
   "cell_type": "code",
   "execution_count": 14,
   "metadata": {},
   "outputs": [
    {
     "data": {
      "text/plain": [
       "CountVectorizer(analyzer='word', binary=False, decode_error='strict',\n",
       "                dtype=<class 'numpy.int64'>, encoding='utf-8', input='content',\n",
       "                lowercase=True, max_df=1.0, max_features=None, min_df=1,\n",
       "                ngram_range=(1, 1), preprocessor=None, stop_words=None,\n",
       "                strip_accents=None, token_pattern='(?u)\\\\b\\\\w\\\\w+\\\\b',\n",
       "                tokenizer=None, vocabulary=None)"
      ]
     },
     "execution_count": 14,
     "metadata": {},
     "output_type": "execute_result"
    }
   ],
   "source": [
    "vect.fit(X_train)"
   ]
  },
  {
   "cell_type": "code",
   "execution_count": 15,
   "metadata": {},
   "outputs": [
    {
     "name": "stdout",
     "output_type": "stream",
     "text": [
      "['00', '000', '000pes', '008704050406', '0089', '0121', '01223585236', '0125698789', '02', '0207']\n",
      "['ìï', 'û_', 'û_thanks', 'ûªm', 'ûªt', 'ûªve', 'ûï', 'ûïharry', 'ûò', 'ûówell']\n"
     ]
    }
   ],
   "source": [
    "print(vect.get_feature_names()[0:10])\n",
    "print(vect.get_feature_names()[-10:])"
   ]
  },
  {
   "cell_type": "code",
   "execution_count": 16,
   "metadata": {},
   "outputs": [
    {
     "name": "stdout",
     "output_type": "stream",
     "text": [
      "Vocabulary size: 7735\n"
     ]
    }
   ],
   "source": [
    "print(\"Vocabulary size: {}\".format(len(vect.vocabulary_)))\n",
    "#print(\"Vocabulary content:\\n {}\".format(vect.vocabulary_))"
   ]
  },
  {
   "cell_type": "code",
   "execution_count": 17,
   "metadata": {},
   "outputs": [],
   "source": [
    "X_train_df = vect.transform(X_train)\n",
    "X_test_df = vect.transform(X_test)"
   ]
  },
  {
   "cell_type": "markdown",
   "metadata": {},
   "source": [
    "4.1.1 MultinomialNB"
   ]
  },
  {
   "cell_type": "code",
   "execution_count": 18,
   "metadata": {},
   "outputs": [
    {
     "data": {
      "text/plain": [
       "MultinomialNB(alpha=1.0, class_prior=None, fit_prior=True)"
      ]
     },
     "execution_count": 18,
     "metadata": {},
     "output_type": "execute_result"
    }
   ],
   "source": [
    "prediction = dict()\n",
    "model = MultinomialNB()\n",
    "model.fit(X_train_df,y_train)"
   ]
  },
  {
   "cell_type": "code",
   "execution_count": 19,
   "metadata": {},
   "outputs": [],
   "source": [
    "prediction[\"Multinomial\"] = model.predict(X_test_df)"
   ]
  },
  {
   "cell_type": "code",
   "execution_count": 27,
   "metadata": {},
   "outputs": [
    {
     "data": {
      "text/plain": [
       "0.9839"
      ]
     },
     "execution_count": 27,
     "metadata": {},
     "output_type": "execute_result"
    }
   ],
   "source": [
    "round(accuracy_score(y_test,prediction[\"Multinomial\"]),4)"
   ]
  },
  {
   "cell_type": "code",
   "execution_count": 28,
   "metadata": {},
   "outputs": [
    {
     "name": "stdout",
     "output_type": "stream",
     "text": [
      "              precision    recall  f1-score   support\n",
      "\n",
      "           0       0.98      1.00      0.99       965\n",
      "           1       0.99      0.89      0.94       150\n",
      "\n",
      "    accuracy                           0.98      1115\n",
      "   macro avg       0.98      0.95      0.96      1115\n",
      "weighted avg       0.98      0.98      0.98      1115\n",
      "\n"
     ]
    }
   ],
   "source": [
    "print(classification_report(y_test,prediction[\"Multinomial\"]))"
   ]
  },
  {
   "cell_type": "code",
   "execution_count": 29,
   "metadata": {},
   "outputs": [
    {
     "name": "stdout",
     "output_type": "stream",
     "text": [
      "[[963   2]\n",
      " [ 16 134]]\n"
     ]
    }
   ],
   "source": [
    "conf_mat = confusion_matrix(y_test, prediction['Multinomial'])\n",
    "print(conf_mat)"
   ]
  },
  {
   "cell_type": "code",
   "execution_count": 30,
   "metadata": {},
   "outputs": [
    {
     "name": "stdout",
     "output_type": "stream",
     "text": [
      "[[0.99792746 0.00207254]\n",
      " [0.10666667 0.89333333]]\n"
     ]
    }
   ],
   "source": [
    "conf_mat_normalized = conf_mat.astype('float') / conf_mat.sum(axis=1)[:, np.newaxis]\n",
    "print(conf_mat_normalized)"
   ]
  },
  {
   "cell_type": "code",
   "execution_count": 33,
   "metadata": {},
   "outputs": [
    {
     "name": "stdout",
     "output_type": "stream",
     "text": [
      "train score: 0.9944\n",
      "test score: 0.9839\n"
     ]
    }
   ],
   "source": [
    "print(\"train score:\", round(model.score(X_train_df, y_train),4))\n",
    "print(\"test score:\", round(model.score(X_test_df, y_test),4))"
   ]
  },
  {
   "cell_type": "markdown",
   "metadata": {},
   "source": [
    "4.1.2 Logistic Regression"
   ]
  },
  {
   "cell_type": "code",
   "execution_count": 35,
   "metadata": {},
   "outputs": [
    {
     "data": {
      "text/plain": [
       "LogisticRegression(C=1.0, class_weight=None, dual=False, fit_intercept=True,\n",
       "                   intercept_scaling=1, l1_ratio=None, max_iter=100,\n",
       "                   multi_class='auto', n_jobs=None, penalty='l2',\n",
       "                   random_state=None, solver='lbfgs', tol=0.0001, verbose=0,\n",
       "                   warm_start=False)"
      ]
     },
     "execution_count": 35,
     "metadata": {},
     "output_type": "execute_result"
    }
   ],
   "source": [
    "logmodel=LogisticRegression()\n",
    "logmodel.fit(X_train_df,y_train)"
   ]
  },
  {
   "cell_type": "code",
   "execution_count": 36,
   "metadata": {},
   "outputs": [],
   "source": [
    "prediction[\"LR\"] = logmodel.predict(X_test_df)"
   ]
  },
  {
   "cell_type": "code",
   "execution_count": 42,
   "metadata": {},
   "outputs": [
    {
     "name": "stdout",
     "output_type": "stream",
     "text": [
      "0.9785\n",
      "              precision    recall  f1-score   support\n",
      "\n",
      "           0       0.98      1.00      0.99       965\n",
      "           1       1.00      0.84      0.91       150\n",
      "\n",
      "    accuracy                           0.98      1115\n",
      "   macro avg       0.99      0.92      0.95      1115\n",
      "weighted avg       0.98      0.98      0.98      1115\n",
      "\n",
      "[[965   0]\n",
      " [ 24 126]]\n",
      "[[1.   0.  ]\n",
      " [0.16 0.84]]\n",
      "train score: 0.9984\n",
      "test score: 0.9785\n"
     ]
    }
   ],
   "source": [
    "print(round(accuracy_score(y_test,prediction[\"LR\"]),4))\n",
    "\n",
    "print(classification_report(y_test,prediction[\"LR\"]))\n",
    "\n",
    "conf_mat = confusion_matrix(y_test, prediction['LR'])\n",
    "print(conf_mat)\n",
    "conf_mat_normalized = conf_mat.astype('float') / conf_mat.sum(axis=1)[:, np.newaxis]\n",
    "\n",
    "print(conf_mat_normalized)\n",
    "\n",
    "print(\"train score:\", round(logmodel.score(X_train_df, y_train),4))\n",
    "print(\"test score:\", round(logmodel.score(X_test_df, y_test),4))"
   ]
  },
  {
   "cell_type": "markdown",
   "metadata": {},
   "source": [
    "4.2 TF-IDF"
   ]
  },
  {
   "cell_type": "code",
   "execution_count": 43,
   "metadata": {},
   "outputs": [],
   "source": [
    "A_train,A_test,b_train,b_test = train_test_split(data[\"text\"],data[\"label_num\"], test_size = 0.2, random_state = 42)"
   ]
  },
  {
   "cell_type": "code",
   "execution_count": 45,
   "metadata": {},
   "outputs": [],
   "source": [
    "vectorizer = TfidfVectorizer(stop_words='english')\n",
    "TFIDF_train_x = vectorizer.fit_transform(A_train)\n",
    "tfidf_test_x = vectorizer.transform(A_test)"
   ]
  },
  {
   "cell_type": "markdown",
   "metadata": {},
   "source": [
    "4.2.1 Logistic Regression"
   ]
  },
  {
   "cell_type": "code",
   "execution_count": 47,
   "metadata": {
    "scrolled": true
   },
   "outputs": [
    {
     "data": {
      "text/plain": [
       "LogisticRegression(C=1.0, class_weight=None, dual=False, fit_intercept=True,\n",
       "                   intercept_scaling=1, l1_ratio=None, max_iter=100,\n",
       "                   multi_class='auto', n_jobs=None, penalty='l2',\n",
       "                   random_state=None, solver='lbfgs', tol=0.0001, verbose=0,\n",
       "                   warm_start=False)"
      ]
     },
     "execution_count": 47,
     "metadata": {},
     "output_type": "execute_result"
    }
   ],
   "source": [
    "classifier = LogisticRegression()\n",
    "classifier.fit(TFIDF_train_x, b_train)"
   ]
  },
  {
   "cell_type": "code",
   "execution_count": 48,
   "metadata": {},
   "outputs": [],
   "source": [
    "prediction[\"TFIDFLR\"] = classifier.predict(tfidf_test_x)"
   ]
  },
  {
   "cell_type": "code",
   "execution_count": 55,
   "metadata": {},
   "outputs": [
    {
     "name": "stdout",
     "output_type": "stream",
     "text": [
      "0.9525\n",
      "              precision    recall  f1-score   support\n",
      "\n",
      "           0       0.95      1.00      0.97       965\n",
      "           1       0.97      0.67      0.79       150\n",
      "\n",
      "    accuracy                           0.95      1115\n",
      "   macro avg       0.96      0.83      0.88      1115\n",
      "weighted avg       0.95      0.95      0.95      1115\n",
      "\n",
      "[[962   3]\n",
      " [ 50 100]]\n",
      "[[0.99689119 0.00310881]\n",
      " [0.33333333 0.66666667]]\n",
      "train score: 0.9695\n",
      "test score: 0.9525\n"
     ]
    }
   ],
   "source": [
    "print(round(accuracy_score(b_test,prediction[\"TFIDFLR\"]),4))\n",
    "\n",
    "print(classification_report(b_test,prediction[\"TFIDFLR\"]))\n",
    "\n",
    "conf_mat = confusion_matrix(b_test, prediction['TFIDFLR'])\n",
    "print(conf_mat)\n",
    "conf_mat_normalized = conf_mat.astype('float') / conf_mat.sum(axis=1)[:, np.newaxis]\n",
    "\n",
    "print(conf_mat_normalized)\n",
    "\n",
    "print(\"train score:\", round(classifier.score(TFIDF_train_x, b_train),4))\n",
    "print(\"test score:\", round(classifier.score(tfidf_test_x, b_test),4))"
   ]
  },
  {
   "cell_type": "markdown",
   "metadata": {},
   "source": [
    "4.2.2 MultinomialNB"
   ]
  },
  {
   "cell_type": "code",
   "execution_count": 53,
   "metadata": {
    "scrolled": true
   },
   "outputs": [
    {
     "data": {
      "text/plain": [
       "MultinomialNB(alpha=1.0, class_prior=None, fit_prior=True)"
      ]
     },
     "execution_count": 53,
     "metadata": {},
     "output_type": "execute_result"
    }
   ],
   "source": [
    "model2 = MultinomialNB()\n",
    "model2.fit(TFIDF_train_x,b_train)"
   ]
  },
  {
   "cell_type": "code",
   "execution_count": 54,
   "metadata": {},
   "outputs": [],
   "source": [
    "prediction[\"TFIDFNB\"] = model2.predict(tfidf_test_x)"
   ]
  },
  {
   "cell_type": "code",
   "execution_count": 58,
   "metadata": {},
   "outputs": [
    {
     "name": "stdout",
     "output_type": "stream",
     "text": [
      "0.9668\n",
      "              precision    recall  f1-score   support\n",
      "\n",
      "           0       0.96      1.00      0.98       965\n",
      "           1       1.00      0.75      0.86       150\n",
      "\n",
      "    accuracy                           0.97      1115\n",
      "   macro avg       0.98      0.88      0.92      1115\n",
      "weighted avg       0.97      0.97      0.96      1115\n",
      "\n",
      "[[965   0]\n",
      " [ 37 113]]\n",
      "[[1.         0.        ]\n",
      " [0.24666667 0.75333333]]\n",
      "train score: 0.9838\n",
      "test score: 0.9668\n"
     ]
    }
   ],
   "source": [
    "print(round(accuracy_score(b_test,prediction[\"TFIDFNB\"]),4))\n",
    "\n",
    "print(classification_report(b_test,prediction[\"TFIDFNB\"]))\n",
    "\n",
    "conf_mat = confusion_matrix(b_test, prediction['TFIDFNB'])\n",
    "print(conf_mat)\n",
    "conf_mat_normalized = conf_mat.astype('float') / conf_mat.sum(axis=1)[:, np.newaxis]\n",
    "\n",
    "print(conf_mat_normalized)\n",
    "\n",
    "print(\"train score:\", round(model2.score(TFIDF_train_x, b_train),4))\n",
    "print(\"test score:\", round(model2.score(tfidf_test_x, b_test),4))"
   ]
  },
  {
   "cell_type": "code",
   "execution_count": 162,
   "metadata": {},
   "outputs": [
    {
     "data": {
      "text/plain": [
       "0.9668161434977578"
      ]
     },
     "execution_count": 162,
     "metadata": {},
     "output_type": "execute_result"
    }
   ],
   "source": [
    "accuracy_score(y_test,prediction[\"TFIDFNB\"])"
   ]
  },
  {
   "cell_type": "code",
   "execution_count": 143,
   "metadata": {},
   "outputs": [
    {
     "data": {
      "text/plain": [
       "0.9202526091150369"
      ]
     },
     "execution_count": 143,
     "metadata": {},
     "output_type": "execute_result"
    }
   ],
   "source": [
    "precision_recall_fscore_support(y_test,prediction[\"TFIDFNB\"])[2].mean()"
   ]
  },
  {
   "cell_type": "markdown",
   "metadata": {},
   "source": [
    "### Visualization"
   ]
  },
  {
   "cell_type": "code",
   "execution_count": 60,
   "metadata": {},
   "outputs": [],
   "source": [
    "py.sign_in('xxx', 'xxx')\n",
    "trace1 = {\n",
    "  \"name\": \"Accuracy\", \n",
    "  \"type\": \"bar\", \n",
    "  \"x\": [\"V NB\", \"V LR\", \"TF NB\", \"TF LR\"], \n",
    "  \"y\": [accuracy_score(y_test,prediction[\"Multinomial\"]), accuracy_score(y_test,prediction[\"LR\"]),\\\n",
    "        accuracy_score(y_test,prediction[\"TFIDFNB\"]), accuracy_score(y_test,prediction[\"TFIDFLR\"])]\n",
    "}\n",
    "trace2 = {\n",
    "  \"name\": \"Precision\", \n",
    "  \"type\": \"bar\", \n",
    "  \"x\": [\"V NB\", \"V LR\", \"TF NB\", \"TF LR\"], \n",
    "  \"y\": [precision_recall_fscore_support(y_test,prediction[\"Multinomial\"])[0][0],precision_recall_fscore_support(y_test,prediction[\"LR\"])[0][0],\\\n",
    "        precision_recall_fscore_support(y_test,prediction[\"TFIDFNB\"])[0][0],precision_recall_fscore_support(y_test,prediction[\"TFIDFLR\"])[0][0]]\n",
    "}\n",
    "trace3 = {\n",
    "  \"name\": \"Recall\", \n",
    "  \"type\": \"bar\", \n",
    "  \"x\": [\"V NB\", \"V LR\", \"TF NB\", \"TF LR\"], \n",
    "  \"y\": [precision_recall_fscore_support(y_test,prediction[\"Multinomial\"])[1][1],precision_recall_fscore_support(y_test,prediction[\"LR\"])[1][1],\\\n",
    "        precision_recall_fscore_support(y_test,prediction[\"TFIDFNB\"])[1][1],precision_recall_fscore_support(y_test,prediction[\"TFIDFLR\"])[1][1]]\n",
    "}\n",
    "trace4 = {\n",
    "  \"name\": \"F1 Score\", \n",
    "  \"type\": \"bar\", \n",
    "  \"x\": [\"V NB\", \"V LR\", \"TF NB\", \"TF LR\"], \n",
    "  \"y\": [precision_recall_fscore_support(y_test,prediction[\"Multinomial\"])[2].mean(),precision_recall_fscore_support(y_test,prediction[\"LR\"])[2].mean(),\\\n",
    "        precision_recall_fscore_support(y_test,prediction[\"TFIDFNB\"])[2].mean(),precision_recall_fscore_support(y_test,prediction[\"TFIDFLR\"])[2].mean()]\n",
    "}\n",
    "data = Data([trace1, trace2, trace3, trace4])\n",
    "layout = {\"barmode\": \"group\"}\n",
    "fig = Figure(data=data, layout=layout)\n",
    "plot_url = py.plot(fig)"
   ]
  },
  {
   "cell_type": "code",
   "execution_count": 61,
   "metadata": {},
   "outputs": [],
   "source": [
    "vis=pd.DataFrame()"
   ]
  },
  {
   "cell_type": "code",
   "execution_count": 62,
   "metadata": {},
   "outputs": [],
   "source": [
    "y= [precision_recall_fscore_support(y_test,prediction[\"Multinomial\"])[0][0],precision_recall_fscore_support(y_test,prediction[\"LR\"])[0][0],\\\n",
    "        precision_recall_fscore_support(y_test,prediction[\"TFIDFNB\"])[0][0],precision_recall_fscore_support(y_test,prediction[\"TFIDFLR\"])[0][0]]"
   ]
  },
  {
   "cell_type": "code",
   "execution_count": 63,
   "metadata": {},
   "outputs": [],
   "source": [
    "b= [accuracy_score(y_test,prediction[\"Multinomial\"]), accuracy_score(y_test,prediction[\"LR\"]),\\\n",
    "        accuracy_score(y_test,prediction[\"TFIDFNB\"]), accuracy_score(y_test,prediction[\"TFIDFLR\"])]"
   ]
  },
  {
   "cell_type": "code",
   "execution_count": 64,
   "metadata": {},
   "outputs": [],
   "source": [
    "a= [precision_recall_fscore_support(y_test,prediction[\"Multinomial\"])[1][1],precision_recall_fscore_support(y_test,prediction[\"LR\"])[1][1],\\\n",
    "        precision_recall_fscore_support(y_test,prediction[\"TFIDFNB\"])[1][1],precision_recall_fscore_support(y_test,prediction[\"TFIDFLR\"])[1][1]]"
   ]
  },
  {
   "cell_type": "code",
   "execution_count": 65,
   "metadata": {},
   "outputs": [],
   "source": [
    "c= [precision_recall_fscore_support(y_test,prediction[\"Multinomial\"])[2].mean(),precision_recall_fscore_support(y_test,prediction[\"LR\"])[2].mean(),\\\n",
    "        precision_recall_fscore_support(y_test,prediction[\"TFIDFNB\"])[2].mean(),precision_recall_fscore_support(y_test,prediction[\"TFIDFLR\"])[2].mean()]"
   ]
  },
  {
   "cell_type": "code",
   "execution_count": 67,
   "metadata": {},
   "outputs": [],
   "source": [
    "vis[\"Accuracy\"]=b"
   ]
  },
  {
   "cell_type": "code",
   "execution_count": 68,
   "metadata": {},
   "outputs": [],
   "source": [
    "vis[\"Recall\"]=a"
   ]
  },
  {
   "cell_type": "code",
   "execution_count": 69,
   "metadata": {},
   "outputs": [],
   "source": [
    "vis[\"Precision\"]=y"
   ]
  },
  {
   "cell_type": "code",
   "execution_count": 70,
   "metadata": {},
   "outputs": [],
   "source": [
    "vis[\"F1\"]=c"
   ]
  },
  {
   "cell_type": "code",
   "execution_count": 71,
   "metadata": {},
   "outputs": [],
   "source": [
    "vis[\"Model\"]=[\"VNB\",\"VLR\",\"TFNB\",\"TFLR\"]"
   ]
  },
  {
   "cell_type": "code",
   "execution_count": 72,
   "metadata": {},
   "outputs": [],
   "source": [
    "vis.set_index(vis.Model, inplace=True)"
   ]
  },
  {
   "cell_type": "code",
   "execution_count": 73,
   "metadata": {},
   "outputs": [
    {
     "data": {
      "text/html": [
       "<div>\n",
       "<style scoped>\n",
       "    .dataframe tbody tr th:only-of-type {\n",
       "        vertical-align: middle;\n",
       "    }\n",
       "\n",
       "    .dataframe tbody tr th {\n",
       "        vertical-align: top;\n",
       "    }\n",
       "\n",
       "    .dataframe thead th {\n",
       "        text-align: right;\n",
       "    }\n",
       "</style>\n",
       "<table border=\"1\" class=\"dataframe\">\n",
       "  <thead>\n",
       "    <tr style=\"text-align: right;\">\n",
       "      <th></th>\n",
       "      <th>Accuracy</th>\n",
       "      <th>Recall</th>\n",
       "      <th>Precision</th>\n",
       "      <th>F1</th>\n",
       "      <th>Model</th>\n",
       "    </tr>\n",
       "    <tr>\n",
       "      <th>Model</th>\n",
       "      <th></th>\n",
       "      <th></th>\n",
       "      <th></th>\n",
       "      <th></th>\n",
       "      <th></th>\n",
       "    </tr>\n",
       "  </thead>\n",
       "  <tbody>\n",
       "    <tr>\n",
       "      <td>VNB</td>\n",
       "      <td>0.983857</td>\n",
       "      <td>0.893333</td>\n",
       "      <td>0.983657</td>\n",
       "      <td>0.963902</td>\n",
       "      <td>VNB</td>\n",
       "    </tr>\n",
       "    <tr>\n",
       "      <td>VLR</td>\n",
       "      <td>0.978475</td>\n",
       "      <td>0.840000</td>\n",
       "      <td>0.975733</td>\n",
       "      <td>0.950380</td>\n",
       "      <td>VLR</td>\n",
       "    </tr>\n",
       "    <tr>\n",
       "      <td>TFNB</td>\n",
       "      <td>0.966816</td>\n",
       "      <td>0.753333</td>\n",
       "      <td>0.963074</td>\n",
       "      <td>0.920253</td>\n",
       "      <td>TFNB</td>\n",
       "    </tr>\n",
       "    <tr>\n",
       "      <td>TFLR</td>\n",
       "      <td>0.952466</td>\n",
       "      <td>0.666667</td>\n",
       "      <td>0.950593</td>\n",
       "      <td>0.881853</td>\n",
       "      <td>TFLR</td>\n",
       "    </tr>\n",
       "  </tbody>\n",
       "</table>\n",
       "</div>"
      ],
      "text/plain": [
       "       Accuracy    Recall  Precision        F1 Model\n",
       "Model                                               \n",
       "VNB    0.983857  0.893333   0.983657  0.963902   VNB\n",
       "VLR    0.978475  0.840000   0.975733  0.950380   VLR\n",
       "TFNB   0.966816  0.753333   0.963074  0.920253  TFNB\n",
       "TFLR   0.952466  0.666667   0.950593  0.881853  TFLR"
      ]
     },
     "execution_count": 73,
     "metadata": {},
     "output_type": "execute_result"
    }
   ],
   "source": [
    "vis"
   ]
  },
  {
   "cell_type": "code",
   "execution_count": 107,
   "metadata": {},
   "outputs": [
    {
     "data": {
      "image/png": "[encoded data removed]",
      "text/plain": [
       "<Figure size 1440x720 with 1 Axes>"
      ]
     },
     "metadata": {
      "needs_background": "light"
     },
     "output_type": "display_data"
    }
   ],
   "source": [
    "ax=vis.plot.bar(figsize=(20,10))\n",
    "for p in ax.patches:\n",
    "    ax.annotate(str((p.get_height()*100).round(2)), (p.get_x() * 1.005, p.get_height() * 1.005))\n",
    "\n",
    "for tick in ax.get_xticklabels():\n",
    "    tick.set_rotation(45)\n",
    "\n",
    "plt.title(\"Model Comparison\")\n",
    "plt.show()"
   ]
  },
  {
   "cell_type": "markdown",
   "metadata": {},
   "source": [
    "We can see from the above graph that Naive Bayes model with CountVectorizer is the most accurate model, with highest recall and precision!"
   ]
  },
  {
   "cell_type": "markdown",
   "metadata": {},
   "source": [
    "### Features importance\n",
    "I don't really know how to find the importance of the features. I found the codes below online, but intuitively they seem incorrect. I hope you could explain this better!"
   ]
  },
  {
   "cell_type": "code",
   "execution_count": 108,
   "metadata": {},
   "outputs": [],
   "source": [
    "feature_array = np.array(vect.get_feature_names())\n",
    "tfidf_sorting = np.argsort(TFIDF_train_x.toarray()).flatten()[::-1]"
   ]
  },
  {
   "cell_type": "code",
   "execution_count": 110,
   "metadata": {},
   "outputs": [
    {
     "data": {
      "text/plain": [
       "array(['map', 'vs', 'gamestar', 'whore', 'dumb', 'dual', 'dub', 'dubsack',\n",
       "       'duchess', 'ducking', 'dude', 'dudes', 'dudette', 'due', 'duffer',\n",
       "       'dull', 'dungerees', 'dun', 'dsn', 'dunno', 'duo', 'durban',\n",
       "       'durham', 'during', 'dusk', 'dust', 'dvd', 'dvg', 'dwn', 'dt',\n",
       "       'dryer', 'dysentry', 'dry', 'dreams', 'dreamz', 'dress', 'dressed',\n",
       "       'dresser', 'drink', 'drinkin', 'drinking', 'drinks', 'drivby',\n",
       "       'drive', 'driver', 'drivin', 'driving', 'drms', 'drop', 'dropped'],\n",
       "      dtype='<U34')"
      ]
     },
     "execution_count": 110,
     "metadata": {},
     "output_type": "execute_result"
    }
   ],
   "source": [
    "n = 50\n",
    "top_n = feature_array[tfidf_sorting][:n]\n",
    "top_n"
   ]
  },
  {
   "cell_type": "code",
   "execution_count": 115,
   "metadata": {},
   "outputs": [],
   "source": [
    "ham = model.feature_log_prob_[0, :].argsort()\n",
    "spam = model.feature_log_prob_[1, :].argsort()"
   ]
  },
  {
   "cell_type": "code",
   "execution_count": 121,
   "metadata": {},
   "outputs": [
    {
     "name": "stdout",
     "output_type": "stream",
     "text": [
      "['00' 'randy' 'band' 'themob' 'lingerie' 'lines' 'linerental' 'd3wv'\n",
      " 'global' 'eire' 'orno' 'cw25wx' 'bailiff' 'bahamas' 'dogs' 'gnarls'\n",
      " 'rally' 'badass' 'thirtyeight' 'go2' 'backdoor' 'thnq' 'lily' 'gmw'\n",
      " 'bangb' 'bangbabes' 'lionm' 'lnly' 'termsapply' 'getzed' 'llc'\n",
      " 'lkpobox177hp51fl' 'ghost' 'liverpool' 'customersqueries' 'text82228'\n",
      " 'textbuddy' 'textcomp' 'textoperator' 'textpod']\n",
      "['jump' 'ned' 'necklace' 'neck' 'necessity' 'necessary' 'necessarily'\n",
      " 'necesity' 'nearly' 'nearer' 'near' 'ne' 'ndship' 'nbme' 'nb' 'nav'\n",
      " 'nauseous' 'naughty' 'natwest' 'nature' 'natural' 'nattil' 'needa'\n",
      " 'nationwide' 'needed' 'needle' 'ni8' 'newspapers' 'newscaster' 'newquay'\n",
      " 'newport' 'neway' 'nevr' 'nevering' 'neva' 'networking' 'nething'\n",
      " 'netflix' 'neshanth' 'nervous']\n"
     ]
    }
   ],
   "source": [
    "print(np.take(vect.get_feature_names(), ham[:40]))\n",
    "print(np.take(vect.get_feature_names(), spam[:40]))"
   ]
  }
 ],
 "metadata": {
  "kernelspec": {
   "display_name": "Python 3",
   "language": "python",
   "name": "python3"
  },
  "language_info": {
   "codemirror_mode": {
    "name": "ipython",
    "version": 3
   },
   "file_extension": ".py",
   "mimetype": "text/x-python",
   "name": "python",
   "nbconvert_exporter": "python",
   "pygments_lexer": "ipython3",
   "version": "3.7.4"
  }
 },
 "nbformat": 4,
 "nbformat_minor": 2
}
