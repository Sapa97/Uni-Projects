{
 "cells": [
  {
   "cell_type": "code",
   "execution_count": 1,
   "metadata": {},
   "outputs": [],
   "source": [
    "#Import all needed packages\n",
    "import os\n",
    "import numpy as np\n",
    "import pandas as pd\n",
    "import matplotlib.pyplot as plt\n",
    "from sklearn import preprocessing\n",
    "import collections\n",
    "from sklearn.model_selection import train_test_split\n",
    "from sklearn.metrics import confusion_matrix\n",
    "from imblearn.over_sampling import SMOTE\n",
    "from collections import Counter\n",
    "from sklearn.metrics import classification_report\n",
    "from sklearn.linear_model import LogisticRegression\n",
    "from sklearn.ensemble import RandomForestClassifier\n",
    "from imblearn.under_sampling import ClusterCentroids\n",
    "from imblearn.under_sampling import RandomUnderSampler\n",
    "from sklearn.metrics import plot_roc_curve\n",
    "import xgboost as xgb\n",
    "from sklearn.metrics import accuracy_score\n",
    "from sklearn.ensemble import GradientBoostingClassifier"
   ]
  },
  {
   "cell_type": "code",
   "execution_count": 2,
   "metadata": {},
   "outputs": [],
   "source": [
    "#Set Working Directory\n",
    "os.chdir(\"/Users/andreasabia/Documents/ESCP/Machine Learning With Python\")\n",
    "#Import data\n",
    "data=pd.read_csv('train.csv')"
   ]
  },
  {
   "cell_type": "code",
   "execution_count": 3,
   "metadata": {},
   "outputs": [
    {
     "name": "stdout",
     "output_type": "stream",
     "text": [
      "   label   id  visitTime  purchaseTime  hour          C1          C2  \\\n",
      "0     -1   37   19274330            -1     0  2569487005  1830830742   \n",
      "1     -1   55   19274334            -1     0  3191875643   403381353   \n",
      "2     -1  114   19274353            -1     0  2634604934   403381353   \n",
      "3     -1  128   19274358            -1     0  2569487005   403381353   \n",
      "4     -1  164   19274367            -1     0  2569487005   403381353   \n",
      "\n",
      "           C3         C4          C5  ...  N4  N5  N6  N7  N8  N9  N10  \\\n",
      "0  4228834423  652481754  2967512603  ...   0   0   0   0   0   0    0   \n",
      "1  1238330876  652481754  2967512603  ...   0   0   0   0   1   0    0   \n",
      "2  1928325921  652481754  2967512603  ...   0   0   0   0   0   0    0   \n",
      "3   296915027  652481754  2967512603  ...   0   0   0   0   0   0    0   \n",
      "4   681762206  652481754  2967512603  ...   0   0   0   0   0   0    0   \n",
      "\n",
      "          C10         C11         C12  \n",
      "0   419316267  3617851689  4220791646  \n",
      "1  1968545380  3831440054  1213938795  \n",
      "2  1405802835  2379633508  1284343215  \n",
      "3  2299319102  3617851689  4220791646  \n",
      "4  1306075469  3617851689  4220791646  \n",
      "\n",
      "[5 rows x 27 columns]\n",
      "(31428, 27)\n"
     ]
    }
   ],
   "source": [
    "#Exploring Data\n",
    "print(data.head())\n",
    "print(data.shape)"
   ]
  },
  {
   "cell_type": "code",
   "execution_count": 4,
   "metadata": {},
   "outputs": [
    {
     "name": "stdout",
     "output_type": "stream",
     "text": [
      "---- label ---\n",
      "-1    31371\n",
      " 1       57\n",
      "Name: label, dtype: int64\n",
      "---- id ---\n",
      "399357    1\n",
      "159399    1\n",
      "525994    1\n",
      "278189    1\n",
      "448176    1\n",
      "         ..\n",
      "68628     1\n",
      "590869    1\n",
      "476883    1\n",
      "5143      1\n",
      "327680    1\n",
      "Name: id, Length: 31428, dtype: int64\n",
      "---- visitTime ---\n",
      "19328699    6\n",
      "19319226    6\n",
      "19325796    5\n",
      "19314062    5\n",
      "19310993    5\n",
      "           ..\n",
      "19310525    1\n",
      "19283902    1\n",
      "19314623    1\n",
      "19318721    1\n",
      "19300352    1\n",
      "Name: visitTime, Length: 24587, dtype: int64\n",
      "---- purchaseTime ---\n",
      "-1           31371\n",
      " 19307708        1\n",
      " 19319002        1\n",
      " 19306613        1\n",
      " 19298361        1\n",
      " 19330955        1\n",
      " 19318637        1\n",
      " 19324431        1\n",
      " 19295049        1\n",
      " 19331883        1\n",
      " 19325720        1\n",
      " 19344902        1\n",
      " 19331996        1\n",
      " 19325359        1\n",
      " 19323160        1\n",
      " 19327407        1\n",
      " 19327835        1\n",
      " 19323177        1\n",
      " 19300350        1\n",
      " 19344084        1\n",
      " 19345863        1\n",
      " 19312951        1\n",
      " 19304723        1\n",
      " 19335360        1\n",
      " 19337379        1\n",
      " 19302544        1\n",
      " 19325069        1\n",
      " 19304754        1\n",
      " 19329432        1\n",
      " 19357325        1\n",
      " 19317495        1\n",
      " 19335031        1\n",
      " 19307084        1\n",
      " 19351846        1\n",
      " 19312873        1\n",
      " 19298208        1\n",
      " 19322740        1\n",
      " 19326434        1\n",
      " 19324181        1\n",
      " 19325842        1\n",
      " 19300606        1\n",
      " 19321607        1\n",
      " 19321463        1\n",
      " 19278072        1\n",
      " 19299683        1\n",
      " 19348331        1\n",
      " 19332740        1\n",
      " 19322465        1\n",
      " 19311998        1\n",
      " 19308975        1\n",
      " 19333045        1\n",
      " 19312652        1\n",
      " 19324514        1\n",
      " 19338699        1\n",
      " 19320240        1\n",
      " 19313727        1\n",
      " 19346047        1\n",
      " 19353674        1\n",
      "Name: purchaseTime, dtype: int64\n",
      "---- hour ---\n",
      "9     2531\n",
      "10    2529\n",
      "8     2459\n",
      "11    2292\n",
      "13    2177\n",
      "14    2172\n",
      "12    2153\n",
      "7     2022\n",
      "15    1785\n",
      "17    1764\n",
      "16    1720\n",
      "6     1569\n",
      "18    1219\n",
      "5      998\n",
      "19     953\n",
      "20     879\n",
      "21     587\n",
      "0      348\n",
      "22     322\n",
      "4      249\n",
      "1      240\n",
      "2      214\n",
      "3      193\n",
      "23      53\n",
      "Name: hour, dtype: int64\n",
      "---- C1 ---\n",
      "2569487005    8430\n",
      "2108523568       7\n",
      "2084406919       6\n",
      "3438432991       5\n",
      "256353298        5\n",
      "              ... \n",
      "1427705163       1\n",
      "4180196685       1\n",
      "596547023        1\n",
      "3559230936       1\n",
      "77004800         1\n",
      "Name: C1, Length: 22595, dtype: int64\n",
      "---- C2 ---\n",
      "403381353     11098\n",
      "1235983246     6173\n",
      "2018710401     5397\n",
      "2541203883     3860\n",
      "1830830742     3625\n",
      "1258965892      635\n",
      "2517724481      635\n",
      "2201746798        5\n",
      "Name: C2, dtype: int64\n",
      "---- C3 ---\n",
      "1928325921    1232\n",
      "3475347077    1212\n",
      "2780744710    1179\n",
      "1711803242     936\n",
      "1822656032     536\n",
      "              ... \n",
      "3540895230       1\n",
      "2756181513       1\n",
      "3550862535       1\n",
      "1199484467       1\n",
      "1533319149       1\n",
      "Name: C3, Length: 2863, dtype: int64\n",
      "---- C4 ---\n",
      "652481754     20951\n",
      "2308170622     6081\n",
      "306394936      2844\n",
      "2210625817     1552\n",
      "Name: C4, dtype: int64\n",
      "---- C5 ---\n",
      "2967512603    23045\n",
      "2116767313     8364\n",
      "3955179140       19\n",
      "Name: C5, dtype: int64\n",
      "---- C6 ---\n",
      "571765677     5194\n",
      "2712499304    3835\n",
      "4003458018    1886\n",
      "85977907      1715\n",
      "152923169     1092\n",
      "              ... \n",
      "3390967276      13\n",
      "3912268313      12\n",
      "2116604436       9\n",
      "2762466016       9\n",
      "4088755483       7\n",
      "Name: C6, Length: 84, dtype: int64\n",
      "---- C7 ---\n",
      "2303407174    24113\n",
      "1342367140     4123\n",
      "2411180110     1420\n",
      "730319316       940\n",
      "3649211661      764\n",
      "549342611        68\n",
      "Name: C7, dtype: int64\n",
      "---- C8 ---\n",
      "2374954832    8364\n",
      "157533148     7296\n",
      "2206061889    5809\n",
      "3588031319    5696\n",
      "1804593680    1654\n",
      "434828410      998\n",
      "3999167221     587\n",
      "946099003      369\n",
      "1847029215     147\n",
      "1031653231     116\n",
      "3679482644      77\n",
      "682892729       76\n",
      "1604070580      58\n",
      "1717161695      48\n",
      "1355017680      33\n",
      "3858319324      28\n",
      "3389730139      19\n",
      "4080139522      14\n",
      "1339860380      13\n",
      "4143494761      12\n",
      "3703234237       7\n",
      "912640200        6\n",
      "2166564686       1\n",
      "Name: C8, dtype: int64\n",
      "---- N1 ---\n",
      "0    24705\n",
      "1     2688\n",
      "4     2055\n",
      "2     1094\n",
      "3      735\n",
      "5      151\n",
      "Name: N1, dtype: int64\n",
      "---- C9 ---\n",
      "2226682598    5194\n",
      "4287642944    4854\n",
      "385980380     3835\n",
      "1421481761    1886\n",
      "3329757940    1250\n",
      "387474876     1136\n",
      "2698786965    1069\n",
      "564075893      868\n",
      "2088887026     753\n",
      "1292559885     750\n",
      "1690004026     701\n",
      "3179660634     669\n",
      "3201792078     566\n",
      "3828882129     554\n",
      "3863488499     551\n",
      "1109321325     462\n",
      "3023418412     396\n",
      "1097313503     387\n",
      "2711086415     375\n",
      "4054959403     316\n",
      "3623356211     273\n",
      "3114503497     252\n",
      "2447802683     241\n",
      "399159304      225\n",
      "477276257      221\n",
      "3598157468     203\n",
      "659463149      193\n",
      "114495992      186\n",
      "1266140471     185\n",
      "3427046189     172\n",
      "2013640318     165\n",
      "681031001      162\n",
      "3447573537     151\n",
      "3208948300     149\n",
      "759851699      141\n",
      "3738539033     138\n",
      "3790028721     136\n",
      "1314204074     134\n",
      "986337892      133\n",
      "3898085784     131\n",
      "833114062      127\n",
      "3595738046     119\n",
      "14692648       116\n",
      "1681548983     105\n",
      "2511982975     100\n",
      "561243158       82\n",
      "138171148       76\n",
      "3878556116      72\n",
      "2998031433      68\n",
      "3597794575      62\n",
      "3911032568      58\n",
      "2505381470      53\n",
      "1627260059      47\n",
      "3272771221      44\n",
      "481692728       44\n",
      "999411610       42\n",
      "2598915713      25\n",
      "2286807896       9\n",
      "3310009198       9\n",
      "3311238116       7\n",
      "Name: C9, dtype: int64\n",
      "---- N2 ---\n",
      "0     28370\n",
      "1      1019\n",
      "2       426\n",
      "10      272\n",
      "5       240\n",
      "9       223\n",
      "3       200\n",
      "4       163\n",
      "6       162\n",
      "8       119\n",
      "7       118\n",
      "11       59\n",
      "12       27\n",
      "13       13\n",
      "14       10\n",
      "15        7\n",
      "Name: N2, dtype: int64\n",
      "---- N3 ---\n",
      "0     30032\n",
      "1       637\n",
      "2       230\n",
      "3       136\n",
      "4        71\n",
      "20       59\n",
      "5        58\n",
      "6        39\n",
      "8        31\n",
      "7        22\n",
      "9        19\n",
      "10       16\n",
      "11       14\n",
      "16       11\n",
      "14       10\n",
      "13       10\n",
      "12        9\n",
      "15        9\n",
      "18        8\n",
      "17        4\n",
      "19        3\n",
      "Name: N3, dtype: int64\n",
      "---- N4 ---\n",
      "0     30633\n",
      "1       259\n",
      "2       137\n",
      "3        85\n",
      "20       68\n",
      "4        48\n",
      "6        31\n",
      "5        30\n",
      "10       18\n",
      "7        17\n",
      "8        17\n",
      "13       16\n",
      "9        15\n",
      "11       13\n",
      "12       10\n",
      "14        9\n",
      "17        7\n",
      "19        6\n",
      "15        5\n",
      "18        3\n",
      "16        1\n",
      "Name: N4, dtype: int64\n",
      "---- N5 ---\n",
      "0     31399\n",
      "1        23\n",
      "2         2\n",
      "15        1\n",
      "10        1\n",
      "20        1\n",
      "3         1\n",
      "Name: N5, dtype: int64\n",
      "---- N6 ---\n",
      "0     31272\n",
      "1        48\n",
      "2        18\n",
      "3        18\n",
      "4        15\n",
      "20       13\n",
      "5         9\n",
      "9         7\n",
      "6         6\n",
      "7         4\n",
      "8         3\n",
      "11        3\n",
      "10        2\n",
      "12        2\n",
      "17        2\n",
      "16        2\n",
      "14        1\n",
      "18        1\n",
      "13        1\n",
      "15        1\n",
      "Name: N6, dtype: int64\n",
      "---- N7 ---\n",
      "0     31384\n",
      "1        33\n",
      "2         6\n",
      "3         3\n",
      "10        1\n",
      "4         1\n",
      "Name: N7, dtype: int64\n",
      "---- N8 ---\n",
      "0     29502\n",
      "1       692\n",
      "2       295\n",
      "3       175\n",
      "4       118\n",
      "      ...  \n",
      "97        1\n",
      "81        1\n",
      "44        1\n",
      "38        1\n",
      "51        1\n",
      "Name: N8, Length: 64, dtype: int64\n",
      "---- N9 ---\n",
      "0     31244\n",
      "1        61\n",
      "2        28\n",
      "4        13\n",
      "3        12\n",
      "8         9\n",
      "5         6\n",
      "7         5\n",
      "16        5\n",
      "11        5\n",
      "10        5\n",
      "6         4\n",
      "22        4\n",
      "12        3\n",
      "15        3\n",
      "9         3\n",
      "28        2\n",
      "17        2\n",
      "13        1\n",
      "43        1\n",
      "48        1\n",
      "61        1\n",
      "29        1\n",
      "18        1\n",
      "24        1\n",
      "14        1\n",
      "27        1\n",
      "21        1\n",
      "85        1\n",
      "26        1\n",
      "40        1\n",
      "44        1\n",
      "Name: N9, dtype: int64\n",
      "---- N10 ---\n",
      "0     31173\n",
      "1        85\n",
      "2        36\n",
      "3        21\n",
      "4        18\n",
      "8        11\n",
      "7        10\n",
      "5         8\n",
      "6         7\n",
      "16        5\n",
      "12        5\n",
      "11        5\n",
      "10        5\n",
      "22        4\n",
      "9         4\n",
      "14        3\n",
      "15        3\n",
      "24        2\n",
      "42        2\n",
      "17        2\n",
      "21        2\n",
      "20        2\n",
      "44        1\n",
      "61        1\n",
      "48        1\n",
      "29        1\n",
      "33        1\n",
      "13        1\n",
      "28        1\n",
      "19        1\n",
      "40        1\n",
      "43        1\n",
      "37        1\n",
      "27        1\n",
      "86        1\n",
      "26        1\n",
      "39        1\n",
      "Name: N10, dtype: int64\n",
      "---- C10 ---\n",
      "3469607743    1425\n",
      "3458698981      82\n",
      "3183725626      73\n",
      "1133005353      71\n",
      "3662869197      68\n",
      "              ... \n",
      "843115400        1\n",
      "762569609        1\n",
      "4142922634       1\n",
      "830608273        1\n",
      "487200771        1\n",
      "Name: C10, Length: 28653, dtype: int64\n",
      "---- C11 ---\n",
      "3831440054    8848\n",
      "3617851689    8507\n",
      "2379633508    6822\n",
      "2196958187    3430\n",
      "621902171     3118\n",
      "3536580284     441\n",
      "3124632437      87\n",
      "535829057       48\n",
      "58779779        44\n",
      "2269823002      24\n",
      "1587132551      21\n",
      "891005277       14\n",
      "102858183        7\n",
      "1973513386       5\n",
      "500889696        3\n",
      "3255297627       3\n",
      "2677481500       2\n",
      "43937015         1\n",
      "943284263        1\n",
      "1706983378       1\n",
      "2268989536       1\n",
      "Name: C11, dtype: int64\n",
      "---- C12 ---\n",
      "4220791646    8507\n",
      "1284343215    8037\n",
      "1213938795    6365\n",
      "830706566     4195\n",
      "3706004275    1382\n",
      "1550397227     786\n",
      "245608391      674\n",
      "2548980304     487\n",
      "1889667519     442\n",
      "4176504756     205\n",
      "1213814022     113\n",
      "3828748840     102\n",
      "3818978634      87\n",
      "3057379815      25\n",
      "800077115       10\n",
      "1269781439       5\n",
      "3091742607       3\n",
      "3960527089       2\n",
      "2971647412       1\n",
      "Name: C12, dtype: int64\n"
     ]
    }
   ],
   "source": [
    "#Checking Data\n",
    "for i in data.columns:\n",
    "    print (\"---- %s ---\" % i)\n",
    "    print (data[i].value_counts())"
   ]
  },
  {
   "cell_type": "code",
   "execution_count": 5,
   "metadata": {},
   "outputs": [
    {
     "data": {
      "text/html": [
       "<div>\n",
       "<style scoped>\n",
       "    .dataframe tbody tr th:only-of-type {\n",
       "        vertical-align: middle;\n",
       "    }\n",
       "\n",
       "    .dataframe tbody tr th {\n",
       "        vertical-align: top;\n",
       "    }\n",
       "\n",
       "    .dataframe thead th {\n",
       "        text-align: right;\n",
       "    }\n",
       "</style>\n",
       "<table border=\"1\" class=\"dataframe\">\n",
       "  <thead>\n",
       "    <tr style=\"text-align: right;\">\n",
       "      <th></th>\n",
       "      <th>Total</th>\n",
       "      <th>%</th>\n",
       "    </tr>\n",
       "  </thead>\n",
       "  <tbody>\n",
       "    <tr>\n",
       "      <td>C12</td>\n",
       "      <td>0</td>\n",
       "      <td>0.0</td>\n",
       "    </tr>\n",
       "    <tr>\n",
       "      <td>C8</td>\n",
       "      <td>0</td>\n",
       "      <td>0.0</td>\n",
       "    </tr>\n",
       "    <tr>\n",
       "      <td>id</td>\n",
       "      <td>0</td>\n",
       "      <td>0.0</td>\n",
       "    </tr>\n",
       "    <tr>\n",
       "      <td>visitTime</td>\n",
       "      <td>0</td>\n",
       "      <td>0.0</td>\n",
       "    </tr>\n",
       "    <tr>\n",
       "      <td>purchaseTime</td>\n",
       "      <td>0</td>\n",
       "      <td>0.0</td>\n",
       "    </tr>\n",
       "    <tr>\n",
       "      <td>hour</td>\n",
       "      <td>0</td>\n",
       "      <td>0.0</td>\n",
       "    </tr>\n",
       "  </tbody>\n",
       "</table>\n",
       "</div>"
      ],
      "text/plain": [
       "              Total    %\n",
       "C12               0  0.0\n",
       "C8                0  0.0\n",
       "id                0  0.0\n",
       "visitTime         0  0.0\n",
       "purchaseTime      0  0.0\n",
       "hour              0  0.0"
      ]
     },
     "execution_count": 5,
     "metadata": {},
     "output_type": "execute_result"
    }
   ],
   "source": [
    "#Checking for missing values\n",
    "features=data\n",
    "total = features.isnull().sum().sort_values(ascending=False)\n",
    "percent_1 = features.isnull().sum()/features.isnull().count()*100\n",
    "percent_2 = (round(percent_1, 1)).sort_values(ascending=False)\n",
    "missing_data = pd.concat([total, percent_2], axis=1, keys=['Total', '%'])\n",
    "missing_data.head(6)"
   ]
  },
  {
   "cell_type": "markdown",
   "metadata": {},
   "source": [
    "Feature engineering"
   ]
  },
  {
   "cell_type": "code",
   "execution_count": 113,
   "metadata": {},
   "outputs": [],
   "source": [
    "X=data.drop([\"label\",\"purchaseTime\"], axis=1)\n",
    "y=data['label']"
   ]
  },
  {
   "cell_type": "code",
   "execution_count": 114,
   "metadata": {},
   "outputs": [],
   "source": [
    "X=X.drop([\"C1\",\"C12\",\"C3\",\"C11\",\"C6\",\"C10\",\"C4\",\"C5\",\"id\",\"N1\",\"N2\",\"N5\",\"N7\",\"hour\",\"visitTime\"], axis=1, errors=\"ignore\")"
   ]
  },
  {
   "cell_type": "code",
   "execution_count": 8,
   "metadata": {},
   "outputs": [],
   "source": [
    "#Dummifying columns, dropping the original and the first dummy\n",
    "#X=pd.get_dummies(X, columns=[\"C7\",\"C9\",\"C8\",\"C2\"], drop_first=True)"
   ]
  },
  {
   "cell_type": "code",
   "execution_count": 115,
   "metadata": {},
   "outputs": [],
   "source": [
    "to_normalize=[\"N9\",\"N10\",\"N8\",\"N4\",\"N3\",\"N6\"]\n",
    "#For loop to normalize by min-max values\n",
    "for i in to_normalize:\n",
    "    x= X[[i]].values\n",
    "    min_max_scaler = preprocessing.MinMaxScaler()\n",
    "    x_scaled = min_max_scaler.fit_transform(x)\n",
    "    X[i]=x_scaled"
   ]
  },
  {
   "cell_type": "code",
   "execution_count": 116,
   "metadata": {},
   "outputs": [
    {
     "data": {
      "text/plain": [
       "(31428, 10)"
      ]
     },
     "execution_count": 116,
     "metadata": {},
     "output_type": "execute_result"
    }
   ],
   "source": [
    "X.shape"
   ]
  },
  {
   "cell_type": "code",
   "execution_count": 117,
   "metadata": {},
   "outputs": [],
   "source": [
    "X=X[to_normalize]"
   ]
  },
  {
   "cell_type": "code",
   "execution_count": 118,
   "metadata": {},
   "outputs": [
    {
     "data": {
      "text/plain": [
       "(31428, 6)"
      ]
     },
     "execution_count": 118,
     "metadata": {},
     "output_type": "execute_result"
    }
   ],
   "source": [
    "X.shape"
   ]
  },
  {
   "cell_type": "markdown",
   "metadata": {},
   "source": [
    "Modeling"
   ]
  },
  {
   "cell_type": "code",
   "execution_count": 540,
   "metadata": {},
   "outputs": [],
   "source": [
    "X_train, X_test, y_train, y_test=train_test_split(X,y,test_size=0.4, stratify=y)"
   ]
  },
  {
   "cell_type": "code",
   "execution_count": 541,
   "metadata": {},
   "outputs": [
    {
     "name": "stdout",
     "output_type": "stream",
     "text": [
      "Original dataset shape Counter({-1: 18822, 1: 34})\n",
      "Resampled dataset shape Counter({-1: 3136, 1: 1882})\n"
     ]
    }
   ],
   "source": [
    "# Over sampling followed by undersampling\n",
    "print('Original dataset shape %s' % Counter(y_train))\n",
    "sm=SMOTE(random_state=42, sampling_strategy=0.1)\n",
    "X_res, y_res=sm.fit_resample(X_train,y_train)\n",
    "cc = RandomUnderSampler(random_state=42, sampling_strategy=0.6)\n",
    "X_res, y_res = cc.fit_resample(X_res,y_res)\n",
    "print('Resampled dataset shape %s' % Counter(y_res))"
   ]
  },
  {
   "cell_type": "markdown",
   "metadata": {},
   "source": [
    "Logistic Regression"
   ]
  },
  {
   "cell_type": "code",
   "execution_count": 542,
   "metadata": {},
   "outputs": [],
   "source": [
    "logmodel=LogisticRegression()\n",
    "logmodel.fit(X_res,y_res)\n",
    "predictions = logmodel.predict(X_test)"
   ]
  },
  {
   "cell_type": "code",
   "execution_count": 543,
   "metadata": {},
   "outputs": [
    {
     "name": "stdout",
     "output_type": "stream",
     "text": [
      "              precision    recall  f1-score   support\n",
      "\n",
      "          -1       1.00      0.99      0.99     12549\n",
      "           1       0.09      0.74      0.17        23\n",
      "\n",
      "    accuracy                           0.99     12572\n",
      "   macro avg       0.55      0.86      0.58     12572\n",
      "weighted avg       1.00      0.99      0.99     12572\n",
      "\n"
     ]
    }
   ],
   "source": [
    "print(classification_report(y_test,predictions))"
   ]
  },
  {
   "cell_type": "code",
   "execution_count": 544,
   "metadata": {
    "scrolled": true
   },
   "outputs": [
    {
     "data": {
      "text/plain": [
       "array([[12385,     6],\n",
       "       [  164,    17]])"
      ]
     },
     "execution_count": 544,
     "metadata": {},
     "output_type": "execute_result"
    }
   ],
   "source": [
    "confusion_matrix(predictions,y_test)"
   ]
  },
  {
   "cell_type": "markdown",
   "metadata": {},
   "source": [
    "Random Forest"
   ]
  },
  {
   "cell_type": "code",
   "execution_count": 571,
   "metadata": {},
   "outputs": [],
   "source": [
    "# Instantiate model with 1000 decision trees\n",
    "rf = RandomForestClassifier(n_estimators = 1000, random_state = 42, max_depth=1)\n",
    "# Train the model on training data\n",
    "rf.fit(X_res, y_res);"
   ]
  },
  {
   "cell_type": "code",
   "execution_count": 572,
   "metadata": {},
   "outputs": [],
   "source": [
    "predictions = rf.predict(X_test)"
   ]
  },
  {
   "cell_type": "code",
   "execution_count": 573,
   "metadata": {},
   "outputs": [
    {
     "data": {
      "text/plain": [
       "array([[12479,     3],\n",
       "       [   70,    20]])"
      ]
     },
     "execution_count": 573,
     "metadata": {},
     "output_type": "execute_result"
    }
   ],
   "source": [
    "confusion_matrix(predictions,y_test)"
   ]
  },
  {
   "cell_type": "code",
   "execution_count": 574,
   "metadata": {},
   "outputs": [
    {
     "name": "stdout",
     "output_type": "stream",
     "text": [
      "              precision    recall  f1-score   support\n",
      "\n",
      "          -1       1.00      0.99      1.00     12549\n",
      "           1       0.22      0.87      0.35        23\n",
      "\n",
      "    accuracy                           0.99     12572\n",
      "   macro avg       0.61      0.93      0.68     12572\n",
      "weighted avg       1.00      0.99      1.00     12572\n",
      "\n"
     ]
    }
   ],
   "source": [
    "print(classification_report(y_test,predictions))"
   ]
  },
  {
   "cell_type": "code",
   "execution_count": 575,
   "metadata": {},
   "outputs": [],
   "source": [
    "predictions = rf.predict(X_res)"
   ]
  },
  {
   "cell_type": "code",
   "execution_count": 576,
   "metadata": {},
   "outputs": [
    {
     "data": {
      "text/plain": [
       "array([[3112,  260],\n",
       "       [  24, 1622]])"
      ]
     },
     "execution_count": 576,
     "metadata": {},
     "output_type": "execute_result"
    }
   ],
   "source": [
    "confusion_matrix(predictions,y_res)"
   ]
  },
  {
   "cell_type": "code",
   "execution_count": 577,
   "metadata": {},
   "outputs": [
    {
     "name": "stdout",
     "output_type": "stream",
     "text": [
      "              precision    recall  f1-score   support\n",
      "\n",
      "          -1       0.92      0.99      0.96      3136\n",
      "           1       0.99      0.86      0.92      1882\n",
      "\n",
      "    accuracy                           0.94      5018\n",
      "   macro avg       0.95      0.93      0.94      5018\n",
      "weighted avg       0.95      0.94      0.94      5018\n",
      "\n"
     ]
    }
   ],
   "source": [
    "print(classification_report(y_res,predictions))"
   ]
  },
  {
   "cell_type": "code",
   "execution_count": 578,
   "metadata": {},
   "outputs": [
    {
     "data": {
      "image/png": "[encoded data removed]",
      "text/plain": [
       "<Figure size 432x288 with 1 Axes>"
      ]
     },
     "metadata": {
      "needs_background": "light"
     },
     "output_type": "display_data"
    }
   ],
   "source": [
    "ax = plt.gca()\n",
    "test_rf = plot_roc_curve(rf, X_test, y_test,ax=ax, alpha=0.8, name=\"test\")\n",
    "train_rf = plot_roc_curve(rf, X_res, y_res,ax=ax, alpha=0.8, name=\"train\")\n",
    "plt.show()"
   ]
  },
  {
   "cell_type": "markdown",
   "metadata": {},
   "source": [
    "///////////////////////////////////////////////////////////////////////////\n",
    "## CHOSEN MODEL\n",
    "Gradient Boosting"
   ]
  },
  {
   "cell_type": "code",
   "execution_count": 499,
   "metadata": {},
   "outputs": [],
   "source": [
    "#Setting parameters for optimal XGB\n",
    "parameters = {'max_depth':[1,2,3],\n",
    "              'learning_rate':[0.01,0.05,0.1,0.5],\n",
    "              'gamma':[0,0.5,1],\n",
    "             'n_estimators':[1,3,5,10,20],\n",
    "             'subsample':[0.7,0.8],\n",
    "             'colsample_bytree':[0.1,0.5,0.8],\n",
    "             'early_stopping_rounds':[5]}"
   ]
  },
  {
   "cell_type": "code",
   "execution_count": null,
   "metadata": {},
   "outputs": [],
   "source": [
    "from sklearn.model_selection import GridSearchCV\n",
    "gb = xgb.XGBClassifier()\n",
    "xg=GridSearchCV(gb, verbose=2,param_grid=parameters)\n",
    "xg.fit(X_res, y_res)\n",
    "predictions=xg.predict(X_test)"
   ]
  },
  {
   "cell_type": "code",
   "execution_count": null,
   "metadata": {},
   "outputs": [],
   "source": [
    "xg.best_params_"
   ]
  },
  {
   "cell_type": "code",
   "execution_count": 589,
   "metadata": {},
   "outputs": [],
   "source": [
    "from sklearn.ensemble import GradientBoostingClassifier\n",
    "\n",
    "xg= xgb.XGBClassifier(objective='binary:logistic', max_depth=3, learning_rate=0.5, verbosity=1,\\\n",
    "                      gamma=0, n_estimators=20, subsample=0.7, colsample_bytree=0.5, early_stopping_rounds=5)\n",
    "xg.fit(X_res, y_res)\n",
    "predictions=xg.predict(X_test)"
   ]
  },
  {
   "cell_type": "code",
   "execution_count": 590,
   "metadata": {},
   "outputs": [
    {
     "data": {
      "text/plain": [
       "array([[12503,     3],\n",
       "       [   46,    20]])"
      ]
     },
     "execution_count": 590,
     "metadata": {},
     "output_type": "execute_result"
    }
   ],
   "source": [
    "confusion_matrix(predictions,y_test)"
   ]
  },
  {
   "cell_type": "code",
   "execution_count": 593,
   "metadata": {},
   "outputs": [
    {
     "data": {
      "image/png": "[encoded data removed]",
      "text/plain": [
       "<Figure size 432x288 with 1 Axes>"
      ]
     },
     "metadata": {
      "needs_background": "light"
     },
     "output_type": "display_data"
    }
   ],
   "source": [
    "ax = plt.gca()\n",
    "test_rf = plot_roc_curve(xg, X_test, y_test,ax=ax, alpha=0.8, name=\"test\")\n",
    "train_rf = plot_roc_curve(xg, X_res, y_res,ax=ax, alpha=0.8, name=\"train\")\n",
    "plt.show()"
   ]
  },
  {
   "cell_type": "code",
   "execution_count": 594,
   "metadata": {},
   "outputs": [
    {
     "name": "stdout",
     "output_type": "stream",
     "text": [
      "              precision    recall  f1-score   support\n",
      "\n",
      "          -1       1.00      1.00      1.00     12549\n",
      "           1       0.30      0.87      0.45        23\n",
      "\n",
      "    accuracy                           1.00     12572\n",
      "   macro avg       0.65      0.93      0.72     12572\n",
      "weighted avg       1.00      1.00      1.00     12572\n",
      "\n"
     ]
    }
   ],
   "source": [
    "print(classification_report(y_test,predictions))"
   ]
  },
  {
   "cell_type": "code",
   "execution_count": 595,
   "metadata": {},
   "outputs": [],
   "source": [
    "predictions=xg.predict(X_res)"
   ]
  },
  {
   "cell_type": "code",
   "execution_count": 596,
   "metadata": {},
   "outputs": [
    {
     "name": "stdout",
     "output_type": "stream",
     "text": [
      "              precision    recall  f1-score   support\n",
      "\n",
      "          -1       0.92      1.00      0.96      3136\n",
      "           1       1.00      0.86      0.92      1882\n",
      "\n",
      "    accuracy                           0.95      5018\n",
      "   macro avg       0.96      0.93      0.94      5018\n",
      "weighted avg       0.95      0.95      0.95      5018\n",
      "\n"
     ]
    }
   ],
   "source": [
    "print(classification_report(y_res,predictions))"
   ]
  },
  {
   "cell_type": "code",
   "execution_count": 597,
   "metadata": {},
   "outputs": [
    {
     "data": {
      "text/plain": [
       "array([[3132,  260],\n",
       "       [   4, 1622]])"
      ]
     },
     "execution_count": 597,
     "metadata": {},
     "output_type": "execute_result"
    }
   ],
   "source": [
    "confusion_matrix(predictions,y_res)"
   ]
  },
  {
   "cell_type": "markdown",
   "metadata": {},
   "source": [
    "/////////////////////////////////////////////////////////////////////////////////////////\n",
    "\n",
    "Other XGB models i did not end up using"
   ]
  },
  {
   "cell_type": "code",
   "execution_count": 35,
   "metadata": {},
   "outputs": [
    {
     "name": "stdout",
     "output_type": "stream",
     "text": [
      "[0]\tvalidation_0-error:0.005959\tvalidation_0-logloss:0.600112\tvalidation_1-error:0.00472\tvalidation_1-logloss:0.599378\n",
      "[1]\tvalidation_0-error:0.005959\tvalidation_0-logloss:0.523892\tvalidation_1-error:0.00472\tvalidation_1-logloss:0.522503\n",
      "[2]\tvalidation_0-error:0.005959\tvalidation_0-logloss:0.460322\tvalidation_1-error:0.00472\tvalidation_1-logloss:0.458343\n",
      "[3]\tvalidation_0-error:0.005959\tvalidation_0-logloss:0.406558\tvalidation_1-error:0.00472\tvalidation_1-logloss:0.404075\n",
      "[4]\tvalidation_0-error:0.005959\tvalidation_0-logloss:0.36064\tvalidation_1-error:0.00472\tvalidation_1-logloss:0.357764\n",
      "[5]\tvalidation_0-error:0.005959\tvalidation_0-logloss:0.321072\tvalidation_1-error:0.00472\tvalidation_1-logloss:0.317901\n",
      "[6]\tvalidation_0-error:0.005959\tvalidation_0-logloss:0.286748\tvalidation_1-error:0.00472\tvalidation_1-logloss:0.283305\n",
      "[7]\tvalidation_0-error:0.004529\tvalidation_0-logloss:0.256788\tvalidation_1-error:0.002174\tvalidation_1-logloss:0.252958\n",
      "[8]\tvalidation_0-error:0.005959\tvalidation_0-logloss:0.230565\tvalidation_1-error:0.00472\tvalidation_1-logloss:0.22649\n",
      "[9]\tvalidation_0-error:0.004529\tvalidation_0-logloss:0.20748\tvalidation_1-error:0.002174\tvalidation_1-logloss:0.203091\n",
      "[10]\tvalidation_0-error:0.004529\tvalidation_0-logloss:0.187107\tvalidation_1-error:0.002174\tvalidation_1-logloss:0.182558\n",
      "[11]\tvalidation_0-error:0.004529\tvalidation_0-logloss:0.169107\tvalidation_1-error:0.002174\tvalidation_1-logloss:0.164229\n",
      "[12]\tvalidation_0-error:0.004529\tvalidation_0-logloss:0.153101\tvalidation_1-error:0.002174\tvalidation_1-logloss:0.148101\n",
      "[13]\tvalidation_0-error:0.004529\tvalidation_0-logloss:0.138898\tvalidation_1-error:0.002174\tvalidation_1-logloss:0.133743\n",
      "[14]\tvalidation_0-error:0.004529\tvalidation_0-logloss:0.126228\tvalidation_1-error:0.002174\tvalidation_1-logloss:0.120952\n",
      "[15]\tvalidation_0-error:0.004529\tvalidation_0-logloss:0.114941\tvalidation_1-error:0.002174\tvalidation_1-logloss:0.109371\n",
      "[16]\tvalidation_0-error:0.004529\tvalidation_0-logloss:0.104839\tvalidation_1-error:0.002174\tvalidation_1-logloss:0.099156\n",
      "[17]\tvalidation_0-error:0.004529\tvalidation_0-logloss:0.095827\tvalidation_1-error:0.002174\tvalidation_1-logloss:0.09002\n",
      "[18]\tvalidation_0-error:0.004529\tvalidation_0-logloss:0.087752\tvalidation_1-error:0.002174\tvalidation_1-logloss:0.081755\n",
      "[19]\tvalidation_0-error:0.004529\tvalidation_0-logloss:0.080519\tvalidation_1-error:0.002174\tvalidation_1-logloss:0.074398\n",
      "[20]\tvalidation_0-error:0.004529\tvalidation_0-logloss:0.074041\tvalidation_1-error:0.002174\tvalidation_1-logloss:0.067822\n",
      "[21]\tvalidation_0-error:0.004529\tvalidation_0-logloss:0.068231\tvalidation_1-error:0.002174\tvalidation_1-logloss:0.061786\n",
      "[22]\tvalidation_0-error:0.004529\tvalidation_0-logloss:0.063011\tvalidation_1-error:0.002174\tvalidation_1-logloss:0.056461\n",
      "[23]\tvalidation_0-error:0.004529\tvalidation_0-logloss:0.058336\tvalidation_1-error:0.002174\tvalidation_1-logloss:0.051699\n",
      "[24]\tvalidation_0-error:0.004529\tvalidation_0-logloss:0.054129\tvalidation_1-error:0.002174\tvalidation_1-logloss:0.047295\n",
      "[25]\tvalidation_0-error:0.004529\tvalidation_0-logloss:0.05035\tvalidation_1-error:0.002174\tvalidation_1-logloss:0.043417\n",
      "[26]\tvalidation_0-error:0.004529\tvalidation_0-logloss:0.046966\tvalidation_1-error:0.002174\tvalidation_1-logloss:0.039915\n",
      "[27]\tvalidation_0-error:0.004529\tvalidation_0-logloss:0.04392\tvalidation_1-error:0.002174\tvalidation_1-logloss:0.036691\n",
      "[28]\tvalidation_0-error:0.004529\tvalidation_0-logloss:0.04118\tvalidation_1-error:0.002174\tvalidation_1-logloss:0.033851\n",
      "[29]\tvalidation_0-error:0.004529\tvalidation_0-logloss:0.038726\tvalidation_1-error:0.002174\tvalidation_1-logloss:0.031306\n",
      "[30]\tvalidation_0-error:0.004529\tvalidation_0-logloss:0.036522\tvalidation_1-error:0.002174\tvalidation_1-logloss:0.029001\n",
      "[31]\tvalidation_0-error:0.004529\tvalidation_0-logloss:0.034533\tvalidation_1-error:0.002174\tvalidation_1-logloss:0.026923\n",
      "[32]\tvalidation_0-error:0.004529\tvalidation_0-logloss:0.032752\tvalidation_1-error:0.002174\tvalidation_1-logloss:0.025056\n",
      "[33]\tvalidation_0-error:0.004529\tvalidation_0-logloss:0.031149\tvalidation_1-error:0.002174\tvalidation_1-logloss:0.023279\n",
      "[34]\tvalidation_0-error:0.004529\tvalidation_0-logloss:0.029713\tvalidation_1-error:0.002174\tvalidation_1-logloss:0.021753\n",
      "[35]\tvalidation_0-error:0.004529\tvalidation_0-logloss:0.028428\tvalidation_1-error:0.002174\tvalidation_1-logloss:0.020375\n",
      "[36]\tvalidation_0-error:0.004529\tvalidation_0-logloss:0.027277\tvalidation_1-error:0.002174\tvalidation_1-logloss:0.01907\n",
      "[37]\tvalidation_0-error:0.004529\tvalidation_0-logloss:0.026242\tvalidation_1-error:0.002174\tvalidation_1-logloss:0.017945\n",
      "[38]\tvalidation_0-error:0.004529\tvalidation_0-logloss:0.02532\tvalidation_1-error:0.002174\tvalidation_1-logloss:0.016935\n",
      "[39]\tvalidation_0-error:0.004529\tvalidation_0-logloss:0.02449\tvalidation_1-error:0.002174\tvalidation_1-logloss:0.015999\n",
      "[40]\tvalidation_0-error:0.004529\tvalidation_0-logloss:0.023748\tvalidation_1-error:0.002174\tvalidation_1-logloss:0.015198\n",
      "[41]\tvalidation_0-error:0.004529\tvalidation_0-logloss:0.023083\tvalidation_1-error:0.002174\tvalidation_1-logloss:0.014438\n",
      "[42]\tvalidation_0-error:0.004529\tvalidation_0-logloss:0.02249\tvalidation_1-error:0.002174\tvalidation_1-logloss:0.013764\n",
      "[43]\tvalidation_0-error:0.004529\tvalidation_0-logloss:0.021956\tvalidation_1-error:0.002174\tvalidation_1-logloss:0.013167\n",
      "[44]\tvalidation_0-error:0.004529\tvalidation_0-logloss:0.021474\tvalidation_1-error:0.002174\tvalidation_1-logloss:0.012603\n",
      "[45]\tvalidation_0-error:0.004529\tvalidation_0-logloss:0.021049\tvalidation_1-error:0.002174\tvalidation_1-logloss:0.012108\n",
      "[46]\tvalidation_0-error:0.004529\tvalidation_0-logloss:0.020669\tvalidation_1-error:0.001962\tvalidation_1-logloss:0.01164\n",
      "[47]\tvalidation_0-error:0.004529\tvalidation_0-logloss:0.020329\tvalidation_1-error:0.001962\tvalidation_1-logloss:0.011255\n",
      "[48]\tvalidation_0-error:0.004529\tvalidation_0-logloss:0.020024\tvalidation_1-error:0.001962\tvalidation_1-logloss:0.010876\n",
      "[49]\tvalidation_0-error:0.004529\tvalidation_0-logloss:0.019753\tvalidation_1-error:0.001962\tvalidation_1-logloss:0.010545\n",
      "[50]\tvalidation_0-error:0.004529\tvalidation_0-logloss:0.019508\tvalidation_1-error:0.001962\tvalidation_1-logloss:0.010267\n",
      "[51]\tvalidation_0-error:0.004529\tvalidation_0-logloss:0.019287\tvalidation_1-error:0.001962\tvalidation_1-logloss:0.009953\n",
      "[52]\tvalidation_0-error:0.004529\tvalidation_0-logloss:0.01909\tvalidation_1-error:0.001962\tvalidation_1-logloss:0.0097\n",
      "[53]\tvalidation_0-error:0.004529\tvalidation_0-logloss:0.018914\tvalidation_1-error:0.001962\tvalidation_1-logloss:0.009504\n",
      "[54]\tvalidation_0-error:0.004529\tvalidation_0-logloss:0.018755\tvalidation_1-error:0.001962\tvalidation_1-logloss:0.009325\n",
      "[55]\tvalidation_0-error:0.004529\tvalidation_0-logloss:0.018609\tvalidation_1-error:0.001962\tvalidation_1-logloss:0.009139\n",
      "[56]\tvalidation_0-error:0.004529\tvalidation_0-logloss:0.018482\tvalidation_1-error:0.001962\tvalidation_1-logloss:0.008972\n",
      "[57]\tvalidation_0-error:0.004529\tvalidation_0-logloss:0.018364\tvalidation_1-error:0.001962\tvalidation_1-logloss:0.008847\n",
      "[58]\tvalidation_0-error:0.004529\tvalidation_0-logloss:0.01826\tvalidation_1-error:0.001962\tvalidation_1-logloss:0.008734\n",
      "[59]\tvalidation_0-error:0.004529\tvalidation_0-logloss:0.018164\tvalidation_1-error:0.001962\tvalidation_1-logloss:0.008612\n",
      "[60]\tvalidation_0-error:0.004529\tvalidation_0-logloss:0.018077\tvalidation_1-error:0.001962\tvalidation_1-logloss:0.008529\n",
      "[61]\tvalidation_0-error:0.004529\tvalidation_0-logloss:0.018\tvalidation_1-error:0.001962\tvalidation_1-logloss:0.008425\n",
      "[62]\tvalidation_0-error:0.004529\tvalidation_0-logloss:0.017929\tvalidation_1-error:0.001962\tvalidation_1-logloss:0.008361\n",
      "[63]\tvalidation_0-error:0.004529\tvalidation_0-logloss:0.017862\tvalidation_1-error:0.001962\tvalidation_1-logloss:0.0083\n",
      "[64]\tvalidation_0-error:0.004529\tvalidation_0-logloss:0.017802\tvalidation_1-error:0.001962\tvalidation_1-logloss:0.008202\n",
      "[65]\tvalidation_0-error:0.004529\tvalidation_0-logloss:0.017748\tvalidation_1-error:0.001962\tvalidation_1-logloss:0.008155\n",
      "[66]\tvalidation_0-error:0.003814\tvalidation_0-logloss:0.017697\tvalidation_1-error:0.001591\tvalidation_1-logloss:0.008121\n",
      "[67]\tvalidation_0-error:0.003814\tvalidation_0-logloss:0.017646\tvalidation_1-error:0.001591\tvalidation_1-logloss:0.008097\n",
      "[68]\tvalidation_0-error:0.004529\tvalidation_0-logloss:0.017598\tvalidation_1-error:0.001962\tvalidation_1-logloss:0.008046\n"
     ]
    },
    {
     "name": "stdout",
     "output_type": "stream",
     "text": [
      "[69]\tvalidation_0-error:0.004529\tvalidation_0-logloss:0.017552\tvalidation_1-error:0.001962\tvalidation_1-logloss:0.008026\n",
      "[70]\tvalidation_0-error:0.003814\tvalidation_0-logloss:0.017508\tvalidation_1-error:0.001591\tvalidation_1-logloss:0.007958\n",
      "[71]\tvalidation_0-error:0.003814\tvalidation_0-logloss:0.017466\tvalidation_1-error:0.001591\tvalidation_1-logloss:0.007935\n",
      "[72]\tvalidation_0-error:0.003814\tvalidation_0-logloss:0.017422\tvalidation_1-error:0.001538\tvalidation_1-logloss:0.007925\n",
      "[73]\tvalidation_0-error:0.003814\tvalidation_0-logloss:0.017383\tvalidation_1-error:0.001591\tvalidation_1-logloss:0.007915\n",
      "[74]\tvalidation_0-error:0.003814\tvalidation_0-logloss:0.017342\tvalidation_1-error:0.001538\tvalidation_1-logloss:0.007898\n",
      "[75]\tvalidation_0-error:0.003814\tvalidation_0-logloss:0.017304\tvalidation_1-error:0.001538\tvalidation_1-logloss:0.007862\n",
      "[76]\tvalidation_0-error:0.003814\tvalidation_0-logloss:0.017267\tvalidation_1-error:0.001538\tvalidation_1-logloss:0.007853\n",
      "[77]\tvalidation_0-error:0.003814\tvalidation_0-logloss:0.017231\tvalidation_1-error:0.001538\tvalidation_1-logloss:0.007799\n",
      "[78]\tvalidation_0-error:0.003814\tvalidation_0-logloss:0.017196\tvalidation_1-error:0.001538\tvalidation_1-logloss:0.007787\n",
      "[79]\tvalidation_0-error:0.003814\tvalidation_0-logloss:0.01716\tvalidation_1-error:0.001538\tvalidation_1-logloss:0.007791\n",
      "[80]\tvalidation_0-error:0.003814\tvalidation_0-logloss:0.017126\tvalidation_1-error:0.001538\tvalidation_1-logloss:0.00779\n",
      "[81]\tvalidation_0-error:0.003814\tvalidation_0-logloss:0.017093\tvalidation_1-error:0.001538\tvalidation_1-logloss:0.007796\n",
      "[82]\tvalidation_0-error:0.003814\tvalidation_0-logloss:0.017061\tvalidation_1-error:0.001538\tvalidation_1-logloss:0.007791\n",
      "[83]\tvalidation_0-error:0.003814\tvalidation_0-logloss:0.017031\tvalidation_1-error:0.001538\tvalidation_1-logloss:0.00775\n",
      "[84]\tvalidation_0-error:0.003814\tvalidation_0-logloss:0.016998\tvalidation_1-error:0.001538\tvalidation_1-logloss:0.007749\n",
      "[85]\tvalidation_0-error:0.003814\tvalidation_0-logloss:0.016968\tvalidation_1-error:0.001538\tvalidation_1-logloss:0.007755\n",
      "[86]\tvalidation_0-error:0.003814\tvalidation_0-logloss:0.016938\tvalidation_1-error:0.001538\tvalidation_1-logloss:0.007765\n",
      "[87]\tvalidation_0-error:0.003814\tvalidation_0-logloss:0.016909\tvalidation_1-error:0.001538\tvalidation_1-logloss:0.007762\n",
      "[88]\tvalidation_0-error:0.003814\tvalidation_0-logloss:0.01688\tvalidation_1-error:0.001538\tvalidation_1-logloss:0.007758\n",
      "[89]\tvalidation_0-error:0.003814\tvalidation_0-logloss:0.016852\tvalidation_1-error:0.001538\tvalidation_1-logloss:0.007721\n",
      "[90]\tvalidation_0-error:0.003814\tvalidation_0-logloss:0.016824\tvalidation_1-error:0.001538\tvalidation_1-logloss:0.007724\n",
      "[91]\tvalidation_0-error:0.003814\tvalidation_0-logloss:0.016798\tvalidation_1-error:0.001538\tvalidation_1-logloss:0.007732\n",
      "[92]\tvalidation_0-error:0.003814\tvalidation_0-logloss:0.016772\tvalidation_1-error:0.001538\tvalidation_1-logloss:0.007732\n",
      "[93]\tvalidation_0-error:0.003814\tvalidation_0-logloss:0.016745\tvalidation_1-error:0.001538\tvalidation_1-logloss:0.007731\n",
      "[94]\tvalidation_0-error:0.003814\tvalidation_0-logloss:0.01672\tvalidation_1-error:0.001538\tvalidation_1-logloss:0.0077\n",
      "[95]\tvalidation_0-error:0.003576\tvalidation_0-logloss:0.016694\tvalidation_1-error:0.001538\tvalidation_1-logloss:0.007713\n",
      "[96]\tvalidation_0-error:0.003576\tvalidation_0-logloss:0.016669\tvalidation_1-error:0.001538\tvalidation_1-logloss:0.007715\n",
      "[97]\tvalidation_0-error:0.003337\tvalidation_0-logloss:0.016645\tvalidation_1-error:0.001591\tvalidation_1-logloss:0.007715\n",
      "[98]\tvalidation_0-error:0.003576\tvalidation_0-logloss:0.016621\tvalidation_1-error:0.001538\tvalidation_1-logloss:0.007685\n",
      "[99]\tvalidation_0-error:0.003576\tvalidation_0-logloss:0.016598\tvalidation_1-error:0.001538\tvalidation_1-logloss:0.00769\n"
     ]
    }
   ],
   "source": [
    "model = xgb.XGBClassifier(max_depth=1)\n",
    "eval_set = [(X_res, y_res), (X_test, y_test)]\n",
    "model.fit(X_res, y_res, eval_metric=[\"error\", \"logloss\"], eval_set=eval_set, verbose=True)\n",
    "# make predictions for test data\n",
    "y_pred = model.predict(X_test)"
   ]
  },
  {
   "cell_type": "code",
   "execution_count": 36,
   "metadata": {},
   "outputs": [],
   "source": [
    "predictions = [round(value) for value in y_pred]"
   ]
  },
  {
   "cell_type": "code",
   "execution_count": 37,
   "metadata": {},
   "outputs": [
    {
     "name": "stdout",
     "output_type": "stream",
     "text": [
      "Accuracy: 99.85%\n"
     ]
    }
   ],
   "source": [
    "accuracy = accuracy_score(y_test, predictions)\n",
    "print(\"Accuracy: %.2f%%\" % (accuracy * 100.0))"
   ]
  },
  {
   "cell_type": "code",
   "execution_count": 38,
   "metadata": {},
   "outputs": [],
   "source": [
    "results = model.evals_result()\n",
    "epochs = len(results['validation_0']['error'])\n",
    "x_axis = range(0, epochs)"
   ]
  },
  {
   "cell_type": "code",
   "execution_count": 39,
   "metadata": {},
   "outputs": [
    {
     "data": {
      "image/png": "[encoded data removed]",
      "text/plain": [
       "<Figure size 432x288 with 1 Axes>"
      ]
     },
     "metadata": {
      "needs_background": "light"
     },
     "output_type": "display_data"
    }
   ],
   "source": [
    "fig, ax = plt.subplots()\n",
    "ax.plot(x_axis, results['validation_0']['logloss'], label='Train')\n",
    "ax.plot(x_axis, results['validation_1']['logloss'], label='Test')\n",
    "ax.legend()\n",
    "plt.ylabel('Log Loss')\n",
    "plt.title('XGBoost Log Loss')\n",
    "plt.show()"
   ]
  },
  {
   "cell_type": "code",
   "execution_count": 40,
   "metadata": {},
   "outputs": [
    {
     "data": {
      "image/png": "[encoded data removed]",
      "text/plain": [
       "<Figure size 432x288 with 1 Axes>"
      ]
     },
     "metadata": {
      "needs_background": "light"
     },
     "output_type": "display_data"
    }
   ],
   "source": [
    "fig, ax = plt.subplots()\n",
    "ax.plot(x_axis, results['validation_0']['error'], label='Train')\n",
    "ax.plot(x_axis, results['validation_1']['error'], label='Test')\n",
    "ax.legend()\n",
    "plt.ylabel('Classification Error')\n",
    "plt.title('XGBoost Classification Error')\n",
    "plt.show()"
   ]
  },
  {
   "cell_type": "code",
   "execution_count": 41,
   "metadata": {},
   "outputs": [
    {
     "name": "stderr",
     "output_type": "stream",
     "text": [
      "/opt/anaconda3/lib/python3.7/site-packages/xgboost/core.py:587: FutureWarning: Series.base is deprecated and will be removed in a future version\n",
      "  if getattr(data, 'base', None) is not None and \\\n"
     ]
    }
   ],
   "source": [
    "dTrain = xgb.DMatrix(X_res,label=y_res)\n",
    "dTest = xgb.DMatrix(X_test)\n",
    "dtrain = xgb.DMatrix(X_res)\n",
    "dPred = xgb.DMatrix(X)\n",
    "\n",
    "clf = xgb.train({'max_depth': 60, 'num_class': 1, \\\n",
    "                 'gamma': 10,'colsample_bytree': 0.4, 'subsample': 0.7,\\\n",
    "                 'num_round': 1, 'min_child_weight': 4, 'n_estimators': 1, \\\n",
    "                 'n_jobs': -1, 'learning_rate': 0.1, 'reg_alpha': 0.5},\\\n",
    "                dTrain, num_boost_round = 10)\n"
   ]
  },
  {
   "cell_type": "code",
   "execution_count": 42,
   "metadata": {},
   "outputs": [
    {
     "name": "stdout",
     "output_type": "stream",
     "text": [
      "              precision    recall  f1-score   support\n",
      "\n",
      "          -1       1.00      1.00      1.00     18823\n",
      "           1       0.38      0.68      0.48        34\n",
      "\n",
      "    accuracy                           1.00     18857\n",
      "   macro avg       0.69      0.84      0.74     18857\n",
      "weighted avg       1.00      1.00      1.00     18857\n",
      "\n"
     ]
    }
   ],
   "source": [
    "Y_pred = clf.predict(dTest)\n",
    "cut=[]\n",
    "for i in range(len(Y_pred)):\n",
    "    if Y_pred[i]<0:\n",
    "        cut.append(-1)\n",
    "    else:\n",
    "        cut.append(1)\n",
    "print(classification_report(y_test,cut))"
   ]
  },
  {
   "cell_type": "code",
   "execution_count": 43,
   "metadata": {},
   "outputs": [
    {
     "name": "stdout",
     "output_type": "stream",
     "text": [
      "              precision    recall  f1-score   support\n",
      "\n",
      "          -1       1.00      1.00      1.00      4133\n",
      "           1       0.82      0.81      0.81        62\n",
      "\n",
      "    accuracy                           0.99      4195\n",
      "   macro avg       0.91      0.90      0.91      4195\n",
      "weighted avg       0.99      0.99      0.99      4195\n",
      "\n"
     ]
    }
   ],
   "source": [
    "Y_pred = clf.predict(dTrain)\n",
    "cut=[]\n",
    "for i in range(len(Y_pred)):\n",
    "    if Y_pred[i]<0:\n",
    "        cut.append(-1)\n",
    "    else:\n",
    "        cut.append(1)\n",
    "print(classification_report(y_res,cut))"
   ]
  },
  {
   "cell_type": "code",
   "execution_count": null,
   "metadata": {},
   "outputs": [],
   "source": []
  },
  {
   "cell_type": "code",
   "execution_count": null,
   "metadata": {},
   "outputs": [],
   "source": []
  },
  {
   "cell_type": "markdown",
   "metadata": {},
   "source": [
    "Selecting features based on importance in Random forest"
   ]
  },
  {
   "cell_type": "code",
   "execution_count": 24,
   "metadata": {},
   "outputs": [
    {
     "data": {
      "text/plain": [
       "{'N9': 0.343,\n",
       " 'N10': 0.263,\n",
       " 'N8': 0.143,\n",
       " 'N6': 0.125,\n",
       " 'N3': 0.068,\n",
       " 'N4': 0.029,\n",
       " 'C7': 0.013,\n",
       " 'C8': 0.009,\n",
       " 'C9': 0.005,\n",
       " 'C2': 0.002}"
      ]
     },
     "execution_count": 24,
     "metadata": {},
     "output_type": "execute_result"
    }
   ],
   "source": [
    "features_rf = {}\n",
    "for A, B in zip(X.columns.to_numpy(), rf.feature_importances_):\n",
    "    features_rf[A] = B\n",
    "features_rf={k: round(v,3) for k, v in sorted(features_rf.items(), key=lambda item: item[1],reverse=True)}\n",
    "features_rf"
   ]
  },
  {
   "cell_type": "code",
   "execution_count": 25,
   "metadata": {},
   "outputs": [],
   "source": [
    "fit=[]\n",
    "for key, value in features_rf.items():\n",
    "    if float(value)>0.007:\n",
    "        fit.append(key)"
   ]
  },
  {
   "cell_type": "markdown",
   "metadata": {},
   "source": [
    "Now let's fit the model to the test dataset"
   ]
  },
  {
   "cell_type": "code",
   "execution_count": 598,
   "metadata": {},
   "outputs": [],
   "source": [
    "tst=pd.read_csv('test1.csv')"
   ]
  },
  {
   "cell_type": "code",
   "execution_count": 599,
   "metadata": {},
   "outputs": [
    {
     "data": {
      "text/html": [
       "<div>\n",
       "<style scoped>\n",
       "    .dataframe tbody tr th:only-of-type {\n",
       "        vertical-align: middle;\n",
       "    }\n",
       "\n",
       "    .dataframe tbody tr th {\n",
       "        vertical-align: top;\n",
       "    }\n",
       "\n",
       "    .dataframe thead th {\n",
       "        text-align: right;\n",
       "    }\n",
       "</style>\n",
       "<table border=\"1\" class=\"dataframe\">\n",
       "  <thead>\n",
       "    <tr style=\"text-align: right;\">\n",
       "      <th></th>\n",
       "      <th>label</th>\n",
       "      <th>id</th>\n",
       "      <th>visitTime</th>\n",
       "      <th>purchaseTime</th>\n",
       "      <th>hour</th>\n",
       "      <th>C1</th>\n",
       "      <th>C2</th>\n",
       "      <th>C3</th>\n",
       "      <th>C4</th>\n",
       "      <th>C5</th>\n",
       "      <th>...</th>\n",
       "      <th>N4</th>\n",
       "      <th>N5</th>\n",
       "      <th>N6</th>\n",
       "      <th>N7</th>\n",
       "      <th>N8</th>\n",
       "      <th>N9</th>\n",
       "      <th>N10</th>\n",
       "      <th>C10</th>\n",
       "      <th>C11</th>\n",
       "      <th>C12</th>\n",
       "    </tr>\n",
       "  </thead>\n",
       "  <tbody>\n",
       "    <tr>\n",
       "      <td>0</td>\n",
       "      <td>-1</td>\n",
       "      <td>1</td>\n",
       "      <td>19360733</td>\n",
       "      <td>-1</td>\n",
       "      <td>0</td>\n",
       "      <td>2569487005</td>\n",
       "      <td>403381353</td>\n",
       "      <td>681762206</td>\n",
       "      <td>652481754</td>\n",
       "      <td>2967512603</td>\n",
       "      <td>...</td>\n",
       "      <td>0</td>\n",
       "      <td>0</td>\n",
       "      <td>0</td>\n",
       "      <td>0</td>\n",
       "      <td>0</td>\n",
       "      <td>0</td>\n",
       "      <td>0</td>\n",
       "      <td>2128770044</td>\n",
       "      <td>3617851689</td>\n",
       "      <td>4220791646</td>\n",
       "    </tr>\n",
       "    <tr>\n",
       "      <td>1</td>\n",
       "      <td>-1</td>\n",
       "      <td>2</td>\n",
       "      <td>19360734</td>\n",
       "      <td>-1</td>\n",
       "      <td>0</td>\n",
       "      <td>2416811818</td>\n",
       "      <td>1235983246</td>\n",
       "      <td>3653557526</td>\n",
       "      <td>652481754</td>\n",
       "      <td>2116767313</td>\n",
       "      <td>...</td>\n",
       "      <td>0</td>\n",
       "      <td>0</td>\n",
       "      <td>0</td>\n",
       "      <td>0</td>\n",
       "      <td>0</td>\n",
       "      <td>0</td>\n",
       "      <td>0</td>\n",
       "      <td>4256459078</td>\n",
       "      <td>2379633508</td>\n",
       "      <td>1284343215</td>\n",
       "    </tr>\n",
       "    <tr>\n",
       "      <td>2</td>\n",
       "      <td>-1</td>\n",
       "      <td>3</td>\n",
       "      <td>19360735</td>\n",
       "      <td>-1</td>\n",
       "      <td>0</td>\n",
       "      <td>3765056181</td>\n",
       "      <td>1235983246</td>\n",
       "      <td>1310333812</td>\n",
       "      <td>652481754</td>\n",
       "      <td>2116767313</td>\n",
       "      <td>...</td>\n",
       "      <td>0</td>\n",
       "      <td>0</td>\n",
       "      <td>0</td>\n",
       "      <td>0</td>\n",
       "      <td>0</td>\n",
       "      <td>0</td>\n",
       "      <td>0</td>\n",
       "      <td>2840358457</td>\n",
       "      <td>3831440054</td>\n",
       "      <td>1213938795</td>\n",
       "    </tr>\n",
       "    <tr>\n",
       "      <td>3</td>\n",
       "      <td>-1</td>\n",
       "      <td>4</td>\n",
       "      <td>19360737</td>\n",
       "      <td>-1</td>\n",
       "      <td>0</td>\n",
       "      <td>955802445</td>\n",
       "      <td>403381353</td>\n",
       "      <td>2290282995</td>\n",
       "      <td>652481754</td>\n",
       "      <td>2967512603</td>\n",
       "      <td>...</td>\n",
       "      <td>0</td>\n",
       "      <td>0</td>\n",
       "      <td>0</td>\n",
       "      <td>0</td>\n",
       "      <td>0</td>\n",
       "      <td>0</td>\n",
       "      <td>0</td>\n",
       "      <td>4039873369</td>\n",
       "      <td>535829057</td>\n",
       "      <td>3828748840</td>\n",
       "    </tr>\n",
       "    <tr>\n",
       "      <td>4</td>\n",
       "      <td>-1</td>\n",
       "      <td>5</td>\n",
       "      <td>19360752</td>\n",
       "      <td>-1</td>\n",
       "      <td>0</td>\n",
       "      <td>2569487005</td>\n",
       "      <td>2517724481</td>\n",
       "      <td>2463986301</td>\n",
       "      <td>2308170622</td>\n",
       "      <td>2967512603</td>\n",
       "      <td>...</td>\n",
       "      <td>0</td>\n",
       "      <td>0</td>\n",
       "      <td>0</td>\n",
       "      <td>0</td>\n",
       "      <td>0</td>\n",
       "      <td>0</td>\n",
       "      <td>0</td>\n",
       "      <td>907610626</td>\n",
       "      <td>3617851689</td>\n",
       "      <td>4220791646</td>\n",
       "    </tr>\n",
       "    <tr>\n",
       "      <td>...</td>\n",
       "      <td>...</td>\n",
       "      <td>...</td>\n",
       "      <td>...</td>\n",
       "      <td>...</td>\n",
       "      <td>...</td>\n",
       "      <td>...</td>\n",
       "      <td>...</td>\n",
       "      <td>...</td>\n",
       "      <td>...</td>\n",
       "      <td>...</td>\n",
       "      <td>...</td>\n",
       "      <td>...</td>\n",
       "      <td>...</td>\n",
       "      <td>...</td>\n",
       "      <td>...</td>\n",
       "      <td>...</td>\n",
       "      <td>...</td>\n",
       "      <td>...</td>\n",
       "      <td>...</td>\n",
       "      <td>...</td>\n",
       "      <td>...</td>\n",
       "    </tr>\n",
       "    <tr>\n",
       "      <td>32081</td>\n",
       "      <td>-1</td>\n",
       "      <td>32082</td>\n",
       "      <td>19446873</td>\n",
       "      <td>-1</td>\n",
       "      <td>23</td>\n",
       "      <td>2569487005</td>\n",
       "      <td>2018710401</td>\n",
       "      <td>887116886</td>\n",
       "      <td>652481754</td>\n",
       "      <td>2967512603</td>\n",
       "      <td>...</td>\n",
       "      <td>0</td>\n",
       "      <td>0</td>\n",
       "      <td>0</td>\n",
       "      <td>0</td>\n",
       "      <td>0</td>\n",
       "      <td>0</td>\n",
       "      <td>0</td>\n",
       "      <td>1546561973</td>\n",
       "      <td>3617851689</td>\n",
       "      <td>4220791646</td>\n",
       "    </tr>\n",
       "    <tr>\n",
       "      <td>32082</td>\n",
       "      <td>-1</td>\n",
       "      <td>32083</td>\n",
       "      <td>19446914</td>\n",
       "      <td>-1</td>\n",
       "      <td>23</td>\n",
       "      <td>2569487005</td>\n",
       "      <td>403381353</td>\n",
       "      <td>3475347077</td>\n",
       "      <td>652481754</td>\n",
       "      <td>2967512603</td>\n",
       "      <td>...</td>\n",
       "      <td>0</td>\n",
       "      <td>0</td>\n",
       "      <td>0</td>\n",
       "      <td>0</td>\n",
       "      <td>0</td>\n",
       "      <td>0</td>\n",
       "      <td>0</td>\n",
       "      <td>3227742820</td>\n",
       "      <td>3617851689</td>\n",
       "      <td>4220791646</td>\n",
       "    </tr>\n",
       "    <tr>\n",
       "      <td>32083</td>\n",
       "      <td>-1</td>\n",
       "      <td>32084</td>\n",
       "      <td>19446925</td>\n",
       "      <td>-1</td>\n",
       "      <td>23</td>\n",
       "      <td>2569487005</td>\n",
       "      <td>403381353</td>\n",
       "      <td>3475347077</td>\n",
       "      <td>652481754</td>\n",
       "      <td>2967512603</td>\n",
       "      <td>...</td>\n",
       "      <td>0</td>\n",
       "      <td>0</td>\n",
       "      <td>0</td>\n",
       "      <td>0</td>\n",
       "      <td>0</td>\n",
       "      <td>0</td>\n",
       "      <td>0</td>\n",
       "      <td>4069315994</td>\n",
       "      <td>3617851689</td>\n",
       "      <td>4220791646</td>\n",
       "    </tr>\n",
       "    <tr>\n",
       "      <td>32084</td>\n",
       "      <td>-1</td>\n",
       "      <td>32085</td>\n",
       "      <td>19446931</td>\n",
       "      <td>-1</td>\n",
       "      <td>23</td>\n",
       "      <td>2569487005</td>\n",
       "      <td>2541203883</td>\n",
       "      <td>448895441</td>\n",
       "      <td>2308170622</td>\n",
       "      <td>2967512603</td>\n",
       "      <td>...</td>\n",
       "      <td>0</td>\n",
       "      <td>0</td>\n",
       "      <td>0</td>\n",
       "      <td>0</td>\n",
       "      <td>0</td>\n",
       "      <td>0</td>\n",
       "      <td>0</td>\n",
       "      <td>2724771230</td>\n",
       "      <td>3617851689</td>\n",
       "      <td>4220791646</td>\n",
       "    </tr>\n",
       "    <tr>\n",
       "      <td>32085</td>\n",
       "      <td>-1</td>\n",
       "      <td>32086</td>\n",
       "      <td>19446960</td>\n",
       "      <td>-1</td>\n",
       "      <td>23</td>\n",
       "      <td>2569487005</td>\n",
       "      <td>403381353</td>\n",
       "      <td>2294620541</td>\n",
       "      <td>652481754</td>\n",
       "      <td>2967512603</td>\n",
       "      <td>...</td>\n",
       "      <td>0</td>\n",
       "      <td>0</td>\n",
       "      <td>0</td>\n",
       "      <td>0</td>\n",
       "      <td>0</td>\n",
       "      <td>0</td>\n",
       "      <td>0</td>\n",
       "      <td>2151556883</td>\n",
       "      <td>3617851689</td>\n",
       "      <td>4220791646</td>\n",
       "    </tr>\n",
       "  </tbody>\n",
       "</table>\n",
       "<p>32086 rows × 27 columns</p>\n",
       "</div>"
      ],
      "text/plain": [
       "       label     id  visitTime  purchaseTime  hour          C1          C2  \\\n",
       "0         -1      1   19360733            -1     0  2569487005   403381353   \n",
       "1         -1      2   19360734            -1     0  2416811818  1235983246   \n",
       "2         -1      3   19360735            -1     0  3765056181  1235983246   \n",
       "3         -1      4   19360737            -1     0   955802445   403381353   \n",
       "4         -1      5   19360752            -1     0  2569487005  2517724481   \n",
       "...      ...    ...        ...           ...   ...         ...         ...   \n",
       "32081     -1  32082   19446873            -1    23  2569487005  2018710401   \n",
       "32082     -1  32083   19446914            -1    23  2569487005   403381353   \n",
       "32083     -1  32084   19446925            -1    23  2569487005   403381353   \n",
       "32084     -1  32085   19446931            -1    23  2569487005  2541203883   \n",
       "32085     -1  32086   19446960            -1    23  2569487005   403381353   \n",
       "\n",
       "               C3          C4          C5  ...  N4  N5  N6  N7  N8  N9  N10  \\\n",
       "0       681762206   652481754  2967512603  ...   0   0   0   0   0   0    0   \n",
       "1      3653557526   652481754  2116767313  ...   0   0   0   0   0   0    0   \n",
       "2      1310333812   652481754  2116767313  ...   0   0   0   0   0   0    0   \n",
       "3      2290282995   652481754  2967512603  ...   0   0   0   0   0   0    0   \n",
       "4      2463986301  2308170622  2967512603  ...   0   0   0   0   0   0    0   \n",
       "...           ...         ...         ...  ...  ..  ..  ..  ..  ..  ..  ...   \n",
       "32081   887116886   652481754  2967512603  ...   0   0   0   0   0   0    0   \n",
       "32082  3475347077   652481754  2967512603  ...   0   0   0   0   0   0    0   \n",
       "32083  3475347077   652481754  2967512603  ...   0   0   0   0   0   0    0   \n",
       "32084   448895441  2308170622  2967512603  ...   0   0   0   0   0   0    0   \n",
       "32085  2294620541   652481754  2967512603  ...   0   0   0   0   0   0    0   \n",
       "\n",
       "              C10         C11         C12  \n",
       "0      2128770044  3617851689  4220791646  \n",
       "1      4256459078  2379633508  1284343215  \n",
       "2      2840358457  3831440054  1213938795  \n",
       "3      4039873369   535829057  3828748840  \n",
       "4       907610626  3617851689  4220791646  \n",
       "...           ...         ...         ...  \n",
       "32081  1546561973  3617851689  4220791646  \n",
       "32082  3227742820  3617851689  4220791646  \n",
       "32083  4069315994  3617851689  4220791646  \n",
       "32084  2724771230  3617851689  4220791646  \n",
       "32085  2151556883  3617851689  4220791646  \n",
       "\n",
       "[32086 rows x 27 columns]"
      ]
     },
     "execution_count": 599,
     "metadata": {},
     "output_type": "execute_result"
    }
   ],
   "source": [
    "tst"
   ]
  },
  {
   "cell_type": "code",
   "execution_count": 600,
   "metadata": {},
   "outputs": [
    {
     "data": {
      "text/plain": [
       "-1    32086\n",
       "Name: label, dtype: int64"
      ]
     },
     "execution_count": 600,
     "metadata": {},
     "output_type": "execute_result"
    }
   ],
   "source": [
    "tst.label.value_counts()"
   ]
  },
  {
   "cell_type": "code",
   "execution_count": 601,
   "metadata": {},
   "outputs": [],
   "source": [
    "identification=tst.id"
   ]
  },
  {
   "cell_type": "code",
   "execution_count": 602,
   "metadata": {},
   "outputs": [],
   "source": [
    "to_normalize=[\"N9\",\"N10\",\"N8\",\"N4\",\"N3\",\"N6\"]\n",
    "#For loop to normalize by min-max values\n",
    "for i in to_normalize:\n",
    "    x= tst[[i]].values\n",
    "    min_max_scaler = preprocessing.MinMaxScaler()\n",
    "    x_scaled = min_max_scaler.fit_transform(x)\n",
    "    tst[i]=x_scaled"
   ]
  },
  {
   "cell_type": "code",
   "execution_count": 603,
   "metadata": {},
   "outputs": [],
   "source": [
    "tst=tst[to_normalize]"
   ]
  },
  {
   "cell_type": "code",
   "execution_count": 604,
   "metadata": {},
   "outputs": [],
   "source": [
    "a=tst.columns.tolist()\n",
    "b=X.columns.tolist()\n",
    "for i in range(len(a)):\n",
    "    if a[i] in b:\n",
    "        next\n",
    "    else:\n",
    "        print(a[i],\"Not in list\" )"
   ]
  },
  {
   "cell_type": "code",
   "execution_count": 605,
   "metadata": {},
   "outputs": [
    {
     "name": "stdout",
     "output_type": "stream",
     "text": [
      "(31428, 6)\n",
      "(32086, 6)\n"
     ]
    }
   ],
   "source": [
    "#If number of features is not the same, use the above code to match, and then delete/ add if needed\n",
    "print(X.shape)\n",
    "print(tst.shape)"
   ]
  },
  {
   "cell_type": "code",
   "execution_count": 606,
   "metadata": {},
   "outputs": [
    {
     "name": "stderr",
     "output_type": "stream",
     "text": [
      "/opt/anaconda3/lib/python3.7/site-packages/ipykernel_launcher.py:2: SettingWithCopyWarning: \n",
      "A value is trying to be set on a copy of a slice from a DataFrame.\n",
      "Try using .loc[row_indexer,col_indexer] = value instead\n",
      "\n",
      "See the caveats in the documentation: http://pandas.pydata.org/pandas-docs/stable/user_guide/indexing.html#returning-a-view-versus-a-copy\n",
      "  \n"
     ]
    }
   ],
   "source": [
    "predictions = xg.predict(tst)\n",
    "tst[\"label\"]=predictions"
   ]
  },
  {
   "cell_type": "code",
   "execution_count": 607,
   "metadata": {},
   "outputs": [
    {
     "data": {
      "text/plain": [
       "-1    31996\n",
       " 1       90\n",
       "Name: label, dtype: int64"
      ]
     },
     "execution_count": 607,
     "metadata": {},
     "output_type": "execute_result"
    }
   ],
   "source": [
    "tst.label.value_counts()"
   ]
  },
  {
   "cell_type": "code",
   "execution_count": 608,
   "metadata": {},
   "outputs": [
    {
     "data": {
      "text/html": [
       "<div>\n",
       "<style scoped>\n",
       "    .dataframe tbody tr th:only-of-type {\n",
       "        vertical-align: middle;\n",
       "    }\n",
       "\n",
       "    .dataframe tbody tr th {\n",
       "        vertical-align: top;\n",
       "    }\n",
       "\n",
       "    .dataframe thead th {\n",
       "        text-align: right;\n",
       "    }\n",
       "</style>\n",
       "<table border=\"1\" class=\"dataframe\">\n",
       "  <thead>\n",
       "    <tr style=\"text-align: right;\">\n",
       "      <th></th>\n",
       "      <th>N9</th>\n",
       "      <th>N10</th>\n",
       "      <th>N8</th>\n",
       "      <th>N4</th>\n",
       "      <th>N3</th>\n",
       "      <th>N6</th>\n",
       "      <th>label</th>\n",
       "    </tr>\n",
       "  </thead>\n",
       "  <tbody>\n",
       "    <tr>\n",
       "      <td>0</td>\n",
       "      <td>0.0</td>\n",
       "      <td>0.0</td>\n",
       "      <td>0.0</td>\n",
       "      <td>0.0</td>\n",
       "      <td>0.0</td>\n",
       "      <td>0.0</td>\n",
       "      <td>-1</td>\n",
       "    </tr>\n",
       "    <tr>\n",
       "      <td>1</td>\n",
       "      <td>0.0</td>\n",
       "      <td>0.0</td>\n",
       "      <td>0.0</td>\n",
       "      <td>0.0</td>\n",
       "      <td>0.0</td>\n",
       "      <td>0.0</td>\n",
       "      <td>-1</td>\n",
       "    </tr>\n",
       "    <tr>\n",
       "      <td>2</td>\n",
       "      <td>0.0</td>\n",
       "      <td>0.0</td>\n",
       "      <td>0.0</td>\n",
       "      <td>0.0</td>\n",
       "      <td>0.0</td>\n",
       "      <td>0.0</td>\n",
       "      <td>-1</td>\n",
       "    </tr>\n",
       "    <tr>\n",
       "      <td>3</td>\n",
       "      <td>0.0</td>\n",
       "      <td>0.0</td>\n",
       "      <td>0.0</td>\n",
       "      <td>0.0</td>\n",
       "      <td>0.0</td>\n",
       "      <td>0.0</td>\n",
       "      <td>-1</td>\n",
       "    </tr>\n",
       "    <tr>\n",
       "      <td>4</td>\n",
       "      <td>0.0</td>\n",
       "      <td>0.0</td>\n",
       "      <td>0.0</td>\n",
       "      <td>0.0</td>\n",
       "      <td>0.0</td>\n",
       "      <td>0.0</td>\n",
       "      <td>-1</td>\n",
       "    </tr>\n",
       "    <tr>\n",
       "      <td>...</td>\n",
       "      <td>...</td>\n",
       "      <td>...</td>\n",
       "      <td>...</td>\n",
       "      <td>...</td>\n",
       "      <td>...</td>\n",
       "      <td>...</td>\n",
       "      <td>...</td>\n",
       "    </tr>\n",
       "    <tr>\n",
       "      <td>32081</td>\n",
       "      <td>0.0</td>\n",
       "      <td>0.0</td>\n",
       "      <td>0.0</td>\n",
       "      <td>0.0</td>\n",
       "      <td>0.0</td>\n",
       "      <td>0.0</td>\n",
       "      <td>-1</td>\n",
       "    </tr>\n",
       "    <tr>\n",
       "      <td>32082</td>\n",
       "      <td>0.0</td>\n",
       "      <td>0.0</td>\n",
       "      <td>0.0</td>\n",
       "      <td>0.0</td>\n",
       "      <td>0.0</td>\n",
       "      <td>0.0</td>\n",
       "      <td>-1</td>\n",
       "    </tr>\n",
       "    <tr>\n",
       "      <td>32083</td>\n",
       "      <td>0.0</td>\n",
       "      <td>0.0</td>\n",
       "      <td>0.0</td>\n",
       "      <td>0.0</td>\n",
       "      <td>0.0</td>\n",
       "      <td>0.0</td>\n",
       "      <td>-1</td>\n",
       "    </tr>\n",
       "    <tr>\n",
       "      <td>32084</td>\n",
       "      <td>0.0</td>\n",
       "      <td>0.0</td>\n",
       "      <td>0.0</td>\n",
       "      <td>0.0</td>\n",
       "      <td>0.0</td>\n",
       "      <td>0.0</td>\n",
       "      <td>-1</td>\n",
       "    </tr>\n",
       "    <tr>\n",
       "      <td>32085</td>\n",
       "      <td>0.0</td>\n",
       "      <td>0.0</td>\n",
       "      <td>0.0</td>\n",
       "      <td>0.0</td>\n",
       "      <td>0.0</td>\n",
       "      <td>0.0</td>\n",
       "      <td>-1</td>\n",
       "    </tr>\n",
       "  </tbody>\n",
       "</table>\n",
       "<p>32086 rows × 7 columns</p>\n",
       "</div>"
      ],
      "text/plain": [
       "        N9  N10   N8   N4   N3   N6  label\n",
       "0      0.0  0.0  0.0  0.0  0.0  0.0     -1\n",
       "1      0.0  0.0  0.0  0.0  0.0  0.0     -1\n",
       "2      0.0  0.0  0.0  0.0  0.0  0.0     -1\n",
       "3      0.0  0.0  0.0  0.0  0.0  0.0     -1\n",
       "4      0.0  0.0  0.0  0.0  0.0  0.0     -1\n",
       "...    ...  ...  ...  ...  ...  ...    ...\n",
       "32081  0.0  0.0  0.0  0.0  0.0  0.0     -1\n",
       "32082  0.0  0.0  0.0  0.0  0.0  0.0     -1\n",
       "32083  0.0  0.0  0.0  0.0  0.0  0.0     -1\n",
       "32084  0.0  0.0  0.0  0.0  0.0  0.0     -1\n",
       "32085  0.0  0.0  0.0  0.0  0.0  0.0     -1\n",
       "\n",
       "[32086 rows x 7 columns]"
      ]
     },
     "execution_count": 608,
     "metadata": {},
     "output_type": "execute_result"
    }
   ],
   "source": [
    "tst"
   ]
  },
  {
   "cell_type": "code",
   "execution_count": 609,
   "metadata": {},
   "outputs": [
    {
     "name": "stderr",
     "output_type": "stream",
     "text": [
      "/opt/anaconda3/lib/python3.7/site-packages/ipykernel_launcher.py:2: SettingWithCopyWarning: \n",
      "A value is trying to be set on a copy of a slice from a DataFrame.\n",
      "Try using .loc[row_indexer,col_indexer] = value instead\n",
      "\n",
      "See the caveats in the documentation: http://pandas.pydata.org/pandas-docs/stable/user_guide/indexing.html#returning-a-view-versus-a-copy\n",
      "  \n"
     ]
    }
   ],
   "source": [
    "out=tst[[\"label\"]]\n",
    "out[\"id\"]=identification"
   ]
  },
  {
   "cell_type": "code",
   "execution_count": 610,
   "metadata": {
    "scrolled": true
   },
   "outputs": [
    {
     "data": {
      "text/html": [
       "<div>\n",
       "<style scoped>\n",
       "    .dataframe tbody tr th:only-of-type {\n",
       "        vertical-align: middle;\n",
       "    }\n",
       "\n",
       "    .dataframe tbody tr th {\n",
       "        vertical-align: top;\n",
       "    }\n",
       "\n",
       "    .dataframe thead th {\n",
       "        text-align: right;\n",
       "    }\n",
       "</style>\n",
       "<table border=\"1\" class=\"dataframe\">\n",
       "  <thead>\n",
       "    <tr style=\"text-align: right;\">\n",
       "      <th></th>\n",
       "      <th>label</th>\n",
       "      <th>id</th>\n",
       "    </tr>\n",
       "  </thead>\n",
       "  <tbody>\n",
       "    <tr>\n",
       "      <td>0</td>\n",
       "      <td>-1</td>\n",
       "      <td>1</td>\n",
       "    </tr>\n",
       "    <tr>\n",
       "      <td>1</td>\n",
       "      <td>-1</td>\n",
       "      <td>2</td>\n",
       "    </tr>\n",
       "    <tr>\n",
       "      <td>2</td>\n",
       "      <td>-1</td>\n",
       "      <td>3</td>\n",
       "    </tr>\n",
       "    <tr>\n",
       "      <td>3</td>\n",
       "      <td>-1</td>\n",
       "      <td>4</td>\n",
       "    </tr>\n",
       "    <tr>\n",
       "      <td>4</td>\n",
       "      <td>-1</td>\n",
       "      <td>5</td>\n",
       "    </tr>\n",
       "    <tr>\n",
       "      <td>...</td>\n",
       "      <td>...</td>\n",
       "      <td>...</td>\n",
       "    </tr>\n",
       "    <tr>\n",
       "      <td>32081</td>\n",
       "      <td>-1</td>\n",
       "      <td>32082</td>\n",
       "    </tr>\n",
       "    <tr>\n",
       "      <td>32082</td>\n",
       "      <td>-1</td>\n",
       "      <td>32083</td>\n",
       "    </tr>\n",
       "    <tr>\n",
       "      <td>32083</td>\n",
       "      <td>-1</td>\n",
       "      <td>32084</td>\n",
       "    </tr>\n",
       "    <tr>\n",
       "      <td>32084</td>\n",
       "      <td>-1</td>\n",
       "      <td>32085</td>\n",
       "    </tr>\n",
       "    <tr>\n",
       "      <td>32085</td>\n",
       "      <td>-1</td>\n",
       "      <td>32086</td>\n",
       "    </tr>\n",
       "  </tbody>\n",
       "</table>\n",
       "<p>32086 rows × 2 columns</p>\n",
       "</div>"
      ],
      "text/plain": [
       "       label     id\n",
       "0         -1      1\n",
       "1         -1      2\n",
       "2         -1      3\n",
       "3         -1      4\n",
       "4         -1      5\n",
       "...      ...    ...\n",
       "32081     -1  32082\n",
       "32082     -1  32083\n",
       "32083     -1  32084\n",
       "32084     -1  32085\n",
       "32085     -1  32086\n",
       "\n",
       "[32086 rows x 2 columns]"
      ]
     },
     "execution_count": 610,
     "metadata": {},
     "output_type": "execute_result"
    }
   ],
   "source": [
    "out"
   ]
  },
  {
   "cell_type": "code",
   "execution_count": 611,
   "metadata": {},
   "outputs": [],
   "source": [
    "out.to_csv(\"/Users/andreasabia/Documents/ESCP/Machine Learning With Python/Output.csv\")"
   ]
  }
 ],
 "metadata": {
  "kernelspec": {
   "display_name": "Python 3",
   "language": "python",
   "name": "python3"
  },
  "language_info": {
   "codemirror_mode": {
    "name": "ipython",
    "version": 3
   },
   "file_extension": ".py",
   "mimetype": "text/x-python",
   "name": "python",
   "nbconvert_exporter": "python",
   "pygments_lexer": "ipython3",
   "version": "3.7.4"
  }
 },
 "nbformat": 4,
 "nbformat_minor": 2
}
