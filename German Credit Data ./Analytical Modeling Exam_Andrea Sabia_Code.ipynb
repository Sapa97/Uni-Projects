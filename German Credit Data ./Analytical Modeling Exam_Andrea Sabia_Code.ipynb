{
 "cells": [
  {
   "cell_type": "markdown",
   "metadata": {},
   "source": [
    "## German Credit Data\n",
    "#### Andrea Sabia"
   ]
  },
  {
   "cell_type": "code",
   "execution_count": 1,
   "metadata": {},
   "outputs": [],
   "source": [
    "# Importing needed packages\n",
    "import os\n",
    "import pandas as pd\n",
    "import numpy as np\n",
    "import matplotlib.pyplot as plt\n",
    "from mlxtend.frequent_patterns import apriori\n",
    "from mlxtend.frequent_patterns import association_rules\n",
    "from sklearn import preprocessing\n",
    "from sklearn.model_selection import GridSearchCV\n",
    "from sklearn.model_selection import train_test_split\n",
    "from sklearn.linear_model import LogisticRegression\n",
    "from sklearn.ensemble import RandomForestClassifier\n",
    "from sklearn.neighbors import KNeighborsClassifier\n",
    "from sklearn.cluster import KMeans\n",
    "from sklearn import linear_model\n",
    "from sklearn import metrics\n",
    "from sklearn.metrics import classification_report\n",
    "from sklearn.metrics import confusion_matrix\n",
    "from sklearn.metrics import plot_roc_curve\n",
    "from sklearn.metrics import roc_curve\n",
    "from sklearn.metrics import precision_recall_curve\n",
    "from sklearn.metrics import plot_precision_recall_curve\n",
    "from sklearn.metrics import average_precision_score"
   ]
  },
  {
   "cell_type": "code",
   "execution_count": 2,
   "metadata": {},
   "outputs": [],
   "source": [
    "#Setting working directory\n",
    "os.chdir(\"/Users/andreasabia/Documents/ESCP/Analytical Modeling\")\n",
    "#Importing dataset\n",
    "df=pd.read_csv(\"./data for problem B.csv\")"
   ]
  },
  {
   "cell_type": "markdown",
   "metadata": {},
   "source": [
    "#### Exploring dataset"
   ]
  },
  {
   "cell_type": "code",
   "execution_count": 3,
   "metadata": {},
   "outputs": [
    {
     "data": {
      "text/html": [
       "<div>\n",
       "<style scoped>\n",
       "    .dataframe tbody tr th:only-of-type {\n",
       "        vertical-align: middle;\n",
       "    }\n",
       "\n",
       "    .dataframe tbody tr th {\n",
       "        vertical-align: top;\n",
       "    }\n",
       "\n",
       "    .dataframe thead th {\n",
       "        text-align: right;\n",
       "    }\n",
       "</style>\n",
       "<table border=\"1\" class=\"dataframe\">\n",
       "  <thead>\n",
       "    <tr style=\"text-align: right;\">\n",
       "      <th></th>\n",
       "      <th>Default</th>\n",
       "      <th>duration</th>\n",
       "      <th>amount</th>\n",
       "      <th>installment</th>\n",
       "      <th>residence</th>\n",
       "      <th>age</th>\n",
       "      <th>cards</th>\n",
       "      <th>liable</th>\n",
       "    </tr>\n",
       "  </thead>\n",
       "  <tbody>\n",
       "    <tr>\n",
       "      <td>count</td>\n",
       "      <td>900.000000</td>\n",
       "      <td>900.000000</td>\n",
       "      <td>900.000000</td>\n",
       "      <td>900.000000</td>\n",
       "      <td>900.000000</td>\n",
       "      <td>900.000000</td>\n",
       "      <td>900.000000</td>\n",
       "      <td>900.000000</td>\n",
       "    </tr>\n",
       "    <tr>\n",
       "      <td>mean</td>\n",
       "      <td>0.300000</td>\n",
       "      <td>20.732222</td>\n",
       "      <td>3268.436667</td>\n",
       "      <td>2.965556</td>\n",
       "      <td>2.866667</td>\n",
       "      <td>35.622222</td>\n",
       "      <td>1.412222</td>\n",
       "      <td>1.155556</td>\n",
       "    </tr>\n",
       "    <tr>\n",
       "      <td>std</td>\n",
       "      <td>0.458512</td>\n",
       "      <td>11.790178</td>\n",
       "      <td>2839.812099</td>\n",
       "      <td>1.116133</td>\n",
       "      <td>1.102127</td>\n",
       "      <td>11.429309</td>\n",
       "      <td>0.575806</td>\n",
       "      <td>0.362635</td>\n",
       "    </tr>\n",
       "    <tr>\n",
       "      <td>min</td>\n",
       "      <td>0.000000</td>\n",
       "      <td>4.000000</td>\n",
       "      <td>250.000000</td>\n",
       "      <td>1.000000</td>\n",
       "      <td>1.000000</td>\n",
       "      <td>19.000000</td>\n",
       "      <td>1.000000</td>\n",
       "      <td>1.000000</td>\n",
       "    </tr>\n",
       "    <tr>\n",
       "      <td>25%</td>\n",
       "      <td>0.000000</td>\n",
       "      <td>12.000000</td>\n",
       "      <td>1359.500000</td>\n",
       "      <td>2.000000</td>\n",
       "      <td>2.000000</td>\n",
       "      <td>27.000000</td>\n",
       "      <td>1.000000</td>\n",
       "      <td>1.000000</td>\n",
       "    </tr>\n",
       "    <tr>\n",
       "      <td>50%</td>\n",
       "      <td>0.000000</td>\n",
       "      <td>18.000000</td>\n",
       "      <td>2308.500000</td>\n",
       "      <td>3.000000</td>\n",
       "      <td>3.000000</td>\n",
       "      <td>33.000000</td>\n",
       "      <td>1.000000</td>\n",
       "      <td>1.000000</td>\n",
       "    </tr>\n",
       "    <tr>\n",
       "      <td>75%</td>\n",
       "      <td>1.000000</td>\n",
       "      <td>24.000000</td>\n",
       "      <td>3965.250000</td>\n",
       "      <td>4.000000</td>\n",
       "      <td>4.000000</td>\n",
       "      <td>42.000000</td>\n",
       "      <td>2.000000</td>\n",
       "      <td>1.000000</td>\n",
       "    </tr>\n",
       "    <tr>\n",
       "      <td>max</td>\n",
       "      <td>1.000000</td>\n",
       "      <td>60.000000</td>\n",
       "      <td>18424.000000</td>\n",
       "      <td>4.000000</td>\n",
       "      <td>4.000000</td>\n",
       "      <td>75.000000</td>\n",
       "      <td>4.000000</td>\n",
       "      <td>2.000000</td>\n",
       "    </tr>\n",
       "  </tbody>\n",
       "</table>\n",
       "</div>"
      ],
      "text/plain": [
       "          Default    duration        amount  installment   residence  \\\n",
       "count  900.000000  900.000000    900.000000   900.000000  900.000000   \n",
       "mean     0.300000   20.732222   3268.436667     2.965556    2.866667   \n",
       "std      0.458512   11.790178   2839.812099     1.116133    1.102127   \n",
       "min      0.000000    4.000000    250.000000     1.000000    1.000000   \n",
       "25%      0.000000   12.000000   1359.500000     2.000000    2.000000   \n",
       "50%      0.000000   18.000000   2308.500000     3.000000    3.000000   \n",
       "75%      1.000000   24.000000   3965.250000     4.000000    4.000000   \n",
       "max      1.000000   60.000000  18424.000000     4.000000    4.000000   \n",
       "\n",
       "              age       cards      liable  \n",
       "count  900.000000  900.000000  900.000000  \n",
       "mean    35.622222    1.412222    1.155556  \n",
       "std     11.429309    0.575806    0.362635  \n",
       "min     19.000000    1.000000    1.000000  \n",
       "25%     27.000000    1.000000    1.000000  \n",
       "50%     33.000000    1.000000    1.000000  \n",
       "75%     42.000000    2.000000    1.000000  \n",
       "max     75.000000    4.000000    2.000000  "
      ]
     },
     "execution_count": 3,
     "metadata": {},
     "output_type": "execute_result"
    }
   ],
   "source": [
    "df.describe()"
   ]
  },
  {
   "cell_type": "code",
   "execution_count": 4,
   "metadata": {},
   "outputs": [
    {
     "data": {
      "image/png": "[encoded data removed]",
      "text/plain": [
       "<Figure size 1080x1080 with 9 Axes>"
      ]
     },
     "metadata": {
      "needs_background": "light"
     },
     "output_type": "display_data"
    }
   ],
   "source": [
    "df.hist(bins = 50, figsize=(15,15));"
   ]
  },
  {
   "cell_type": "code",
   "execution_count": 5,
   "metadata": {},
   "outputs": [
    {
     "data": {
      "text/html": [
       "<div>\n",
       "<style scoped>\n",
       "    .dataframe tbody tr th:only-of-type {\n",
       "        vertical-align: middle;\n",
       "    }\n",
       "\n",
       "    .dataframe tbody tr th {\n",
       "        vertical-align: top;\n",
       "    }\n",
       "\n",
       "    .dataframe thead th {\n",
       "        text-align: right;\n",
       "    }\n",
       "</style>\n",
       "<table border=\"1\" class=\"dataframe\">\n",
       "  <thead>\n",
       "    <tr style=\"text-align: right;\">\n",
       "      <th></th>\n",
       "      <th>Total</th>\n",
       "      <th>%</th>\n",
       "    </tr>\n",
       "  </thead>\n",
       "  <tbody>\n",
       "    <tr>\n",
       "      <td>foreign</td>\n",
       "      <td>0</td>\n",
       "      <td>0.0</td>\n",
       "    </tr>\n",
       "    <tr>\n",
       "      <td>status</td>\n",
       "      <td>0</td>\n",
       "      <td>0.0</td>\n",
       "    </tr>\n",
       "    <tr>\n",
       "      <td>checkingstatus1</td>\n",
       "      <td>0</td>\n",
       "      <td>0.0</td>\n",
       "    </tr>\n",
       "    <tr>\n",
       "      <td>duration</td>\n",
       "      <td>0</td>\n",
       "      <td>0.0</td>\n",
       "    </tr>\n",
       "    <tr>\n",
       "      <td>history</td>\n",
       "      <td>0</td>\n",
       "      <td>0.0</td>\n",
       "    </tr>\n",
       "    <tr>\n",
       "      <td>purpose</td>\n",
       "      <td>0</td>\n",
       "      <td>0.0</td>\n",
       "    </tr>\n",
       "  </tbody>\n",
       "</table>\n",
       "</div>"
      ],
      "text/plain": [
       "                 Total    %\n",
       "foreign              0  0.0\n",
       "status               0  0.0\n",
       "checkingstatus1      0  0.0\n",
       "duration             0  0.0\n",
       "history              0  0.0\n",
       "purpose              0  0.0"
      ]
     },
     "execution_count": 5,
     "metadata": {},
     "output_type": "execute_result"
    }
   ],
   "source": [
    "#Checking for missing values\n",
    "total = df.isnull().sum().sort_values(ascending=False)\n",
    "percent_1 = df.isnull().sum()/df.isnull().count()*100\n",
    "percent_2 = (round(percent_1, 1)).sort_values(ascending=False)\n",
    "missing_data = pd.concat([total, percent_2], axis=1, keys=['Total', '%'])\n",
    "missing_data.head(6)"
   ]
  },
  {
   "cell_type": "code",
   "execution_count": 6,
   "metadata": {},
   "outputs": [
    {
     "name": "stdout",
     "output_type": "stream",
     "text": [
      "<class 'pandas.core.frame.DataFrame'>\n",
      "RangeIndex: 900 entries, 0 to 899\n",
      "Data columns (total 21 columns):\n",
      "Default            900 non-null int64\n",
      "checkingstatus1    900 non-null object\n",
      "duration           900 non-null int64\n",
      "history            900 non-null object\n",
      "purpose            900 non-null object\n",
      "amount             900 non-null int64\n",
      "savings            900 non-null object\n",
      "employ             900 non-null object\n",
      "installment        900 non-null int64\n",
      "status             900 non-null object\n",
      "others             900 non-null object\n",
      "residence          900 non-null int64\n",
      "property           900 non-null object\n",
      "age                900 non-null int64\n",
      "otherplans         900 non-null object\n",
      "housing            900 non-null object\n",
      "cards              900 non-null int64\n",
      "job                900 non-null object\n",
      "liable             900 non-null int64\n",
      "tele               900 non-null object\n",
      "foreign            900 non-null object\n",
      "dtypes: int64(8), object(13)\n",
      "memory usage: 147.8+ KB\n"
     ]
    }
   ],
   "source": [
    "df.info()"
   ]
  },
  {
   "cell_type": "code",
   "execution_count": 7,
   "metadata": {},
   "outputs": [],
   "source": [
    "cols=df.columns.to_list()\n",
    "dummy=[]\n",
    "other_cols=[]\n",
    "for i in cols:\n",
    "    if df[i].dtype == \"object\":\n",
    "        dummy.append(i)\n",
    "    else:\n",
    "        other_cols.append(i)"
   ]
  },
  {
   "cell_type": "markdown",
   "metadata": {},
   "source": [
    "Preprocessing"
   ]
  },
  {
   "cell_type": "code",
   "execution_count": 8,
   "metadata": {},
   "outputs": [],
   "source": [
    "#Dummifying columns, dropping the original and the first dummy\n",
    "data=pd.get_dummies(df, columns=[\"checkingstatus1\",\"history\",\"purpose\",\"savings\",\"employ\",\\\n",
    "                                 \"installment\",\"status\",\"others\",\"residence\",\"property\",\"otherplans\",\\\n",
    "                                \"housing\",\"cards\",\"job\",\"liable\",\"tele\",\"foreign\"], drop_first=True)"
   ]
  },
  {
   "cell_type": "code",
   "execution_count": 9,
   "metadata": {},
   "outputs": [],
   "source": [
    "#Normalizing columns\n",
    "#Setting columns to normalize\n",
    "to_normalize=[\"duration\",\"amount\",\"age\"]\n",
    "#For loop to normalize by min-max values\n",
    "for i in to_normalize:\n",
    "    x = data[[i]].values\n",
    "    min_max_scaler = preprocessing.MinMaxScaler()\n",
    "    x_scaled = min_max_scaler.fit_transform(x)\n",
    "    data[i]=x_scaled"
   ]
  },
  {
   "cell_type": "code",
   "execution_count": 10,
   "metadata": {},
   "outputs": [
    {
     "name": "stdout",
     "output_type": "stream",
     "text": [
      "---- Default ---\n",
      "0    630\n",
      "1    270\n",
      "Name: Default, dtype: int64\n",
      "---- duration ---\n",
      "0.357143    165\n",
      "0.142857    163\n",
      "0.250000    103\n",
      "0.571429     76\n",
      "0.035714     67\n",
      "0.196429     56\n",
      "0.089286     44\n",
      "0.785714     43\n",
      "0.464286     34\n",
      "0.303571     26\n",
      "0.107143     25\n",
      "0.410714     13\n",
      "0.125000      9\n",
      "0.678571      9\n",
      "1.000000      9\n",
      "0.285714      8\n",
      "0.071429      7\n",
      "0.000000      6\n",
      "0.732143      5\n",
      "0.625000      5\n",
      "0.160714      4\n",
      "0.053571      4\n",
      "0.178571      3\n",
      "0.428571      3\n",
      "0.517857      3\n",
      "0.892857      2\n",
      "0.321429      2\n",
      "0.214286      2\n",
      "0.767857      1\n",
      "0.642857      1\n",
      "0.392857      1\n",
      "0.017857      1\n",
      "Name: duration, dtype: int64\n",
      "---- amount ---\n",
      "0.055464    3\n",
      "0.055684    3\n",
      "0.026246    2\n",
      "0.068945    2\n",
      "0.060196    2\n",
      "           ..\n",
      "0.193023    1\n",
      "0.038572    1\n",
      "0.043579    1\n",
      "0.399527    1\n",
      "0.000000    1\n",
      "Name: amount, Length: 836, dtype: int64\n",
      "---- age ---\n",
      "0.125000    46\n",
      "0.071429    44\n",
      "0.142857    43\n",
      "0.089286    41\n",
      "0.160714    38\n",
      "0.303571    38\n",
      "0.196429    38\n",
      "0.107143    38\n",
      "0.285714    36\n",
      "0.214286    35\n",
      "0.178571    33\n",
      "0.232143    30\n",
      "0.250000    29\n",
      "0.267857    28\n",
      "0.321429    25\n",
      "0.375000    23\n",
      "0.053571    21\n",
      "0.357143    21\n",
      "0.339286    20\n",
      "0.410714    20\n",
      "0.482143    18\n",
      "0.428571    16\n",
      "0.446429    15\n",
      "0.017857    14\n",
      "0.500000    14\n",
      "0.392857    13\n",
      "0.535714    13\n",
      "0.035714    12\n",
      "0.464286    12\n",
      "0.517857    10\n",
      "0.625000    10\n",
      "0.678571     9\n",
      "0.589286     9\n",
      "0.785714     8\n",
      "0.571429     8\n",
      "0.642857     8\n",
      "0.607143     7\n",
      "0.750000     7\n",
      "0.553571     7\n",
      "0.732143     6\n",
      "0.696429     5\n",
      "0.839286     5\n",
      "0.821429     4\n",
      "0.714286     3\n",
      "0.857143     3\n",
      "0.982143     3\n",
      "0.803571     3\n",
      "0.875000     3\n",
      "1.000000     2\n",
      "0.767857     2\n",
      "0.660714     2\n",
      "0.000000     1\n",
      "0.910714     1\n",
      "Name: age, dtype: int64\n",
      "---- checkingstatus1_A12 ---\n",
      "0    656\n",
      "1    244\n",
      "Name: checkingstatus1_A12, dtype: int64\n",
      "---- checkingstatus1_A13 ---\n",
      "0    845\n",
      "1     55\n",
      "Name: checkingstatus1_A13, dtype: int64\n",
      "---- checkingstatus1_A14 ---\n",
      "0    550\n",
      "1    350\n",
      "Name: checkingstatus1_A14, dtype: int64\n",
      "---- history_A31 ---\n",
      "0    858\n",
      "1     42\n",
      "Name: history_A31, dtype: int64\n",
      "---- history_A32 ---\n",
      "1    475\n",
      "0    425\n",
      "Name: history_A32, dtype: int64\n",
      "---- history_A33 ---\n",
      "0    824\n",
      "1     76\n",
      "Name: history_A33, dtype: int64\n",
      "---- history_A34 ---\n",
      "0    630\n",
      "1    270\n",
      "Name: history_A34, dtype: int64\n",
      "---- purpose_A41 ---\n",
      "0    801\n",
      "1     99\n",
      "Name: purpose_A41, dtype: int64\n",
      "---- purpose_A410 ---\n",
      "0    889\n",
      "1     11\n",
      "Name: purpose_A410, dtype: int64\n",
      "---- purpose_A42 ---\n",
      "0    738\n",
      "1    162\n",
      "Name: purpose_A42, dtype: int64\n",
      "---- purpose_A43 ---\n",
      "0    651\n",
      "1    249\n",
      "Name: purpose_A43, dtype: int64\n",
      "---- purpose_A44 ---\n",
      "0    889\n",
      "1     11\n",
      "Name: purpose_A44, dtype: int64\n",
      "---- purpose_A45 ---\n",
      "0    880\n",
      "1     20\n",
      "Name: purpose_A45, dtype: int64\n",
      "---- purpose_A46 ---\n",
      "0    859\n",
      "1     41\n",
      "Name: purpose_A46, dtype: int64\n",
      "---- purpose_A48 ---\n",
      "0    891\n",
      "1      9\n",
      "Name: purpose_A48, dtype: int64\n",
      "---- purpose_A49 ---\n",
      "0    815\n",
      "1     85\n",
      "Name: purpose_A49, dtype: int64\n",
      "---- savings_A62 ---\n",
      "0    812\n",
      "1     88\n",
      "Name: savings_A62, dtype: int64\n",
      "---- savings_A63 ---\n",
      "0    844\n",
      "1     56\n",
      "Name: savings_A63, dtype: int64\n",
      "---- savings_A64 ---\n",
      "0    855\n",
      "1     45\n",
      "Name: savings_A64, dtype: int64\n",
      "---- savings_A65 ---\n",
      "0    731\n",
      "1    169\n",
      "Name: savings_A65, dtype: int64\n",
      "---- employ_A72 ---\n",
      "0    744\n",
      "1    156\n",
      "Name: employ_A72, dtype: int64\n",
      "---- employ_A73 ---\n",
      "0    602\n",
      "1    298\n",
      "Name: employ_A73, dtype: int64\n",
      "---- employ_A74 ---\n",
      "0    745\n",
      "1    155\n",
      "Name: employ_A74, dtype: int64\n",
      "---- employ_A75 ---\n",
      "0    665\n",
      "1    235\n",
      "Name: employ_A75, dtype: int64\n",
      "---- installment_2 ---\n",
      "0    690\n",
      "1    210\n",
      "Name: installment_2, dtype: int64\n",
      "---- installment_3 ---\n",
      "0    755\n",
      "1    145\n",
      "Name: installment_3, dtype: int64\n",
      "---- installment_4 ---\n",
      "0    477\n",
      "1    423\n",
      "Name: installment_4, dtype: int64\n",
      "---- status_A92 ---\n",
      "0    618\n",
      "1    282\n",
      "Name: status_A92, dtype: int64\n",
      "---- status_A93 ---\n",
      "1    488\n",
      "0    412\n",
      "Name: status_A93, dtype: int64\n",
      "---- status_A94 ---\n",
      "0    816\n",
      "1     84\n",
      "Name: status_A94, dtype: int64\n",
      "---- others_A102 ---\n",
      "0    866\n",
      "1     34\n",
      "Name: others_A102, dtype: int64\n",
      "---- others_A103 ---\n",
      "0    853\n",
      "1     47\n",
      "Name: others_A103, dtype: int64\n",
      "---- residence_2 ---\n",
      "0    625\n",
      "1    275\n",
      "Name: residence_2, dtype: int64\n",
      "---- residence_3 ---\n",
      "0    769\n",
      "1    131\n",
      "Name: residence_3, dtype: int64\n",
      "---- residence_4 ---\n",
      "0    519\n",
      "1    381\n",
      "Name: residence_4, dtype: int64\n",
      "---- property_A122 ---\n",
      "0    692\n",
      "1    208\n",
      "Name: property_A122, dtype: int64\n",
      "---- property_A123 ---\n",
      "0    602\n",
      "1    298\n",
      "Name: property_A123, dtype: int64\n",
      "---- property_A124 ---\n",
      "0    764\n",
      "1    136\n",
      "Name: property_A124, dtype: int64\n",
      "---- otherplans_A142 ---\n",
      "0    858\n",
      "1     42\n",
      "Name: otherplans_A142, dtype: int64\n",
      "---- otherplans_A143 ---\n",
      "1    735\n",
      "0    165\n",
      "Name: otherplans_A143, dtype: int64\n",
      "---- housing_A152 ---\n",
      "1    639\n",
      "0    261\n",
      "Name: housing_A152, dtype: int64\n",
      "---- housing_A153 ---\n",
      "0    806\n",
      "1     94\n",
      "Name: housing_A153, dtype: int64\n",
      "---- cards_2 ---\n",
      "0    594\n",
      "1    306\n",
      "Name: cards_2, dtype: int64\n",
      "---- cards_3 ---\n",
      "0    875\n",
      "1     25\n",
      "Name: cards_3, dtype: int64\n",
      "---- cards_4 ---\n",
      "0    895\n",
      "1      5\n",
      "Name: cards_4, dtype: int64\n",
      "---- job_A172 ---\n",
      "0    716\n",
      "1    184\n",
      "Name: job_A172, dtype: int64\n",
      "---- job_A173 ---\n",
      "1    560\n",
      "0    340\n",
      "Name: job_A173, dtype: int64\n",
      "---- job_A174 ---\n",
      "0    764\n",
      "1    136\n",
      "Name: job_A174, dtype: int64\n",
      "---- liable_2 ---\n",
      "0    760\n",
      "1    140\n",
      "Name: liable_2, dtype: int64\n",
      "---- tele_A192 ---\n",
      "0    531\n",
      "1    369\n",
      "Name: tele_A192, dtype: int64\n",
      "---- foreign_A202 ---\n",
      "0    865\n",
      "1     35\n",
      "Name: foreign_A202, dtype: int64\n"
     ]
    }
   ],
   "source": [
    "#Checking Data\n",
    "for i in data.columns:\n",
    "    print (\"---- %s ---\" % i)\n",
    "    print (data[i].value_counts())"
   ]
  },
  {
   "cell_type": "code",
   "execution_count": 11,
   "metadata": {},
   "outputs": [
    {
     "data": {
      "text/plain": [
       "(900, 55)"
      ]
     },
     "execution_count": 11,
     "metadata": {},
     "output_type": "execute_result"
    }
   ],
   "source": [
    "data.shape"
   ]
  },
  {
   "cell_type": "markdown",
   "metadata": {},
   "source": [
    "Modeling"
   ]
  },
  {
   "cell_type": "code",
   "execution_count": 12,
   "metadata": {},
   "outputs": [],
   "source": [
    "# Splitting Train and Test Set\n",
    "X=data.drop([\"Default\"], axis=1)\n",
    "y=data[\"Default\"]\n",
    "X_train, X_test, y_train, y_test=train_test_split(X,y,test_size=0.33,random_state=42)"
   ]
  },
  {
   "cell_type": "markdown",
   "metadata": {},
   "source": [
    "### Model 1\n",
    "#### Logistic Regression"
   ]
  },
  {
   "cell_type": "code",
   "execution_count": 13,
   "metadata": {},
   "outputs": [
    {
     "name": "stdout",
     "output_type": "stream",
     "text": [
      "Optimization terminated successfully.\n",
      "         Current function value: 0.427983\n",
      "         Iterations 7\n",
      "                          Results: Logit\n",
      "===================================================================\n",
      "Model:                Logit            Pseudo R-squared: 0.312     \n",
      "Dependent Variable:   Default          AIC:              624.1469  \n",
      "Date:                 2020-02-27 11:36 BIC:              861.8504  \n",
      "No. Observations:     603              Log-Likelihood:   -258.07   \n",
      "Df Model:             53               LL-Null:          -374.96   \n",
      "Df Residuals:         549              LLR p-value:      1.4971e-24\n",
      "Converged:            1.0000           Scale:            1.0000    \n",
      "No. Iterations:       7.0000                                       \n",
      "-------------------------------------------------------------------\n",
      "                     Coef.  Std.Err.    z    P>|z|   [0.025  0.975]\n",
      "-------------------------------------------------------------------\n",
      "duration             1.1993   0.7109  1.6869 0.0916 -0.1941  2.5927\n",
      "amount               3.9437   1.0948  3.6023 0.0003  1.7980  6.0894\n",
      "age                 -0.7801   0.6773 -1.1518 0.2494 -2.1076  0.5474\n",
      "checkingstatus1_A12 -0.4609   0.2922 -1.5774 0.1147 -1.0337  0.1118\n",
      "checkingstatus1_A13 -1.9871   0.6111 -3.2514 0.0011 -3.1849 -0.7893\n",
      "checkingstatus1_A14 -1.6329   0.3125 -5.2256 0.0000 -2.2454 -1.0205\n",
      "history_A31          0.2425   0.6724  0.3606 0.7184 -1.0755  1.5605\n",
      "history_A32         -0.6284   0.5138 -1.2230 0.2213 -1.6354  0.3787\n",
      "history_A33         -1.8559   0.6539 -2.8382 0.0045 -3.1376 -0.5743\n",
      "history_A34         -1.8232   0.5272 -3.4583 0.0005 -2.8565 -0.7899\n",
      "purpose_A41         -1.4347   0.4748 -3.0217 0.0025 -2.3653 -0.5041\n",
      "purpose_A410        -0.7176   1.2578 -0.5705 0.5683 -3.1829  1.7477\n",
      "purpose_A42         -0.3672   0.3544 -1.0361 0.3002 -1.0619  0.3275\n",
      "purpose_A43         -0.5340   0.3308 -1.6143 0.1065 -1.1823  0.1143\n",
      "purpose_A44         -1.1967   1.0390 -1.1518 0.2494 -3.2330  0.8396\n",
      "purpose_A45         -0.1145   0.7213 -0.1587 0.8739 -1.5282  1.2993\n",
      "purpose_A46          0.6536   0.5414  1.2071 0.2274 -0.4076  1.7147\n",
      "purpose_A48         -1.8404   1.2704 -1.4487 0.1474 -4.3303  0.6496\n",
      "purpose_A49         -0.1207   0.4712 -0.2562 0.7978 -1.0444  0.8029\n",
      "savings_A62         -0.3809   0.3927 -0.9699 0.3321 -1.1506  0.3888\n",
      "savings_A63         -1.0553   0.5788 -1.8232 0.0683 -2.1897  0.0792\n",
      "savings_A64         -0.6658   0.6596 -1.0094 0.3128 -1.9587  0.6270\n",
      "savings_A65         -0.6709   0.3416 -1.9638 0.0495 -1.3404 -0.0013\n",
      "employ_A72           0.4852   0.6003  0.8083 0.4189 -0.6913  1.6617\n",
      "employ_A73           0.0819   0.5923  0.1383 0.8900 -1.0790  1.2428\n",
      "employ_A74          -0.5900   0.6309 -0.9351 0.3497 -1.8265  0.6466\n",
      "employ_A75           0.0974   0.5969  0.1632 0.8704 -1.0726  1.2674\n",
      "installment_2        0.1207   0.4108  0.2938 0.7689 -0.6844  0.9258\n",
      "installment_3        0.2777   0.4485  0.6191 0.5358 -0.6014  1.1567\n",
      "installment_4        0.8711   0.4002  2.1767 0.0295  0.0868  1.6554\n",
      "status_A92          -0.8664   0.5034 -1.7211 0.0852 -1.8530  0.1202\n",
      "status_A93          -1.2700   0.5138 -2.4715 0.0135 -2.2771 -0.2628\n",
      "status_A94          -0.6367   0.5809 -1.0961 0.2730 -1.7751  0.5018\n",
      "others_A102          0.6220   0.5696  1.0921 0.2748 -0.4943  1.7384\n",
      "others_A103         -0.6540   0.5231 -1.2501 0.2113 -1.6793  0.3714\n",
      "residence_2          0.8179   0.3972  2.0592 0.0395  0.0394  1.5964\n",
      "residence_3          0.5977   0.4671  1.2797 0.2006 -0.3177  1.5132\n",
      "residence_4          0.4393   0.3943  1.1140 0.2653 -0.3336  1.2122\n",
      "property_A122        0.4189   0.3346  1.2519 0.2106 -0.2369  1.0747\n",
      "property_A123        0.5199   0.3088  1.6838 0.0922 -0.0853  1.1250\n",
      "property_A124        1.1499   0.5848  1.9663 0.0493  0.0037  2.2960\n",
      "otherplans_A142      0.3086   0.5934  0.5201 0.6030 -0.8544  1.4716\n",
      "otherplans_A143     -0.5722   0.3202 -1.7869 0.0740 -1.1998  0.0554\n",
      "housing_A152        -0.5026   0.3084 -1.6298 0.1031 -1.1070  0.1018\n",
      "housing_A153        -0.9513   0.6615 -1.4381 0.1504 -2.2478  0.3452\n",
      "cards_2              0.3890   0.3173  1.2261 0.2202 -0.2329  1.0109\n",
      "cards_3              0.5559   0.9274  0.5994 0.5489 -1.2617  2.3735\n",
      "cards_4             -0.3542   1.6315 -0.2171 0.8281 -3.5519  2.8434\n",
      "job_A172             1.0110   0.8446  1.1970 0.2313 -0.6444  2.6663\n",
      "job_A173             1.3384   0.8136  1.6450 0.1000 -0.2563  2.9331\n",
      "job_A174             0.9635   0.8298  1.1611 0.2456 -0.6629  2.5898\n",
      "liable_2             0.1300   0.3535  0.3677 0.7131 -0.5629  0.8229\n",
      "tele_A192           -0.7345   0.2715 -2.7056 0.0068 -1.2665 -0.2024\n",
      "foreign_A202        -1.9722   0.8510 -2.3176 0.0205 -3.6401 -0.3043\n",
      "===================================================================\n",
      "\n"
     ]
    }
   ],
   "source": [
    "import statsmodels.api as sm\n",
    "logit_model=sm.Logit(y_train,X_train)#[features_sig]\n",
    "result=logit_model.fit()\n",
    "print(result.summary2())"
   ]
  },
  {
   "cell_type": "code",
   "execution_count": 15,
   "metadata": {},
   "outputs": [],
   "source": [
    "#Selecting significant features\n",
    "features_sig=[]\n",
    "for A, B in zip(X.columns.to_numpy(), result.pvalues.tolist()):\n",
    "    if B < 0.05:\n",
    "        features_sig.append(A)"
   ]
  },
  {
   "cell_type": "code",
   "execution_count": 16,
   "metadata": {},
   "outputs": [
    {
     "name": "stdout",
     "output_type": "stream",
     "text": [
      "Optimization terminated successfully.\n",
      "         Current function value: 0.493204\n",
      "         Iterations 7\n",
      "                          Results: Logit\n",
      "===================================================================\n",
      "Model:                Logit            Pseudo R-squared: 0.207     \n",
      "Dependent Variable:   Default          AIC:              620.8043  \n",
      "Date:                 2020-02-27 11:36 BIC:              678.0292  \n",
      "No. Observations:     603              Log-Likelihood:   -297.40   \n",
      "Df Model:             12               LL-Null:          -374.96   \n",
      "Df Residuals:         590              LLR p-value:      5.1953e-27\n",
      "Converged:            1.0000           Scale:            1.0000    \n",
      "No. Iterations:       7.0000                                       \n",
      "-------------------------------------------------------------------\n",
      "                     Coef.  Std.Err.    z    P>|z|   [0.025  0.975]\n",
      "-------------------------------------------------------------------\n",
      "amount               3.5270   0.7142  4.9387 0.0000  2.1273  4.9268\n",
      "checkingstatus1_A13 -1.6441   0.5162 -3.1850 0.0014 -2.6558 -0.6324\n",
      "checkingstatus1_A14 -1.5172   0.2306 -6.5780 0.0000 -1.9692 -1.0651\n",
      "history_A33         -1.0291   0.4375 -2.3525 0.0187 -1.8865 -0.1717\n",
      "history_A34         -0.9806   0.2438 -4.0217 0.0001 -1.4585 -0.5027\n",
      "purpose_A41         -1.2194   0.3983 -3.0614 0.0022 -2.0002 -0.4387\n",
      "savings_A65         -0.7289   0.2990 -2.4382 0.0148 -1.3148 -0.1430\n",
      "installment_4        0.4249   0.1852  2.2948 0.0217  0.0620  0.7878\n",
      "status_A93          -0.6265   0.2074 -3.0202 0.0025 -1.0331 -0.2199\n",
      "residence_2          0.3114   0.2206  1.4114 0.1581 -0.1210  0.7437\n",
      "property_A124        0.7383   0.3011  2.4519 0.0142  0.1481  1.3284\n",
      "tele_A192           -0.7016   0.2202 -3.1863 0.0014 -1.1332 -0.2700\n",
      "foreign_A202        -1.8837   0.7801 -2.4146 0.0158 -3.4128 -0.3547\n",
      "===================================================================\n",
      "\n"
     ]
    }
   ],
   "source": [
    "import statsmodels.api as sm\n",
    "logit_model=sm.Logit(y_train,X_train[features_sig])#[features_sig]\n",
    "result=logit_model.fit()\n",
    "print(result.summary2())"
   ]
  },
  {
   "cell_type": "code",
   "execution_count": 17,
   "metadata": {},
   "outputs": [],
   "source": [
    "logmodel=LogisticRegression()\n",
    "logmodel.fit(X_train,y_train)#[features_sig]\n",
    "predictions = logmodel.predict(X_test)#[features_sig] #use predict_proba to change cutoff"
   ]
  },
  {
   "cell_type": "code",
   "execution_count": 86,
   "metadata": {},
   "outputs": [],
   "source": [
    "#Only if adjustment is needed\n",
    "# adj=predictions[:,0].tolist()\n",
    "# cut=[]\n",
    "# k=0.7\n",
    "# for i in range(len(adj)):\n",
    "#     if adj[i]>k:\n",
    "#         cut.append(1)\n",
    "#     else:\n",
    "#         cut.append(0)"
   ]
  },
  {
   "cell_type": "code",
   "execution_count": 18,
   "metadata": {},
   "outputs": [
    {
     "data": {
      "text/plain": [
       "{'amount': 1.964,\n",
       " 'duration': 1.269,\n",
       " 'property_A124': 0.839,\n",
       " 'residence_2': 0.595,\n",
       " 'purpose_A46': 0.532,\n",
       " 'installment_4': 0.48,\n",
       " 'property_A123': 0.437,\n",
       " 'job_A173': 0.43,\n",
       " 'employ_A72': 0.42,\n",
       " 'others_A102': 0.412,\n",
       " 'history_A31': 0.377,\n",
       " 'residence_3': 0.367,\n",
       " 'property_A122': 0.339,\n",
       " 'cards_2': 0.333,\n",
       " 'otherplans_A142': 0.253,\n",
       " 'residence_4': 0.251,\n",
       " 'cards_3': 0.233,\n",
       " 'job_A174': 0.221,\n",
       " 'employ_A73': 0.136,\n",
       " 'job_A172': 0.108,\n",
       " 'liable_2': 0.068,\n",
       " 'employ_A75': 0.058,\n",
       " 'installment_3': -0.004,\n",
       " 'purpose_A45': -0.013,\n",
       " 'purpose_A49': -0.02,\n",
       " 'installment_2': -0.024,\n",
       " 'cards_4': -0.118,\n",
       " 'purpose_A42': -0.185,\n",
       " 'savings_A62': -0.233,\n",
       " 'history_A32': -0.306,\n",
       " 'checkingstatus1_A12': -0.319,\n",
       " 'status_A94': -0.339,\n",
       " 'purpose_A410': -0.366,\n",
       " 'employ_A74': -0.405,\n",
       " 'housing_A152': -0.416,\n",
       " 'purpose_A43': -0.457,\n",
       " 'status_A92': -0.461,\n",
       " 'housing_A153': -0.464,\n",
       " 'savings_A64': -0.504,\n",
       " 'otherplans_A143': -0.533,\n",
       " 'others_A103': -0.536,\n",
       " 'tele_A192': -0.542,\n",
       " 'age': -0.608,\n",
       " 'purpose_A44': -0.61,\n",
       " 'savings_A65': -0.616,\n",
       " 'purpose_A48': -0.704,\n",
       " 'status_A93': -0.809,\n",
       " 'savings_A63': -0.85,\n",
       " 'purpose_A41': -1.006,\n",
       " 'foreign_A202': -1.121,\n",
       " 'history_A33': -1.157,\n",
       " 'history_A34': -1.276,\n",
       " 'checkingstatus1_A14': -1.416,\n",
       " 'checkingstatus1_A13': -1.419}"
      ]
     },
     "execution_count": 18,
     "metadata": {},
     "output_type": "execute_result"
    }
   ],
   "source": [
    "#Coefficients of Logistic Regression\n",
    "features_log = {}\n",
    "lg=logmodel.coef_.tolist()\n",
    "lg=lg[0]\n",
    "for A, B in zip(X.columns.to_numpy(), lg):#[features_sig]\n",
    "    features_log[A] = B\n",
    "features_log={k: round(v,3) for k, v in sorted(features_log.items(), key=lambda item: item[1],reverse=True)}\n",
    "features_log"
   ]
  },
  {
   "cell_type": "code",
   "execution_count": 19,
   "metadata": {},
   "outputs": [
    {
     "name": "stdout",
     "output_type": "stream",
     "text": [
      "              precision    recall  f1-score   support\n",
      "\n",
      "           0       0.83      0.88      0.85       216\n",
      "           1       0.61      0.53      0.57        81\n",
      "\n",
      "    accuracy                           0.78       297\n",
      "   macro avg       0.72      0.70      0.71       297\n",
      "weighted avg       0.77      0.78      0.78       297\n",
      "\n"
     ]
    }
   ],
   "source": [
    "print(classification_report(y_test,predictions))"
   ]
  },
  {
   "cell_type": "code",
   "execution_count": 20,
   "metadata": {
    "scrolled": true
   },
   "outputs": [
    {
     "data": {
      "text/plain": [
       "array([[189,  38],\n",
       "       [ 27,  43]])"
      ]
     },
     "execution_count": 20,
     "metadata": {},
     "output_type": "execute_result"
    }
   ],
   "source": [
    "confusion_matrix(predictions,y_test)"
   ]
  },
  {
   "cell_type": "code",
   "execution_count": 21,
   "metadata": {},
   "outputs": [
    {
     "data": {
      "image/png": "[encoded data removed]",
      "text/plain": [
       "<Figure size 432x288 with 1 Axes>"
      ]
     },
     "metadata": {
      "needs_background": "light"
     },
     "output_type": "display_data"
    }
   ],
   "source": [
    "lr_disp = plot_roc_curve(logmodel, X_test, y_test)#[features_sig]\n",
    "plt.show()"
   ]
  },
  {
   "cell_type": "markdown",
   "metadata": {},
   "source": [
    "### Model 2\n",
    "#### Random Forest"
   ]
  },
  {
   "cell_type": "code",
   "execution_count": 22,
   "metadata": {},
   "outputs": [],
   "source": [
    "# Instantiate model with 1000 decision trees\n",
    "rf = RandomForestClassifier(n_estimators = 1000, random_state = 42)\n",
    "# Train the model on training data\n",
    "rf.fit(X_train, y_train)\n",
    "randforest=rf.predict(X_test)"
   ]
  },
  {
   "cell_type": "code",
   "execution_count": 23,
   "metadata": {},
   "outputs": [
    {
     "data": {
      "text/plain": [
       "{'amount': 0.12,\n",
       " 'age': 0.092,\n",
       " 'duration': 0.086,\n",
       " 'checkingstatus1_A14': 0.058,\n",
       " 'history_A34': 0.023,\n",
       " 'otherplans_A143': 0.022,\n",
       " 'installment_4': 0.021,\n",
       " 'tele_A192': 0.021,\n",
       " 'checkingstatus1_A12': 0.02,\n",
       " 'savings_A65': 0.019,\n",
       " 'history_A31': 0.019,\n",
       " 'housing_A152': 0.019,\n",
       " 'property_A123': 0.019,\n",
       " 'employ_A72': 0.018,\n",
       " 'status_A93': 0.018,\n",
       " 'residence_2': 0.018,\n",
       " 'history_A32': 0.017,\n",
       " 'purpose_A43': 0.017,\n",
       " 'cards_2': 0.017,\n",
       " 'installment_2': 0.017,\n",
       " 'job_A173': 0.017,\n",
       " 'status_A92': 0.017,\n",
       " 'residence_4': 0.016,\n",
       " 'employ_A73': 0.016,\n",
       " 'employ_A75': 0.015,\n",
       " 'property_A124': 0.015,\n",
       " 'property_A122': 0.014,\n",
       " 'purpose_A42': 0.014,\n",
       " 'purpose_A49': 0.013,\n",
       " 'installment_3': 0.013,\n",
       " 'job_A172': 0.013,\n",
       " 'employ_A74': 0.013,\n",
       " 'job_A174': 0.012,\n",
       " 'liable_2': 0.012,\n",
       " 'savings_A62': 0.012,\n",
       " 'purpose_A41': 0.011,\n",
       " 'purpose_A46': 0.011,\n",
       " 'residence_3': 0.01,\n",
       " 'history_A33': 0.01,\n",
       " 'others_A103': 0.01,\n",
       " 'checkingstatus1_A13': 0.009,\n",
       " 'status_A94': 0.009,\n",
       " 'others_A102': 0.009,\n",
       " 'savings_A63': 0.008,\n",
       " 'housing_A153': 0.008,\n",
       " 'otherplans_A142': 0.007,\n",
       " 'purpose_A45': 0.005,\n",
       " 'foreign_A202': 0.005,\n",
       " 'savings_A64': 0.005,\n",
       " 'cards_3': 0.004,\n",
       " 'purpose_A44': 0.003,\n",
       " 'purpose_A410': 0.002,\n",
       " 'purpose_A48': 0.001,\n",
       " 'cards_4': 0.001}"
      ]
     },
     "execution_count": 23,
     "metadata": {},
     "output_type": "execute_result"
    }
   ],
   "source": [
    "# Get features importance for Random Forest\n",
    "features_rf = {}\n",
    "for A, B in zip(X.columns.to_numpy(), rf.feature_importances_):\n",
    "    features_rf[A] = B\n",
    "features_rf={k: round(v,3) for k, v in sorted(features_rf.items(), key=lambda item: item[1],reverse=True)}\n",
    "features_rf"
   ]
  },
  {
   "cell_type": "code",
   "execution_count": 24,
   "metadata": {},
   "outputs": [
    {
     "data": {
      "image/png": "[encoded data removed]",
      "text/plain": [
       "<Figure size 1440x360 with 1 Axes>"
      ]
     },
     "metadata": {
      "needs_background": "light"
     },
     "output_type": "display_data"
    }
   ],
   "source": [
    "top10 = {k: features_rf[k] for k in sorted(features_rf.keys())[:10]}\n",
    "width=1\n",
    "plt.figure(figsize=(20,5))\n",
    "plt.bar(top10.keys(), top10.values(), width, color='g')\n",
    "plt.show()"
   ]
  },
  {
   "cell_type": "code",
   "execution_count": 25,
   "metadata": {},
   "outputs": [
    {
     "name": "stdout",
     "output_type": "stream",
     "text": [
      "              precision    recall  f1-score   support\n",
      "\n",
      "           0       0.82      0.91      0.86       216\n",
      "           1       0.65      0.46      0.54        81\n",
      "\n",
      "    accuracy                           0.78       297\n",
      "   macro avg       0.73      0.68      0.70       297\n",
      "weighted avg       0.77      0.78      0.77       297\n",
      "\n"
     ]
    }
   ],
   "source": [
    "print(classification_report(y_test,randforest))"
   ]
  },
  {
   "cell_type": "code",
   "execution_count": 26,
   "metadata": {
    "scrolled": true
   },
   "outputs": [
    {
     "data": {
      "text/plain": [
       "array([[196,  44],\n",
       "       [ 20,  37]])"
      ]
     },
     "execution_count": 26,
     "metadata": {},
     "output_type": "execute_result"
    }
   ],
   "source": [
    "confusion_matrix(randforest,y_test)"
   ]
  },
  {
   "cell_type": "code",
   "execution_count": 27,
   "metadata": {},
   "outputs": [
    {
     "data": {
      "image/png": "[encoded data removed]",
      "text/plain": [
       "<Figure size 432x288 with 1 Axes>"
      ]
     },
     "metadata": {
      "needs_background": "light"
     },
     "output_type": "display_data"
    }
   ],
   "source": [
    "ax = plt.gca()\n",
    "rfc_disp = plot_roc_curve(rf, X_test, y_test, ax=ax, alpha=0.8)\n",
    "lr_disp.plot(ax=ax, alpha=0.8)\n",
    "plt.plot([0, 1], [0, 1], color='navy', linestyle='--')\n",
    "plt.show()"
   ]
  },
  {
   "cell_type": "markdown",
   "metadata": {},
   "source": [
    "### Model 3\n",
    "#### KNN"
   ]
  },
  {
   "cell_type": "code",
   "execution_count": 28,
   "metadata": {},
   "outputs": [],
   "source": [
    "#Setting parameters for optimal KNN\n",
    "parameters = {'n_neighbors':[1,2,3,4,5,6,7],\n",
    "              'leaf_size':[1,3,5],\n",
    "              'algorithm':['auto', 'kd_tree'],\n",
    "              'n_jobs':[-1]}"
   ]
  },
  {
   "cell_type": "code",
   "execution_count": 29,
   "metadata": {},
   "outputs": [],
   "source": [
    "knngrid = KNeighborsClassifier()\n",
    "neigh=GridSearchCV(knngrid, param_grid=parameters)\n",
    "neigh.fit(X_train, y_train)\n",
    "knn=neigh.predict(X_test)"
   ]
  },
  {
   "cell_type": "code",
   "execution_count": 30,
   "metadata": {},
   "outputs": [
    {
     "data": {
      "text/plain": [
       "KNeighborsClassifier(algorithm='auto', leaf_size=1, metric='minkowski',\n",
       "                     metric_params=None, n_jobs=-1, n_neighbors=6, p=2,\n",
       "                     weights='uniform')"
      ]
     },
     "execution_count": 30,
     "metadata": {},
     "output_type": "execute_result"
    }
   ],
   "source": [
    "neigh.best_estimator_"
   ]
  },
  {
   "cell_type": "code",
   "execution_count": 31,
   "metadata": {
    "scrolled": true
   },
   "outputs": [
    {
     "name": "stdout",
     "output_type": "stream",
     "text": [
      "              precision    recall  f1-score   support\n",
      "\n",
      "           0       0.75      0.91      0.82       216\n",
      "           1       0.44      0.20      0.27        81\n",
      "\n",
      "    accuracy                           0.71       297\n",
      "   macro avg       0.60      0.55      0.55       297\n",
      "weighted avg       0.67      0.71      0.67       297\n",
      "\n"
     ]
    }
   ],
   "source": [
    "print(classification_report(y_test,knn))"
   ]
  },
  {
   "cell_type": "code",
   "execution_count": 32,
   "metadata": {
    "scrolled": true
   },
   "outputs": [
    {
     "data": {
      "text/plain": [
       "array([[196,  65],\n",
       "       [ 20,  16]])"
      ]
     },
     "execution_count": 32,
     "metadata": {},
     "output_type": "execute_result"
    }
   ],
   "source": [
    "confusion_matrix(knn,y_test)"
   ]
  },
  {
   "cell_type": "code",
   "execution_count": 33,
   "metadata": {},
   "outputs": [
    {
     "data": {
      "image/png": "[encoded data removed]",
      "text/plain": [
       "<Figure size 432x288 with 1 Axes>"
      ]
     },
     "metadata": {
      "needs_background": "light"
     },
     "output_type": "display_data"
    }
   ],
   "source": [
    "ax = plt.gca()\n",
    "knn_disp = plot_roc_curve(neigh, X_test, y_test, ax=ax, alpha=0.8,name=\"KNeighborsClassifier\")\n",
    "rfc_disp.plot(ax=ax, alpha=0.8)\n",
    "lr_disp.plot(ax=ax, alpha=0.8)\n",
    "plt.show()"
   ]
  },
  {
   "cell_type": "markdown",
   "metadata": {},
   "source": [
    "### Model 4\n",
    "#### K-means"
   ]
  },
  {
   "cell_type": "code",
   "execution_count": 34,
   "metadata": {},
   "outputs": [],
   "source": [
    "#Using only continuous variables for KMeans, which are stored in \"to_normalize\"\n",
    "kmeans = KMeans(n_clusters=2, random_state=0).fit(X[to_normalize])"
   ]
  },
  {
   "cell_type": "code",
   "execution_count": 35,
   "metadata": {
    "scrolled": true
   },
   "outputs": [],
   "source": [
    "km=kmeans.predict(X[to_normalize])"
   ]
  },
  {
   "cell_type": "code",
   "execution_count": 36,
   "metadata": {},
   "outputs": [],
   "source": [
    "gruppo=[\"age\",\"duration\"]"
   ]
  },
  {
   "cell_type": "code",
   "execution_count": 37,
   "metadata": {},
   "outputs": [],
   "source": [
    "CLUST=X[gruppo]\n",
    "CLUST=CLUST.to_numpy()"
   ]
  },
  {
   "cell_type": "code",
   "execution_count": 38,
   "metadata": {},
   "outputs": [
    {
     "data": {
      "image/png": "[encoded data removed]",
      "text/plain": [
       "<Figure size 432x288 with 1 Axes>"
      ]
     },
     "metadata": {
      "needs_background": "light"
     },
     "output_type": "display_data"
    }
   ],
   "source": [
    "plt.scatter(CLUST[:, 0], CLUST[:, 1], c=km, s=50, cmap='viridis')\n",
    "centers = kmeans.cluster_centers_\n",
    "plt.scatter(centers[:, 0], centers[:, 1], c='red', s=200, alpha=0.5)\n",
    "plt.xlabel(\"age normalized\")\n",
    "plt.ylabel(\"duration normalized\")\n",
    "plt.show()"
   ]
  },
  {
   "cell_type": "code",
   "execution_count": 39,
   "metadata": {},
   "outputs": [
    {
     "name": "stdout",
     "output_type": "stream",
     "text": [
      "              precision    recall  f1-score   support\n",
      "\n",
      "           0       0.54      0.18      0.27       630\n",
      "           1       0.25      0.64      0.36       270\n",
      "\n",
      "    accuracy                           0.32       900\n",
      "   macro avg       0.40      0.41      0.32       900\n",
      "weighted avg       0.46      0.32      0.30       900\n",
      "\n"
     ]
    }
   ],
   "source": [
    "print(classification_report(y,km))"
   ]
  },
  {
   "cell_type": "code",
   "execution_count": 40,
   "metadata": {
    "scrolled": true
   },
   "outputs": [
    {
     "data": {
      "text/plain": [
       "array([[114,  96],\n",
       "       [516, 174]])"
      ]
     },
     "execution_count": 40,
     "metadata": {},
     "output_type": "execute_result"
    }
   ],
   "source": [
    "confusion_matrix(km,y)"
   ]
  },
  {
   "cell_type": "code",
   "execution_count": 41,
   "metadata": {},
   "outputs": [],
   "source": [
    "km_fpr, km_tpr, thresholds = roc_curve(y, km)\n",
    "km_auc=metrics.auc(km_fpr, km_tpr)"
   ]
  },
  {
   "cell_type": "code",
   "execution_count": 42,
   "metadata": {},
   "outputs": [],
   "source": [
    "km_disp = metrics.RocCurveDisplay(fpr=km_fpr, tpr=km_tpr, roc_auc=km_auc, estimator_name='K-Means')"
   ]
  },
  {
   "cell_type": "code",
   "execution_count": 43,
   "metadata": {},
   "outputs": [
    {
     "data": {
      "image/png": "[encoded data removed]",
      "text/plain": [
       "<Figure size 432x288 with 1 Axes>"
      ]
     },
     "metadata": {
      "needs_background": "light"
     },
     "output_type": "display_data"
    }
   ],
   "source": [
    "ax = plt.gca()\n",
    "km_disp.plot(ax=ax, alpha=0.8)\n",
    "knn_disp = plot_roc_curve(neigh, X_test, y_test, ax=ax, alpha=0.8,name=\"KNeighborsClassifier\")\n",
    "rfc_disp.plot(ax=ax, alpha=0.8)\n",
    "lr_disp.plot(ax=ax, alpha=0.8)\n",
    "plt.plot([0, 1], [0, 1], color='navy', linestyle='--')\n",
    "plt.show()"
   ]
  },
  {
   "cell_type": "code",
   "execution_count": 44,
   "metadata": {},
   "outputs": [
    {
     "data": {
      "image/png": "[encoded data removed]",
      "text/plain": [
       "<Figure size 432x288 with 1 Axes>"
      ]
     },
     "metadata": {
      "needs_background": "light"
     },
     "output_type": "display_data"
    }
   ],
   "source": [
    "average_precision = average_precision_score(y_test, predictions)\n",
    "ax = plt.gca()\n",
    "knn_pr = plot_precision_recall_curve(rf, X_test, y_test, ax=ax, alpha=0.8,name=\"KNeighborsClassifier\")\n",
    "rf_pr = plot_precision_recall_curve(neigh, X_test, y_test, ax=ax, alpha=0.8)\n",
    "lr_pr = plot_precision_recall_curve(logmodel, X_test, y_test, ax=ax, alpha=0.8)\n",
    "plt.legend(loc=\"best\")\n",
    "plt.show()"
   ]
  },
  {
   "cell_type": "markdown",
   "metadata": {},
   "source": [
    "### Market Basket Analysis"
   ]
  },
  {
   "cell_type": "code",
   "execution_count": 45,
   "metadata": {},
   "outputs": [],
   "source": [
    "#Setting working directory\n",
    "os.chdir(\"/Users/andreasabia/Documents/ESCP/Analytical Modeling\")\n",
    "#Importing dataset\n",
    "mba=pd.read_csv(\"./data for problem B.csv\")"
   ]
  },
  {
   "cell_type": "code",
   "execution_count": 46,
   "metadata": {},
   "outputs": [],
   "source": [
    "# Binning\n",
    "to_bin=[\"duration\",\"amount\",\"age\"]\n",
    "for i in to_bin:\n",
    "    bins = mba[i].quantile([0,.1, .25, .5, .75]).tolist()\n",
    "    labels= [0,1,2,3]\n",
    "    mba[i] = pd.cut(df[i], bins=bins, labels=labels)"
   ]
  },
  {
   "cell_type": "code",
   "execution_count": 47,
   "metadata": {},
   "outputs": [],
   "source": [
    "mba=pd.get_dummies(mba)"
   ]
  },
  {
   "cell_type": "code",
   "execution_count": 48,
   "metadata": {},
   "outputs": [],
   "source": [
    "mba.drop([\"installment\",\"residence\",\"cards\",\"liable\"], axis=1,inplace=True)"
   ]
  },
  {
   "cell_type": "code",
   "execution_count": 49,
   "metadata": {},
   "outputs": [
    {
     "data": {
      "text/plain": [
       "(900, 67)"
      ]
     },
     "execution_count": 49,
     "metadata": {},
     "output_type": "execute_result"
    }
   ],
   "source": [
    "mba.shape"
   ]
  },
  {
   "cell_type": "code",
   "execution_count": 50,
   "metadata": {},
   "outputs": [
    {
     "name": "stdout",
     "output_type": "stream",
     "text": [
      "---- Default ---\n",
      "0    630\n",
      "1    270\n",
      "Name: Default, dtype: int64\n",
      "---- checkingstatus1_A11 ---\n",
      "0    649\n",
      "1    251\n",
      "Name: checkingstatus1_A11, dtype: int64\n",
      "---- checkingstatus1_A12 ---\n",
      "0    656\n",
      "1    244\n",
      "Name: checkingstatus1_A12, dtype: int64\n",
      "---- checkingstatus1_A13 ---\n",
      "0    845\n",
      "1     55\n",
      "Name: checkingstatus1_A13, dtype: int64\n",
      "---- checkingstatus1_A14 ---\n",
      "0    550\n",
      "1    350\n",
      "Name: checkingstatus1_A14, dtype: int64\n",
      "---- duration_0 ---\n",
      "0    777\n",
      "1    123\n",
      "Name: duration_0, dtype: int64\n",
      "---- duration_1 ---\n",
      "0    703\n",
      "1    197\n",
      "Name: duration_1, dtype: int64\n",
      "---- duration_2 ---\n",
      "0    732\n",
      "1    168\n",
      "Name: duration_2, dtype: int64\n",
      "---- duration_3 ---\n",
      "0    699\n",
      "1    201\n",
      "Name: duration_3, dtype: int64\n",
      "---- history_A30 ---\n",
      "0    863\n",
      "1     37\n",
      "Name: history_A30, dtype: int64\n",
      "---- history_A31 ---\n",
      "0    858\n",
      "1     42\n",
      "Name: history_A31, dtype: int64\n",
      "---- history_A32 ---\n",
      "1    475\n",
      "0    425\n",
      "Name: history_A32, dtype: int64\n",
      "---- history_A33 ---\n",
      "0    824\n",
      "1     76\n",
      "Name: history_A33, dtype: int64\n",
      "---- history_A34 ---\n",
      "0    630\n",
      "1    270\n",
      "Name: history_A34, dtype: int64\n",
      "---- purpose_A40 ---\n",
      "0    687\n",
      "1    213\n",
      "Name: purpose_A40, dtype: int64\n",
      "---- purpose_A41 ---\n",
      "0    801\n",
      "1     99\n",
      "Name: purpose_A41, dtype: int64\n",
      "---- purpose_A410 ---\n",
      "0    889\n",
      "1     11\n",
      "Name: purpose_A410, dtype: int64\n",
      "---- purpose_A42 ---\n",
      "0    738\n",
      "1    162\n",
      "Name: purpose_A42, dtype: int64\n",
      "---- purpose_A43 ---\n",
      "0    651\n",
      "1    249\n",
      "Name: purpose_A43, dtype: int64\n",
      "---- purpose_A44 ---\n",
      "0    889\n",
      "1     11\n",
      "Name: purpose_A44, dtype: int64\n",
      "---- purpose_A45 ---\n",
      "0    880\n",
      "1     20\n",
      "Name: purpose_A45, dtype: int64\n",
      "---- purpose_A46 ---\n",
      "0    859\n",
      "1     41\n",
      "Name: purpose_A46, dtype: int64\n",
      "---- purpose_A48 ---\n",
      "0    891\n",
      "1      9\n",
      "Name: purpose_A48, dtype: int64\n",
      "---- purpose_A49 ---\n",
      "0    815\n",
      "1     85\n",
      "Name: purpose_A49, dtype: int64\n",
      "---- amount_0 ---\n",
      "0    811\n",
      "1     89\n",
      "Name: amount_0, dtype: int64\n",
      "---- amount_1 ---\n",
      "0    765\n",
      "1    135\n",
      "Name: amount_1, dtype: int64\n",
      "---- amount_2 ---\n",
      "0    675\n",
      "1    225\n",
      "Name: amount_2, dtype: int64\n",
      "---- amount_3 ---\n",
      "0    675\n",
      "1    225\n",
      "Name: amount_3, dtype: int64\n",
      "---- savings_A61 ---\n",
      "1    542\n",
      "0    358\n",
      "Name: savings_A61, dtype: int64\n",
      "---- savings_A62 ---\n",
      "0    812\n",
      "1     88\n",
      "Name: savings_A62, dtype: int64\n",
      "---- savings_A63 ---\n",
      "0    844\n",
      "1     56\n",
      "Name: savings_A63, dtype: int64\n",
      "---- savings_A64 ---\n",
      "0    855\n",
      "1     45\n",
      "Name: savings_A64, dtype: int64\n",
      "---- savings_A65 ---\n",
      "0    731\n",
      "1    169\n",
      "Name: savings_A65, dtype: int64\n",
      "---- employ_A71 ---\n",
      "0    844\n",
      "1     56\n",
      "Name: employ_A71, dtype: int64\n",
      "---- employ_A72 ---\n",
      "0    744\n",
      "1    156\n",
      "Name: employ_A72, dtype: int64\n",
      "---- employ_A73 ---\n",
      "0    602\n",
      "1    298\n",
      "Name: employ_A73, dtype: int64\n",
      "---- employ_A74 ---\n",
      "0    745\n",
      "1    155\n",
      "Name: employ_A74, dtype: int64\n",
      "---- employ_A75 ---\n",
      "0    665\n",
      "1    235\n",
      "Name: employ_A75, dtype: int64\n",
      "---- status_A91 ---\n",
      "0    854\n",
      "1     46\n",
      "Name: status_A91, dtype: int64\n",
      "---- status_A92 ---\n",
      "0    618\n",
      "1    282\n",
      "Name: status_A92, dtype: int64\n",
      "---- status_A93 ---\n",
      "1    488\n",
      "0    412\n",
      "Name: status_A93, dtype: int64\n",
      "---- status_A94 ---\n",
      "0    816\n",
      "1     84\n",
      "Name: status_A94, dtype: int64\n",
      "---- others_A101 ---\n",
      "1    819\n",
      "0     81\n",
      "Name: others_A101, dtype: int64\n",
      "---- others_A102 ---\n",
      "0    866\n",
      "1     34\n",
      "Name: others_A102, dtype: int64\n",
      "---- others_A103 ---\n",
      "0    853\n",
      "1     47\n",
      "Name: others_A103, dtype: int64\n",
      "---- property_A121 ---\n",
      "0    642\n",
      "1    258\n",
      "Name: property_A121, dtype: int64\n",
      "---- property_A122 ---\n",
      "0    692\n",
      "1    208\n",
      "Name: property_A122, dtype: int64\n",
      "---- property_A123 ---\n",
      "0    602\n",
      "1    298\n",
      "Name: property_A123, dtype: int64\n",
      "---- property_A124 ---\n",
      "0    764\n",
      "1    136\n",
      "Name: property_A124, dtype: int64\n",
      "---- age_0 ---\n",
      "0    809\n",
      "1     91\n",
      "Name: age_0, dtype: int64\n",
      "---- age_1 ---\n",
      "0    732\n",
      "1    168\n",
      "Name: age_1, dtype: int64\n",
      "---- age_2 ---\n",
      "0    697\n",
      "1    203\n",
      "Name: age_2, dtype: int64\n",
      "---- age_3 ---\n",
      "0    676\n",
      "1    224\n",
      "Name: age_3, dtype: int64\n",
      "---- otherplans_A141 ---\n",
      "0    777\n",
      "1    123\n",
      "Name: otherplans_A141, dtype: int64\n",
      "---- otherplans_A142 ---\n",
      "0    858\n",
      "1     42\n",
      "Name: otherplans_A142, dtype: int64\n",
      "---- otherplans_A143 ---\n",
      "1    735\n",
      "0    165\n",
      "Name: otherplans_A143, dtype: int64\n",
      "---- housing_A151 ---\n",
      "0    733\n",
      "1    167\n",
      "Name: housing_A151, dtype: int64\n",
      "---- housing_A152 ---\n",
      "1    639\n",
      "0    261\n",
      "Name: housing_A152, dtype: int64\n",
      "---- housing_A153 ---\n",
      "0    806\n",
      "1     94\n",
      "Name: housing_A153, dtype: int64\n",
      "---- job_A171 ---\n",
      "0    880\n",
      "1     20\n",
      "Name: job_A171, dtype: int64\n",
      "---- job_A172 ---\n",
      "0    716\n",
      "1    184\n",
      "Name: job_A172, dtype: int64\n",
      "---- job_A173 ---\n",
      "1    560\n",
      "0    340\n",
      "Name: job_A173, dtype: int64\n",
      "---- job_A174 ---\n",
      "0    764\n",
      "1    136\n",
      "Name: job_A174, dtype: int64\n",
      "---- tele_A191 ---\n",
      "1    531\n",
      "0    369\n",
      "Name: tele_A191, dtype: int64\n",
      "---- tele_A192 ---\n",
      "0    531\n",
      "1    369\n",
      "Name: tele_A192, dtype: int64\n",
      "---- foreign_A201 ---\n",
      "1    865\n",
      "0     35\n",
      "Name: foreign_A201, dtype: int64\n",
      "---- foreign_A202 ---\n",
      "0    865\n",
      "1     35\n",
      "Name: foreign_A202, dtype: int64\n"
     ]
    }
   ],
   "source": [
    "#Checking Data\n",
    "for i in mba.columns:\n",
    "    print (\"---- %s ---\" % i)\n",
    "    print (mba[i].value_counts())"
   ]
  },
  {
   "cell_type": "code",
   "execution_count": 51,
   "metadata": {},
   "outputs": [
    {
     "data": {
      "text/html": [
       "<div>\n",
       "<style scoped>\n",
       "    .dataframe tbody tr th:only-of-type {\n",
       "        vertical-align: middle;\n",
       "    }\n",
       "\n",
       "    .dataframe tbody tr th {\n",
       "        vertical-align: top;\n",
       "    }\n",
       "\n",
       "    .dataframe thead th {\n",
       "        text-align: right;\n",
       "    }\n",
       "</style>\n",
       "<table border=\"1\" class=\"dataframe\">\n",
       "  <thead>\n",
       "    <tr style=\"text-align: right;\">\n",
       "      <th></th>\n",
       "      <th>support</th>\n",
       "      <th>itemsets</th>\n",
       "    </tr>\n",
       "  </thead>\n",
       "  <tbody>\n",
       "    <tr>\n",
       "      <td>55</td>\n",
       "      <td>0.961111</td>\n",
       "      <td>(foreign_A201)</td>\n",
       "    </tr>\n",
       "    <tr>\n",
       "      <td>35</td>\n",
       "      <td>0.910000</td>\n",
       "      <td>(others_A101)</td>\n",
       "    </tr>\n",
       "    <tr>\n",
       "      <td>630</td>\n",
       "      <td>0.880000</td>\n",
       "      <td>(foreign_A201, others_A101)</td>\n",
       "    </tr>\n",
       "    <tr>\n",
       "      <td>46</td>\n",
       "      <td>0.816667</td>\n",
       "      <td>(otherplans_A143)</td>\n",
       "    </tr>\n",
       "    <tr>\n",
       "      <td>706</td>\n",
       "      <td>0.782222</td>\n",
       "      <td>(foreign_A201, otherplans_A143)</td>\n",
       "    </tr>\n",
       "    <tr>\n",
       "      <td>...</td>\n",
       "      <td>...</td>\n",
       "      <td>...</td>\n",
       "    </tr>\n",
       "    <tr>\n",
       "      <td>3512</td>\n",
       "      <td>0.050000</td>\n",
       "      <td>(foreign_A201, otherplans_A143, employ_A75, ch...</td>\n",
       "    </tr>\n",
       "    <tr>\n",
       "      <td>8865</td>\n",
       "      <td>0.050000</td>\n",
       "      <td>(housing_A152, history_A34, status_A93, otherp...</td>\n",
       "    </tr>\n",
       "    <tr>\n",
       "      <td>570</td>\n",
       "      <td>0.050000</td>\n",
       "      <td>(foreign_A201, status_A91)</td>\n",
       "    </tr>\n",
       "    <tr>\n",
       "      <td>569</td>\n",
       "      <td>0.050000</td>\n",
       "      <td>(others_A101, status_A91)</td>\n",
       "    </tr>\n",
       "    <tr>\n",
       "      <td>11941</td>\n",
       "      <td>0.050000</td>\n",
       "      <td>(property_A123, foreign_A201, others_A101, hou...</td>\n",
       "    </tr>\n",
       "  </tbody>\n",
       "</table>\n",
       "<p>11942 rows × 2 columns</p>\n",
       "</div>"
      ],
      "text/plain": [
       "        support                                           itemsets\n",
       "55     0.961111                                     (foreign_A201)\n",
       "35     0.910000                                      (others_A101)\n",
       "630    0.880000                        (foreign_A201, others_A101)\n",
       "46     0.816667                                  (otherplans_A143)\n",
       "706    0.782222                    (foreign_A201, otherplans_A143)\n",
       "...         ...                                                ...\n",
       "3512   0.050000  (foreign_A201, otherplans_A143, employ_A75, ch...\n",
       "8865   0.050000  (housing_A152, history_A34, status_A93, otherp...\n",
       "570    0.050000                         (foreign_A201, status_A91)\n",
       "569    0.050000                          (others_A101, status_A91)\n",
       "11941  0.050000  (property_A123, foreign_A201, others_A101, hou...\n",
       "\n",
       "[11942 rows x 2 columns]"
      ]
     },
     "execution_count": 51,
     "metadata": {},
     "output_type": "execute_result"
    }
   ],
   "source": [
    "rulezz = apriori(mba, min_support=0.05, use_colnames=True)\n",
    "rulezz.sort_values('support', ascending=False)"
   ]
  },
  {
   "cell_type": "code",
   "execution_count": 52,
   "metadata": {},
   "outputs": [
    {
     "data": {
      "text/html": [
       "<div>\n",
       "<style scoped>\n",
       "    .dataframe tbody tr th:only-of-type {\n",
       "        vertical-align: middle;\n",
       "    }\n",
       "\n",
       "    .dataframe tbody tr th {\n",
       "        vertical-align: top;\n",
       "    }\n",
       "\n",
       "    .dataframe thead th {\n",
       "        text-align: right;\n",
       "    }\n",
       "</style>\n",
       "<table border=\"1\" class=\"dataframe\">\n",
       "  <thead>\n",
       "    <tr style=\"text-align: right;\">\n",
       "      <th></th>\n",
       "      <th>antecedents</th>\n",
       "      <th>consequents</th>\n",
       "      <th>antecedent support</th>\n",
       "      <th>consequent support</th>\n",
       "      <th>support</th>\n",
       "      <th>confidence</th>\n",
       "      <th>lift</th>\n",
       "      <th>leverage</th>\n",
       "      <th>conviction</th>\n",
       "    </tr>\n",
       "  </thead>\n",
       "  <tbody>\n",
       "    <tr>\n",
       "      <td>30431</td>\n",
       "      <td>(others_A101, employ_A75, property_A124)</td>\n",
       "      <td>(foreign_A201, housing_A153)</td>\n",
       "      <td>0.064444</td>\n",
       "      <td>0.104444</td>\n",
       "      <td>0.050000</td>\n",
       "      <td>0.775862</td>\n",
       "      <td>7.428467</td>\n",
       "      <td>0.043269</td>\n",
       "      <td>3.995556</td>\n",
       "    </tr>\n",
       "    <tr>\n",
       "      <td>30426</td>\n",
       "      <td>(foreign_A201, others_A101, employ_A75, proper...</td>\n",
       "      <td>(housing_A153)</td>\n",
       "      <td>0.064444</td>\n",
       "      <td>0.104444</td>\n",
       "      <td>0.050000</td>\n",
       "      <td>0.775862</td>\n",
       "      <td>7.428467</td>\n",
       "      <td>0.043269</td>\n",
       "      <td>3.995556</td>\n",
       "    </tr>\n",
       "    <tr>\n",
       "      <td>13022</td>\n",
       "      <td>(others_A101, employ_A75, property_A124)</td>\n",
       "      <td>(housing_A153)</td>\n",
       "      <td>0.064444</td>\n",
       "      <td>0.104444</td>\n",
       "      <td>0.050000</td>\n",
       "      <td>0.775862</td>\n",
       "      <td>7.428467</td>\n",
       "      <td>0.043269</td>\n",
       "      <td>3.995556</td>\n",
       "    </tr>\n",
       "    <tr>\n",
       "      <td>13024</td>\n",
       "      <td>(employ_A75, property_A124)</td>\n",
       "      <td>(others_A101, housing_A153)</td>\n",
       "      <td>0.067778</td>\n",
       "      <td>0.100000</td>\n",
       "      <td>0.050000</td>\n",
       "      <td>0.737705</td>\n",
       "      <td>7.377049</td>\n",
       "      <td>0.043222</td>\n",
       "      <td>3.431250</td>\n",
       "    </tr>\n",
       "    <tr>\n",
       "      <td>30433</td>\n",
       "      <td>(employ_A75, property_A124)</td>\n",
       "      <td>(foreign_A201, others_A101, housing_A153)</td>\n",
       "      <td>0.067778</td>\n",
       "      <td>0.100000</td>\n",
       "      <td>0.050000</td>\n",
       "      <td>0.737705</td>\n",
       "      <td>7.377049</td>\n",
       "      <td>0.043222</td>\n",
       "      <td>3.431250</td>\n",
       "    </tr>\n",
       "    <tr>\n",
       "      <td>...</td>\n",
       "      <td>...</td>\n",
       "      <td>...</td>\n",
       "      <td>...</td>\n",
       "      <td>...</td>\n",
       "      <td>...</td>\n",
       "      <td>...</td>\n",
       "      <td>...</td>\n",
       "      <td>...</td>\n",
       "      <td>...</td>\n",
       "    </tr>\n",
       "    <tr>\n",
       "      <td>4836</td>\n",
       "      <td>(foreign_A201, purpose_A43, checkingstatus1_A12)</td>\n",
       "      <td>(others_A101)</td>\n",
       "      <td>0.073333</td>\n",
       "      <td>0.910000</td>\n",
       "      <td>0.051111</td>\n",
       "      <td>0.696970</td>\n",
       "      <td>0.765901</td>\n",
       "      <td>-0.015622</td>\n",
       "      <td>0.297000</td>\n",
       "    </tr>\n",
       "    <tr>\n",
       "      <td>25058</td>\n",
       "      <td>(foreign_A201, property_A121, purpose_A43, sav...</td>\n",
       "      <td>(others_A101)</td>\n",
       "      <td>0.072222</td>\n",
       "      <td>0.910000</td>\n",
       "      <td>0.050000</td>\n",
       "      <td>0.692308</td>\n",
       "      <td>0.760778</td>\n",
       "      <td>-0.015722</td>\n",
       "      <td>0.292500</td>\n",
       "    </tr>\n",
       "    <tr>\n",
       "      <td>635</td>\n",
       "      <td>(purpose_A43, checkingstatus1_A12)</td>\n",
       "      <td>(others_A101)</td>\n",
       "      <td>0.075556</td>\n",
       "      <td>0.910000</td>\n",
       "      <td>0.052222</td>\n",
       "      <td>0.691176</td>\n",
       "      <td>0.759535</td>\n",
       "      <td>-0.016533</td>\n",
       "      <td>0.291429</td>\n",
       "    </tr>\n",
       "    <tr>\n",
       "      <td>9677</td>\n",
       "      <td>(purpose_A43, property_A121, savings_A61)</td>\n",
       "      <td>(others_A101)</td>\n",
       "      <td>0.075556</td>\n",
       "      <td>0.910000</td>\n",
       "      <td>0.052222</td>\n",
       "      <td>0.691176</td>\n",
       "      <td>0.759535</td>\n",
       "      <td>-0.016533</td>\n",
       "      <td>0.291429</td>\n",
       "    </tr>\n",
       "    <tr>\n",
       "      <td>25061</td>\n",
       "      <td>(property_A121, purpose_A43, savings_A61)</td>\n",
       "      <td>(foreign_A201, others_A101)</td>\n",
       "      <td>0.075556</td>\n",
       "      <td>0.880000</td>\n",
       "      <td>0.050000</td>\n",
       "      <td>0.661765</td>\n",
       "      <td>0.752005</td>\n",
       "      <td>-0.016489</td>\n",
       "      <td>0.354783</td>\n",
       "    </tr>\n",
       "  </tbody>\n",
       "</table>\n",
       "<p>49606 rows × 9 columns</p>\n",
       "</div>"
      ],
      "text/plain": [
       "                                             antecedents  \\\n",
       "30431           (others_A101, employ_A75, property_A124)   \n",
       "30426  (foreign_A201, others_A101, employ_A75, proper...   \n",
       "13022           (others_A101, employ_A75, property_A124)   \n",
       "13024                        (employ_A75, property_A124)   \n",
       "30433                        (employ_A75, property_A124)   \n",
       "...                                                  ...   \n",
       "4836    (foreign_A201, purpose_A43, checkingstatus1_A12)   \n",
       "25058  (foreign_A201, property_A121, purpose_A43, sav...   \n",
       "635                   (purpose_A43, checkingstatus1_A12)   \n",
       "9677           (purpose_A43, property_A121, savings_A61)   \n",
       "25061          (property_A121, purpose_A43, savings_A61)   \n",
       "\n",
       "                                     consequents  antecedent support  \\\n",
       "30431               (foreign_A201, housing_A153)            0.064444   \n",
       "30426                             (housing_A153)            0.064444   \n",
       "13022                             (housing_A153)            0.064444   \n",
       "13024                (others_A101, housing_A153)            0.067778   \n",
       "30433  (foreign_A201, others_A101, housing_A153)            0.067778   \n",
       "...                                          ...                 ...   \n",
       "4836                               (others_A101)            0.073333   \n",
       "25058                              (others_A101)            0.072222   \n",
       "635                                (others_A101)            0.075556   \n",
       "9677                               (others_A101)            0.075556   \n",
       "25061                (foreign_A201, others_A101)            0.075556   \n",
       "\n",
       "       consequent support   support  confidence      lift  leverage  \\\n",
       "30431            0.104444  0.050000    0.775862  7.428467  0.043269   \n",
       "30426            0.104444  0.050000    0.775862  7.428467  0.043269   \n",
       "13022            0.104444  0.050000    0.775862  7.428467  0.043269   \n",
       "13024            0.100000  0.050000    0.737705  7.377049  0.043222   \n",
       "30433            0.100000  0.050000    0.737705  7.377049  0.043222   \n",
       "...                   ...       ...         ...       ...       ...   \n",
       "4836             0.910000  0.051111    0.696970  0.765901 -0.015622   \n",
       "25058            0.910000  0.050000    0.692308  0.760778 -0.015722   \n",
       "635              0.910000  0.052222    0.691176  0.759535 -0.016533   \n",
       "9677             0.910000  0.052222    0.691176  0.759535 -0.016533   \n",
       "25061            0.880000  0.050000    0.661765  0.752005 -0.016489   \n",
       "\n",
       "       conviction  \n",
       "30431    3.995556  \n",
       "30426    3.995556  \n",
       "13022    3.995556  \n",
       "13024    3.431250  \n",
       "30433    3.431250  \n",
       "...           ...  \n",
       "4836     0.297000  \n",
       "25058    0.292500  \n",
       "635      0.291429  \n",
       "9677     0.291429  \n",
       "25061    0.354783  \n",
       "\n",
       "[49606 rows x 9 columns]"
      ]
     },
     "execution_count": 52,
     "metadata": {},
     "output_type": "execute_result"
    }
   ],
   "source": [
    "rules = association_rules(rulezz, metric=\"confidence\", min_threshold=0.6)\n",
    "rules.sort_values('lift', ascending=False)"
   ]
  },
  {
   "cell_type": "code",
   "execution_count": 53,
   "metadata": {},
   "outputs": [],
   "source": [
    "a= list(rules.consequents)\n",
    "a= [list(i) for i in a]\n",
    "rules.consequents=a\n",
    "lst=[]\n",
    "for i in rules.consequents:\n",
    "    if i == ['Default']:\n",
    "        lst.append(True)\n",
    "    else:\n",
    "        lst.append(False)\n",
    "rules['S']=lst"
   ]
  },
  {
   "cell_type": "code",
   "execution_count": 54,
   "metadata": {},
   "outputs": [
    {
     "data": {
      "text/html": [
       "<div>\n",
       "<style scoped>\n",
       "    .dataframe tbody tr th:only-of-type {\n",
       "        vertical-align: middle;\n",
       "    }\n",
       "\n",
       "    .dataframe tbody tr th {\n",
       "        vertical-align: top;\n",
       "    }\n",
       "\n",
       "    .dataframe thead th {\n",
       "        text-align: right;\n",
       "    }\n",
       "</style>\n",
       "<table border=\"1\" class=\"dataframe\">\n",
       "  <thead>\n",
       "    <tr style=\"text-align: right;\">\n",
       "      <th></th>\n",
       "      <th>antecedents</th>\n",
       "      <th>consequents</th>\n",
       "      <th>antecedent support</th>\n",
       "      <th>consequent support</th>\n",
       "      <th>support</th>\n",
       "      <th>confidence</th>\n",
       "      <th>lift</th>\n",
       "      <th>leverage</th>\n",
       "      <th>conviction</th>\n",
       "      <th>S</th>\n",
       "    </tr>\n",
       "  </thead>\n",
       "  <tbody>\n",
       "    <tr>\n",
       "      <td>33315</td>\n",
       "      <td>(checkingstatus1_A11, foreign_A201, others_A10...</td>\n",
       "      <td>[Default]</td>\n",
       "      <td>0.113333</td>\n",
       "      <td>0.3</td>\n",
       "      <td>0.075556</td>\n",
       "      <td>0.666667</td>\n",
       "      <td>2.222222</td>\n",
       "      <td>0.041556</td>\n",
       "      <td>2.100000</td>\n",
       "      <td>True</td>\n",
       "    </tr>\n",
       "    <tr>\n",
       "      <td>15296</td>\n",
       "      <td>(job_A173, others_A101, savings_A61, checkings...</td>\n",
       "      <td>[Default]</td>\n",
       "      <td>0.115556</td>\n",
       "      <td>0.3</td>\n",
       "      <td>0.075556</td>\n",
       "      <td>0.653846</td>\n",
       "      <td>2.179487</td>\n",
       "      <td>0.040889</td>\n",
       "      <td>2.022222</td>\n",
       "      <td>True</td>\n",
       "    </tr>\n",
       "    <tr>\n",
       "      <td>45957</td>\n",
       "      <td>(checkingstatus1_A11, foreign_A201, others_A10...</td>\n",
       "      <td>[Default]</td>\n",
       "      <td>0.088889</td>\n",
       "      <td>0.3</td>\n",
       "      <td>0.057778</td>\n",
       "      <td>0.650000</td>\n",
       "      <td>2.166667</td>\n",
       "      <td>0.031111</td>\n",
       "      <td>2.000000</td>\n",
       "      <td>True</td>\n",
       "    </tr>\n",
       "    <tr>\n",
       "      <td>33270</td>\n",
       "      <td>(checkingstatus1_A11, others_A101, savings_A61...</td>\n",
       "      <td>[Default]</td>\n",
       "      <td>0.091111</td>\n",
       "      <td>0.3</td>\n",
       "      <td>0.057778</td>\n",
       "      <td>0.634146</td>\n",
       "      <td>2.113821</td>\n",
       "      <td>0.030444</td>\n",
       "      <td>1.913333</td>\n",
       "      <td>True</td>\n",
       "    </tr>\n",
       "    <tr>\n",
       "      <td>33229</td>\n",
       "      <td>(history_A32, checkingstatus1_A11, foreign_A20...</td>\n",
       "      <td>[Default]</td>\n",
       "      <td>0.084444</td>\n",
       "      <td>0.3</td>\n",
       "      <td>0.053333</td>\n",
       "      <td>0.631579</td>\n",
       "      <td>2.105263</td>\n",
       "      <td>0.028000</td>\n",
       "      <td>1.900000</td>\n",
       "      <td>True</td>\n",
       "    </tr>\n",
       "  </tbody>\n",
       "</table>\n",
       "</div>"
      ],
      "text/plain": [
       "                                             antecedents consequents  \\\n",
       "33315  (checkingstatus1_A11, foreign_A201, others_A10...   [Default]   \n",
       "15296  (job_A173, others_A101, savings_A61, checkings...   [Default]   \n",
       "45957  (checkingstatus1_A11, foreign_A201, others_A10...   [Default]   \n",
       "33270  (checkingstatus1_A11, others_A101, savings_A61...   [Default]   \n",
       "33229  (history_A32, checkingstatus1_A11, foreign_A20...   [Default]   \n",
       "\n",
       "       antecedent support  consequent support   support  confidence      lift  \\\n",
       "33315            0.113333                 0.3  0.075556    0.666667  2.222222   \n",
       "15296            0.115556                 0.3  0.075556    0.653846  2.179487   \n",
       "45957            0.088889                 0.3  0.057778    0.650000  2.166667   \n",
       "33270            0.091111                 0.3  0.057778    0.634146  2.113821   \n",
       "33229            0.084444                 0.3  0.053333    0.631579  2.105263   \n",
       "\n",
       "       leverage  conviction     S  \n",
       "33315  0.041556    2.100000  True  \n",
       "15296  0.040889    2.022222  True  \n",
       "45957  0.031111    2.000000  True  \n",
       "33270  0.030444    1.913333  True  \n",
       "33229  0.028000    1.900000  True  "
      ]
     },
     "execution_count": 54,
     "metadata": {},
     "output_type": "execute_result"
    }
   ],
   "source": [
    "#Top rules which lead to default\n",
    "parameter1 = rules[(rules['S']== True) & (rules['lift']>0)]\n",
    "parameter1.sort_values('confidence', ascending=False).head(5)"
   ]
  }
 ],
 "metadata": {
  "kernelspec": {
   "display_name": "Python 3",
   "language": "python",
   "name": "python3"
  },
  "language_info": {
   "codemirror_mode": {
    "name": "ipython",
    "version": 3
   },
   "file_extension": ".py",
   "mimetype": "text/x-python",
   "name": "python",
   "nbconvert_exporter": "python",
   "pygments_lexer": "ipython3",
   "version": "3.7.4"
  }
 },
 "nbformat": 4,
 "nbformat_minor": 2
}
