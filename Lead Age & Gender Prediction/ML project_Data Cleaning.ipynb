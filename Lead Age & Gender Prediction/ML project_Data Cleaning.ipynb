{
 "cells": [
  {
   "cell_type": "markdown",
   "metadata": {
    "colab_type": "text",
    "id": "Jv-4oJeAdY_d"
   },
   "source": [
    "### Reading in the file\n",
    "Importing required libraries, connecting to the drive, and reading the dataset"
   ]
  },
  {
   "cell_type": "code",
   "execution_count": 1,
   "metadata": {
    "colab": {},
    "colab_type": "code",
    "id": "HHvAsKjYcKkK"
   },
   "outputs": [],
   "source": [
    "import os\n",
    "import re\n",
    "import numpy as np\n",
    "import pandas as pd\n",
    "# from google.colab import drive\n",
    "import random\n",
    "# drive.mount('/content/drive')\n",
    "from nltk.corpus import stopwords\n",
    "from nltk.stem.snowball import SnowballStemmer"
   ]
  },
  {
   "cell_type": "code",
   "execution_count": 2,
   "metadata": {
    "colab": {},
    "colab_type": "code",
    "id": "ueTtz_B9cKkZ"
   },
   "outputs": [],
   "source": [
    "# df=pd.read_csv(\"/content/drive/My Drive/ESCP/ML project/train.csv\")\n",
    "df=pd.read_csv(\"/Users/andreasabia/Documents/ESCP/Machine Learning With Python/project/train.csv\")"
   ]
  },
  {
   "cell_type": "markdown",
   "metadata": {
    "colab_type": "text",
    "id": "VoEFQVeEcKl-"
   },
   "source": [
    "## Data Cleaning"
   ]
  },
  {
   "cell_type": "code",
   "execution_count": 3,
   "metadata": {},
   "outputs": [],
   "source": [
    "# Dropping all the missing values from the keywords colum\n",
    "df.dropna(inplace=True)\n",
    "df.reset_index(inplace=True, drop=True)\n",
    "\n",
    "# storing id,sex and gender\n",
    "target=df.drop('keywords', axis=1)\n",
    "\n",
    "#turning every keyword into a string\n",
    "df=df.applymap(str)\n",
    "\n",
    "# instantiating an empty dataframe\n",
    "output=pd.DataFrame()\n",
    "\n",
    "#getting the df ready for preprocessing\n",
    "df.drop(['age','sex','ID'], axis=1, inplace=True)\n",
    "\n",
    "#Introducing variables and datasets for data cleaning\n",
    "lexicon=pd.read_csv(\"/Users/andreasabia/Downloads/Lexique383/Lexique383.tsv\", sep='\\t')\n",
    "stop_words = stopwords.words('french')\n",
    "stemmer = SnowballStemmer('french')\n",
    "fr_dict=lexicon.ortho.tolist()"
   ]
  },
  {
   "cell_type": "code",
   "execution_count": 4,
   "metadata": {},
   "outputs": [],
   "source": [
    "#looping over the first 20000 records, loading them in batches\n",
    "for j in range(0,20000,100):\n",
    "\n",
    "        #  selecting a subset of the data\n",
    "        data=df[j:j+100]\n",
    "    \n",
    "        ### expanding the keywords into multiple columns\n",
    "        data=data['keywords'].str.get_dummies(sep=';')\n",
    "\n",
    "        \n",
    "        ### Deleting all the columns which are made of digits, or do not seem to make any sense\n",
    "        oldcols= data.columns.tolist()\n",
    "        newcols=[]\n",
    "        for i in range(len(oldcols)):\n",
    "            if bool(re.search(r'\\d', oldcols[i].split(':',1)[0]))==True or \\\n",
    "            bool(re.search(r'\\.',oldcols[i].split(':',1)[0]))==True or \\\n",
    "            bool(re.search(r'\\+',oldcols[i].split(':',1)[0]))==True or \\\n",
    "            bool(re.search(r'\\_',oldcols[i].split(':',1)[0]))==True or \\\n",
    "            oldcols[i].split(':',1)[0] in stop_words:\n",
    "                newcols.append('number')\n",
    "            else:\n",
    "                newcols.append(oldcols[i])\n",
    "\n",
    "        data.set_axis(newcols, axis=1, inplace=True)\n",
    "        data.drop(['number'], axis=1, inplace=True)\n",
    "\n",
    "        ### Inputting the value at the end of the string as the value in the column\n",
    "        for c,r in data.iterrows():\n",
    "            for i in range(len(data.columns)):\n",
    "                if r[i] != 0:\n",
    "                    r[i]=data.columns[i].split(':',1)[1]\n",
    "\n",
    "        ### Merging the columns which have the same keyword, by keeping the max for every record\n",
    "        oldcols=data.columns.tolist()\n",
    "        newcols=[]\n",
    "\n",
    "        for i in range(len(oldcols)):\n",
    "            newcols.append(oldcols[i].split(':',1)[0])\n",
    "        data.set_axis(newcols, axis=1, inplace=True)\n",
    "        \n",
    "        oldcols=data.columns.tolist()\n",
    "        newcols=[]\n",
    "\n",
    "        for i in newcols:\n",
    "            if i in fr_dict :\n",
    "                newcols.append(stemmer.stem(i))\n",
    "            else:\n",
    "                newcols.append(i)\n",
    "\n",
    "        data=data.replace(0,np.NaN)\n",
    "        \n",
    "        keyword=data.groupby(level=0, axis=1).max()\n",
    "\n",
    "        ### merging the various chunks\n",
    "\n",
    "        output=output.append(keyword, ignore_index=True, sort=True)\n"
   ]
  },
  {
   "cell_type": "code",
   "execution_count": 6,
   "metadata": {},
   "outputs": [],
   "source": [
    "# Deleting all columns that only have 1 instances of the searched keyword\n",
    "instances=output.count().tolist()\n",
    "\n",
    "for i in range(len(instances)):\n",
    "    if instances[i]==1:\n",
    "        instances[i]=1\n",
    "    else:\n",
    "        instances[i]=0\n",
    "\n",
    "colstodelete=[]\n",
    "for i in range(len(output.columns)):\n",
    "    if instances[i] == 1:\n",
    "        colstodelete.append(output.columns[i])\n",
    "\n",
    "output.drop(colstodelete, axis=1, inplace=True)"
   ]
  },
  {
   "cell_type": "code",
   "execution_count": 8,
   "metadata": {},
   "outputs": [],
   "source": [
    "cleandata=output.merge(target, how='inner', left_index=True, right_index=True)"
   ]
  },
  {
   "cell_type": "code",
   "execution_count": null,
   "metadata": {},
   "outputs": [],
   "source": [
    "cleandata.drop('index_x', axis=1, inplace=True)"
   ]
  },
  {
   "cell_type": "code",
   "execution_count": null,
   "metadata": {},
   "outputs": [],
   "source": [
    "# merging the dataset with the targets\n",
    "cleandata=pd.concat([target,output], axis=1)"
   ]
  },
  {
   "cell_type": "code",
   "execution_count": 11,
   "metadata": {
    "colab": {},
    "colab_type": "code",
    "id": "4XRGO-wcvI8K"
   },
   "outputs": [],
   "source": [
    "#saving the clean dataset\n",
    "cleandata.to_csv('clean_train3.csv', sep=';')"
   ]
  }
 ],
 "metadata": {
  "colab": {
   "collapsed_sections": [
    "Jv-4oJeAdY_d",
    "VoEFQVeEcKl-"
   ],
   "name": "ML project.ipynb",
   "provenance": []
  },
  "kernelspec": {
   "display_name": "Python 3",
   "language": "python",
   "name": "python3"
  },
  "language_info": {
   "codemirror_mode": {
    "name": "ipython",
    "version": 3
   },
   "file_extension": ".py",
   "mimetype": "text/x-python",
   "name": "python",
   "nbconvert_exporter": "python",
   "pygments_lexer": "ipython3",
   "version": "3.7.4"
  }
 },
 "nbformat": 4,
 "nbformat_minor": 1
}
