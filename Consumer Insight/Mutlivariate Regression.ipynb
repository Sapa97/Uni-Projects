{
 "cells": [
  {
   "cell_type": "code",
   "execution_count": 1,
   "metadata": {},
   "outputs": [],
   "source": [
    "import os\n",
    "import numpy as np\n",
    "import pandas as pd\n",
    "import statsmodels.api as sm"
   ]
  },
  {
   "cell_type": "code",
   "execution_count": 2,
   "metadata": {},
   "outputs": [],
   "source": [
    "os.chdir('/Users/andreasabia/Documents/ESCP/Consumer Insight & Analytics')\n",
    "df=pd.read_csv('data_svedka(1).csv', sep=';')\n",
    "df=df.loc[:,'BrandName':'total ad']"
   ]
  },
  {
   "cell_type": "code",
   "execution_count": 3,
   "metadata": {},
   "outputs": [
    {
     "name": "stdout",
     "output_type": "stream",
     "text": [
      "<class 'pandas.core.frame.DataFrame'>\n",
      "RangeIndex: 263 entries, 0 to 262\n",
      "Data columns (total 67 columns):\n",
      "BrandName              263 non-null object\n",
      "Brand ID               263 non-null int64\n",
      "Year                   263 non-null int64\n",
      "Absolut                263 non-null int64\n",
      "Aristocrat             263 non-null int64\n",
      "Barton                 263 non-null int64\n",
      "Belvedere              263 non-null int64\n",
      "Burnett                263 non-null int64\n",
      "Chopin                 263 non-null int64\n",
      "Crystal Palac          263 non-null int64\n",
      "Finlandia              263 non-null int64\n",
      "Fleischmann's          263 non-null int64\n",
      "Fris                   263 non-null int64\n",
      "Gilbey's               263 non-null int64\n",
      "Gordon's               263 non-null int64\n",
      "Grey Goose             263 non-null int64\n",
      "Kamchatka              263 non-null int64\n",
      "Ketel One              263 non-null int64\n",
      "Level                  263 non-null int64\n",
      "McCormick              263 non-null int64\n",
      "Polar Ice              263 non-null int64\n",
      "Popov                  263 non-null int64\n",
      "Pravda                 263 non-null int64\n",
      "Seagram's              263 non-null int64\n",
      "Skol                   263 non-null int64\n",
      "Sky                    263 non-null int64\n",
      "Smirnoff               263 non-null int64\n",
      "Stolicnaya             263 non-null int64\n",
      "Tanqueray              263 non-null int64\n",
      "Three Olives           263 non-null int64\n",
      "TotalSales             263 non-null int64\n",
      "LagTotalSales          263 non-null int64\n",
      "2LagTotalSales         263 non-null int64\n",
      "LnSales                263 non-null float64\n",
      "LnLSales               263 non-null float64\n",
      "Ln2Lsales              263 non-null float64\n",
      "LnDiff                 263 non-null float64\n",
      "diff                   263 non-null object\n",
      "IfDom                  263 non-null int64\n",
      "DollarSales            263 non-null float64\n",
      "PriceRerUnit           263 non-null float64\n",
      "LagPrice               250 non-null float64\n",
      "LnPrice                263 non-null float64\n",
      "LnLPrice               250 non-null float64\n",
      "Mag                    263 non-null float64\n",
      "News                   263 non-null float64\n",
      "Outdoor                263 non-null float64\n",
      "Broad                  263 non-null float64\n",
      "Print                  263 non-null float64\n",
      "LnMag                  263 non-null float64\n",
      "LnNews                 263 non-null float64\n",
      "LnOut                  263 non-null float64\n",
      "LnBroad                263 non-null float64\n",
      "LnPrint                263 non-null float64\n",
      "Tier1                  263 non-null int64\n",
      "Tier2                  263 non-null int64\n",
      "TotalMinusSales        263 non-null int64\n",
      "LagTotalMinusSales     263 non-null int64\n",
      "TierSales              263 non-null int64\n",
      "OutsideTierSales       263 non-null int64\n",
      "LagTierSales           263 non-null int64\n",
      "LagOutsideTierSales    263 non-null int64\n",
      "Firstintro             263 non-null int64\n",
      "Marketshare            263 non-null float64\n",
      "LagMktshare            263 non-null float64\n",
      "YearID                 263 non-null int64\n",
      "total ad               263 non-null float64\n",
      "dtypes: float64(22), int64(43), object(2)\n",
      "memory usage: 137.8+ KB\n",
      "None\n"
     ]
    }
   ],
   "source": [
    "#Checking all expected variables are in the dataset + exploration\n",
    "print(df.info())"
   ]
  },
  {
   "cell_type": "code",
   "execution_count": 4,
   "metadata": {},
   "outputs": [],
   "source": [
    "# Dropping missing values\n",
    "df=df.dropna()\n",
    "# Converting the target column into numerical\n",
    "df['diff'] = df['diff'].str.rstrip('%').astype('float') / 100.0\n",
    "# Standardizing the target variable (0-1)\n",
    "df['diff']=(df['diff']-df['diff'].min())/(df['diff'].max()-df['diff'].min())\n",
    "# Standardizing other variables (normalized)\n",
    "df['LagTotalMinusSales']=(df['LagTotalMinusSales']-df['LagTotalMinusSales'].mean())/df['LagTotalMinusSales'].std()"
   ]
  },
  {
   "cell_type": "markdown",
   "metadata": {},
   "source": [
    "### Question 1\n",
    "**Run a regression of the natural logarithm of change in sales on the natural logarithm of previous period’s prices. What is astonishing?**\n",
    "<br>\n",
    "An increase in price lead to an increase in sales. We can hence refer to the vodka as a Giffen good"
   ]
  },
  {
   "cell_type": "code",
   "execution_count": 5,
   "metadata": {},
   "outputs": [
    {
     "name": "stderr",
     "output_type": "stream",
     "text": [
      "/opt/anaconda3/lib/python3.7/site-packages/numpy/core/fromnumeric.py:2542: FutureWarning: Method .ptp is deprecated and will be removed in a future version. Use numpy.ptp instead.\n",
      "  return ptp(axis=axis, out=out, **kwargs)\n"
     ]
    }
   ],
   "source": [
    "target=df['diff']\n",
    "q1_data=df['LnLPrice']\n",
    "q1_data=sm.add_constant(q1_data)"
   ]
  },
  {
   "cell_type": "code",
   "execution_count": 6,
   "metadata": {},
   "outputs": [
    {
     "name": "stdout",
     "output_type": "stream",
     "text": [
      "                 Results: Ordinary least squares\n",
      "==================================================================\n",
      "Model:              OLS              Adj. R-squared:     0.026    \n",
      "Dependent Variable: diff             AIC:                -460.7409\n",
      "Date:               2020-05-04 16:57 BIC:                -453.6980\n",
      "No. Observations:   250              Log-Likelihood:     232.37   \n",
      "Df Model:           1                F-statistic:        7.656    \n",
      "Df Residuals:       248              Prob (F-statistic): 0.00608  \n",
      "R-squared:          0.030            Scale:              0.0091976\n",
      "--------------------------------------------------------------------\n",
      "               Coef.    Std.Err.     t      P>|t|    [0.025   0.975]\n",
      "--------------------------------------------------------------------\n",
      "const          0.0977     0.0329   2.9674   0.0033   0.0328   0.1625\n",
      "LnLPrice       0.0212     0.0077   2.7670   0.0061   0.0061   0.0363\n",
      "------------------------------------------------------------------\n",
      "Omnibus:             277.308      Durbin-Watson:         0.977    \n",
      "Prob(Omnibus):       0.000        Jarque-Bera (JB):      10679.910\n",
      "Skew:                4.664        Prob(JB):              0.000    \n",
      "Kurtosis:            33.631       Condition No.:         25       \n",
      "==================================================================\n",
      "\n"
     ]
    }
   ],
   "source": [
    "OLS_model=sm.OLS(target,q1_data)\n",
    "result=OLS_model.fit()\n",
    "print(result.summary2())"
   ]
  },
  {
   "cell_type": "markdown",
   "metadata": {},
   "source": [
    "### Question 2\n",
    "**To understand the influence of vodka quality, run a regression by adding tier 1 and tier 2 dummy variables.**\n",
    "<br>\n",
    "LnLPrice is now not significant anymore (p-value>0.05)"
   ]
  },
  {
   "cell_type": "code",
   "execution_count": 7,
   "metadata": {},
   "outputs": [],
   "source": [
    "q2_data=df[['LnLPrice','Tier1','Tier2']]\n",
    "q2_data=sm.add_constant(q2_data)"
   ]
  },
  {
   "cell_type": "code",
   "execution_count": 8,
   "metadata": {},
   "outputs": [
    {
     "name": "stdout",
     "output_type": "stream",
     "text": [
      "                            OLS Regression Results                            \n",
      "==============================================================================\n",
      "Dep. Variable:                   diff   R-squared:                       0.093\n",
      "Model:                            OLS   Adj. R-squared:                  0.082\n",
      "Method:                 Least Squares   F-statistic:                     8.451\n",
      "Date:                Mon, 04 May 2020   Prob (F-statistic):           2.29e-05\n",
      "Time:                        16:57:47   Log-Likelihood:                 240.83\n",
      "No. Observations:                 250   AIC:                            -473.7\n",
      "Df Residuals:                     246   BIC:                            -459.6\n",
      "Df Model:                           3                                         \n",
      "Covariance Type:            nonrobust                                         \n",
      "==============================================================================\n",
      "                 coef    std err          t      P>|t|      [0.025      0.975]\n",
      "------------------------------------------------------------------------------\n",
      "const          0.2254      0.046      4.877      0.000       0.134       0.316\n",
      "LnLPrice      -0.0176      0.012     -1.419      0.157      -0.042       0.007\n",
      "Tier1          0.0857      0.024      3.590      0.000       0.039       0.133\n",
      "Tier2          0.0706      0.018      3.868      0.000       0.035       0.107\n",
      "==============================================================================\n",
      "Omnibus:                      270.855   Durbin-Watson:                   1.011\n",
      "Prob(Omnibus):                  0.000   Jarque-Bera (JB):            10079.876\n",
      "Skew:                           4.495   Prob(JB):                         0.00\n",
      "Kurtosis:                      32.780   Cond. No.                         39.3\n",
      "==============================================================================\n",
      "\n",
      "Warnings:\n",
      "[1] Standard Errors assume that the covariance matrix of the errors is correctly specified.\n"
     ]
    }
   ],
   "source": [
    "OLS_model=sm.OLS(target,q2_data)\n",
    "result=OLS_model.fit()\n",
    "print(result.summary())"
   ]
  },
  {
   "cell_type": "markdown",
   "metadata": {},
   "source": [
    "### Question 3\n",
    "**Add the natural log of marketing expenditures on print, outdoor and broadcasting. What happens?**\n",
    "<br>\n",
    "Tier 1 becomes non significant, although still very close to the threshold. \n",
    "<br>\n",
    "LnMag is not significant."
   ]
  },
  {
   "cell_type": "code",
   "execution_count": 9,
   "metadata": {},
   "outputs": [],
   "source": [
    "q3_data=df[['LnLPrice','Tier1','Tier2','LnMag','LnNews','LnOut']]\n",
    "q3_data=sm.add_constant(q3_data)"
   ]
  },
  {
   "cell_type": "code",
   "execution_count": 10,
   "metadata": {},
   "outputs": [
    {
     "name": "stdout",
     "output_type": "stream",
     "text": [
      "                            OLS Regression Results                            \n",
      "==============================================================================\n",
      "Dep. Variable:                   diff   R-squared:                       0.162\n",
      "Model:                            OLS   Adj. R-squared:                  0.142\n",
      "Method:                 Least Squares   F-statistic:                     7.845\n",
      "Date:                Mon, 04 May 2020   Prob (F-statistic):           9.83e-08\n",
      "Time:                        16:57:47   Log-Likelihood:                 250.70\n",
      "No. Observations:                 250   AIC:                            -487.4\n",
      "Df Residuals:                     243   BIC:                            -462.8\n",
      "Df Model:                           6                                         \n",
      "Covariance Type:            nonrobust                                         \n",
      "==============================================================================\n",
      "                 coef    std err          t      P>|t|      [0.025      0.975]\n",
      "------------------------------------------------------------------------------\n",
      "const          0.2130      0.046      4.600      0.000       0.122       0.304\n",
      "LnLPrice      -0.0142      0.012     -1.140      0.256      -0.039       0.010\n",
      "Tier1          0.0582      0.030      1.952      0.052      -0.001       0.117\n",
      "Tier2          0.0700      0.023      3.102      0.002       0.026       0.114\n",
      "LnMag          0.0025      0.003      0.902      0.368      -0.003       0.008\n",
      "LnNews         0.0085      0.003      2.577      0.011       0.002       0.015\n",
      "LnOut         -0.0117      0.003     -3.701      0.000      -0.018      -0.005\n",
      "==============================================================================\n",
      "Omnibus:                      256.147   Durbin-Watson:                   1.264\n",
      "Prob(Omnibus):                  0.000   Jarque-Bera (JB):            10044.334\n",
      "Skew:                           4.057   Prob(JB):                         0.00\n",
      "Kurtosis:                      32.974   Cond. No.                         67.0\n",
      "==============================================================================\n",
      "\n",
      "Warnings:\n",
      "[1] Standard Errors assume that the covariance matrix of the errors is correctly specified.\n"
     ]
    }
   ],
   "source": [
    "OLS_model=sm.OLS(target,q3_data)\n",
    "result=OLS_model.fit()\n",
    "print(result.summary())"
   ]
  },
  {
   "cell_type": "markdown",
   "metadata": {},
   "source": [
    "### Question 4\n",
    "**To understand the influence of competition, run a regression by adding the sum of sales of all the competing brands in the previous year (“lagtotalminussales”) to the set of independent variables.**\n",
    "<br>"
   ]
  },
  {
   "cell_type": "code",
   "execution_count": 11,
   "metadata": {},
   "outputs": [],
   "source": [
    "q4_data=df[['LnLPrice','Tier1','Tier2','LnMag','LnNews','LnOut','LagTotalMinusSales']]\n",
    "q4_data=sm.add_constant(q4_data)"
   ]
  },
  {
   "cell_type": "code",
   "execution_count": 12,
   "metadata": {},
   "outputs": [
    {
     "name": "stdout",
     "output_type": "stream",
     "text": [
      "                            OLS Regression Results                            \n",
      "==============================================================================\n",
      "Dep. Variable:                   diff   R-squared:                       0.203\n",
      "Model:                            OLS   Adj. R-squared:                  0.180\n",
      "Method:                 Least Squares   F-statistic:                     8.823\n",
      "Date:                Mon, 04 May 2020   Prob (F-statistic):           1.15e-09\n",
      "Time:                        16:57:47   Log-Likelihood:                 256.98\n",
      "No. Observations:                 250   AIC:                            -498.0\n",
      "Df Residuals:                     242   BIC:                            -469.8\n",
      "Df Model:                           7                                         \n",
      "Covariance Type:            nonrobust                                         \n",
      "======================================================================================\n",
      "                         coef    std err          t      P>|t|      [0.025      0.975]\n",
      "--------------------------------------------------------------------------------------\n",
      "const                  0.2481      0.046      5.355      0.000       0.157       0.339\n",
      "LnLPrice              -0.0249      0.013     -1.986      0.048      -0.050      -0.000\n",
      "Tier1                  0.0609      0.029      2.092      0.037       0.004       0.118\n",
      "Tier2                  0.0689      0.022      3.123      0.002       0.025       0.112\n",
      "LnMag                  0.0030      0.003      1.086      0.278      -0.002       0.008\n",
      "LnNews                 0.0093      0.003      2.886      0.004       0.003       0.016\n",
      "LnOut                 -0.0066      0.003     -1.930      0.055      -0.013       0.000\n",
      "LagTotalMinusSales     0.0243      0.007      3.531      0.000       0.011       0.038\n",
      "==============================================================================\n",
      "Omnibus:                      258.441   Durbin-Watson:                   1.272\n",
      "Prob(Omnibus):                  0.000   Jarque-Bera (JB):            10905.646\n",
      "Skew:                           4.082   Prob(JB):                         0.00\n",
      "Kurtosis:                      34.309   Cond. No.                         68.1\n",
      "==============================================================================\n",
      "\n",
      "Warnings:\n",
      "[1] Standard Errors assume that the covariance matrix of the errors is correctly specified.\n"
     ]
    }
   ],
   "source": [
    "OLS_model=sm.OLS(target,q4_data)\n",
    "result=OLS_model.fit()\n",
    "print(result.summary())"
   ]
  },
  {
   "cell_type": "markdown",
   "metadata": {},
   "source": [
    "### Question 5\n",
    "**To measure the sales growth of new brands compared with the existent ones, include the variables “Firstintro” to the variable set.**\n",
    "<br>"
   ]
  },
  {
   "cell_type": "code",
   "execution_count": 13,
   "metadata": {},
   "outputs": [],
   "source": [
    "q5_data=df[['LnLPrice','Tier1','Tier2','LnMag','LnNews','LnOut','LagTotalMinusSales','Firstintro']]\n",
    "q5_data=sm.add_constant(q5_data)"
   ]
  },
  {
   "cell_type": "code",
   "execution_count": 14,
   "metadata": {},
   "outputs": [
    {
     "name": "stdout",
     "output_type": "stream",
     "text": [
      "                            OLS Regression Results                            \n",
      "==============================================================================\n",
      "Dep. Variable:                   diff   R-squared:                       0.382\n",
      "Model:                            OLS   Adj. R-squared:                  0.361\n",
      "Method:                 Least Squares   F-statistic:                     18.61\n",
      "Date:                Mon, 04 May 2020   Prob (F-statistic):           1.19e-21\n",
      "Time:                        16:57:47   Log-Likelihood:                 288.70\n",
      "No. Observations:                 250   AIC:                            -559.4\n",
      "Df Residuals:                     241   BIC:                            -527.7\n",
      "Df Model:                           8                                         \n",
      "Covariance Type:            nonrobust                                         \n",
      "======================================================================================\n",
      "                         coef    std err          t      P>|t|      [0.025      0.975]\n",
      "--------------------------------------------------------------------------------------\n",
      "const                  0.3322      0.042      7.888      0.000       0.249       0.415\n",
      "LnLPrice              -0.0477      0.011     -4.185      0.000      -0.070      -0.025\n",
      "Tier1                  0.0669      0.026      2.599      0.010       0.016       0.118\n",
      "Tier2                  0.0747      0.019      3.834      0.000       0.036       0.113\n",
      "LnMag                  0.0071      0.002      2.873      0.004       0.002       0.012\n",
      "LnNews                 0.0054      0.003      1.864      0.064      -0.000       0.011\n",
      "LnOut                 -0.0084      0.003     -2.784      0.006      -0.014      -0.002\n",
      "LagTotalMinusSales     0.0205      0.006      3.371      0.001       0.009       0.033\n",
      "Firstintro             0.3495      0.042      8.343      0.000       0.267       0.432\n",
      "==============================================================================\n",
      "Omnibus:                      197.135   Durbin-Watson:                   1.348\n",
      "Prob(Omnibus):                  0.000   Jarque-Bera (JB):             4150.847\n",
      "Skew:                           2.887   Prob(JB):                         0.00\n",
      "Kurtosis:                      22.108   Cond. No.                         72.5\n",
      "==============================================================================\n",
      "\n",
      "Warnings:\n",
      "[1] Standard Errors assume that the covariance matrix of the errors is correctly specified.\n"
     ]
    }
   ],
   "source": [
    "OLS_model=sm.OLS(target,q5_data)\n",
    "result=OLS_model.fit()\n",
    "print(result.summary())"
   ]
  },
  {
   "cell_type": "markdown",
   "metadata": {},
   "source": [
    "### Question 6\n",
    "**Why does the coefficient for price and advertising change?**\n",
    "<br>\n",
    "Perhaps, the effect of tier 1 and tier 2 features change the effect the price would have on the change in sales. Indeed, for a higher tiered Vodka, we are willing to pay more, but within the tiers, perhaps the customers are not willing to pay more."
   ]
  },
  {
   "cell_type": "markdown",
   "metadata": {},
   "source": [
    "### Question 7\n",
    "**What recommendations do you have for the producer of Svedka?**\n",
    "<br>\n",
    "They should watch out from the new entrants in the market, who are apparently growing in sales.\n",
    "<br>\n",
    "They should focus their marketing spend on magazine advertisements.\n",
    "<br>\n",
    "They should be careful with increasing their price, as it leads to a decrease in sales."
   ]
  },
  {
   "cell_type": "code",
   "execution_count": null,
   "metadata": {},
   "outputs": [],
   "source": []
  },
  {
   "cell_type": "code",
   "execution_count": null,
   "metadata": {},
   "outputs": [],
   "source": []
  }
 ],
 "metadata": {
  "kernelspec": {
   "display_name": "Python 3",
   "language": "python",
   "name": "python3"
  },
  "language_info": {
   "codemirror_mode": {
    "name": "ipython",
    "version": 3
   },
   "file_extension": ".py",
   "mimetype": "text/x-python",
   "name": "python",
   "nbconvert_exporter": "python",
   "pygments_lexer": "ipython3",
   "version": "3.7.4"
  }
 },
 "nbformat": 4,
 "nbformat_minor": 2
}
